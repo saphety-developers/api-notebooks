{
 "cells": [
  {
   "cell_type": "markdown",
   "metadata": {},
   "source": [
    "# Send messages to Saphety (ReceiveMessage)\n",
    "Although this service is called ReceiveMessage, it allows you to send a message to Saphety’s network;   \n",
    "The method name (ReceiveMessage) is given from Saphety’s network perspective.   \n",
    "The following example shows how to send a file to Saphety. This file is just an example; its content can be any commercial document (Order, Invoice etc.)."
   ]
  },
  {
   "cell_type": "code",
   "execution_count": 33,
   "metadata": {},
   "outputs": [],
   "source": [
    "fileText = '<invoice><number>inv001<number><date>2019-04-19</date><value>115.00</value></invoice>'"
   ]
  },
  {
   "cell_type": "markdown",
   "metadata": {},
   "source": [
    "First read the file content and convert to it Base64. Following is:"
   ]
  },
  {
   "cell_type": "code",
   "execution_count": 34,
   "metadata": {},
   "outputs": [],
   "source": [
    "fileBase64 = 'PGludm9pY2U+DQo8bnVtYmVyPmludjAwMTxudW1iZXI+DQo8ZGF0ZT4yMDE5LTA0LTE5PC9kYXRlPg0KPHZhbHVlPjExNSwwMDwvdmFsdWU+DQo8L2ludm9pY2U+'"
   ]
  },
  {
   "cell_type": "markdown",
   "metadata": {},
   "source": [
    "The file content encoded in Base64 is transmitted in the Base64Data element."
   ]
  },
  {
   "cell_type": "markdown",
   "metadata": {},
   "source": [
    "### Create the request object\n",
    "The request object have the following values:\n",
    "- **Sender**   \n",
    "Your UserId (Partner Id)\n",
    "- **Receiver**   \n",
    "Saphety WS endpoint: QA urn:netdoc:qa; PRD: urn:netdoc:prd\n",
    "- **ContentType**   \n",
    "File content type, ex: application/xml\n",
    "- **Base64Data**   \n",
    "File contents encoded in Base64\n",
    "- **MessageId**   \n",
    "A message identifier for control, use a GUID\n",
    "- **Filename**   \n",
    "The filename being transferred"
   ]
  },
  {
   "cell_type": "code",
   "execution_count": 35,
   "metadata": {},
   "outputs": [],
   "source": [
    "# Set Environment\n",
    "#Integration\n",
    "#server_base_adress = \"saphetydoc-int.saphety.com/TradeHttp/MessageServiceRest\"\n",
    "#Quality\n",
    "server_base_adress = \"www-qa.netdocs.com.pt/TradeHttp/MessageServiceRest\"\n",
    "#Production\n",
    "#server_base_adress = \"ws.netdocs.com.pt/TradeHttp/MessageServiceRes\""
   ]
  },
  {
   "cell_type": "code",
   "execution_count": 38,
   "metadata": {},
   "outputs": [],
   "source": [
    "#Set authorization data\n",
    "authorization = 'PT500111111:Saphety#_2021'\n",
    "token = 'UFQ1MDAxMTExMTE6U2FwaGV0eSNfMjAyMQ=='\n",
    "service_url = \"https://\" + server_base_adress + \"/ReceiveMessage\""
   ]
  },
  {
   "cell_type": "markdown",
   "metadata": {},
   "source": [
    "### Service Response from ReceiveMessage\n",
    "For a successful request, the http code for the result is 200   \n",
    "Following is a response body for a success call to Receive Message:"
   ]
  },
  {
   "cell_type": "code",
   "execution_count": 45,
   "metadata": {},
   "outputs": [
    {
     "name": "stdout",
     "output_type": "stream",
     "text": [
      "{\n",
      "    \"Errors\": [],\n",
      "    \"IsValid\": true,\n",
      "    \"ResultCode\": 200,\n",
      "    \"ResultData\": {\n",
      "        \"Messages\": []\n",
      "    }\n",
      "}\n"
     ]
    }
   ],
   "source": [
    "## Get a JWT token from your username and password\n",
    "import requests\n",
    "import json\n",
    "\n",
    "payload = {\n",
    "    'Sender': 'PT500111111',\n",
    "    'Receiver': 'urn:netdoc:qa',\n",
    "    'ContentType': 'application/xml',\n",
    "    'Base64Data': fileBase64,\n",
    "    'MessageId': 'de10ebd5-eef5-421e-9ee5-f08f59dfa327',\n",
    "    'Filename':'invoice001.xml'\n",
    "}\n",
    "# Payload goes in json, serialize the payloal object to json\n",
    "request_data=json.dumps(payload)\n",
    "# Indicate in header that payload is json\n",
    "headers = {\n",
    "    'Authorization': 'Basic ' + token,\n",
    "    'Content-type': 'application/json'\n",
    "}\n",
    "# POST request to get a token\n",
    "response = requests.request(\"POST\", service_url, data=request_data, headers=headers)\n",
    "# Serializethe response\n",
    "json_response = json.loads(response.text)\n",
    "print(json.dumps(json_response, indent=4))"
   ]
  },
  {
   "cell_type": "markdown",
   "metadata": {},
   "source": [
    "Pay attention that for an error request the http code of the result is 200.    \n",
    "It is required to check the response content for possible errors:"
   ]
  },
  {
   "cell_type": "code",
   "execution_count": 46,
   "metadata": {},
   "outputs": [
    {
     "name": "stdout",
     "output_type": "stream",
     "text": [
      "{\n",
      "    \"Errors\": [\n",
      "        {\n",
      "            \"Code\": null,\n",
      "            \"Description\": \"Invalid length for a Base-64 char array or string.\",\n",
      "            \"ExplanationValues\": [],\n",
      "            \"Field\": null\n",
      "        }\n",
      "    ],\n",
      "    \"IsValid\": false,\n",
      "    \"ResultCode\": 500,\n",
      "    \"ResultData\": null\n",
      "}\n"
     ]
    }
   ],
   "source": [
    "## Get a JWT token from your username and password\n",
    "import requests\n",
    "import json\n",
    "\n",
    "payload = {\n",
    "    'Sender': 'PT500111111',\n",
    "    'Receiver': 'urn:netdoc:qa',\n",
    "    'ContentType': 'application/xml',\n",
    "    'Base64Data': 'fileBase64',\n",
    "    'MessageId': 'de10ebd5-eef5-421e-9ee5-f08f59dfa327',\n",
    "    'Filename':'invoice001.xml'\n",
    "}\n",
    "# Payload goes in json, serialize the payloal object to json\n",
    "request_data=json.dumps(payload)\n",
    "# Indicate in header that payload is json\n",
    "headers = {\n",
    "    'Authorization': 'Basic ' + token,\n",
    "    'Content-type': 'application/json'\n",
    "}\n",
    "# POST request to get a token\n",
    "response = requests.request(\"POST\", service_url, data=request_data, headers=headers)\n",
    "# Serializethe response\n",
    "json_response = json.loads(response.text)\n",
    "print(json.dumps(json_response, indent=4))"
   ]
  },
  {
   "cell_type": "markdown",
   "metadata": {},
   "source": [
    "## Retrieve messages from Saphety (GetMessageData)\n",
    "Saphety web services act like a mailbox for your incoming messages.   \n",
    "It is a pool system and you have to pool the messages that are stored in your message queue.   \n",
    "You need to performer the following steps:   \n",
    "1. Query your queue to retrieve the list of messages available to download (note that any of this messages can be any document type, ORDERS, INVOICE, DESADV, STATUS, etc); for each message you will obtain the message identifier (Message ID). This is done using the service **ListQueuedMessageIds**.  \n",
    "2. With the previous Message ID, you can obtain your message content. This is done using the service **GetMessageData**.\n",
    "3. After downloading a message, you need to mark it as “read”, so that message is removed from your queue. This is done using the service **ChangeQueuedToProcessed**"
   ]
  },
  {
   "cell_type": "markdown",
   "metadata": {},
   "source": [
    "## Retrieving messages from the message queue\n",
    "### Calling the service ListQueuedMessageIds\n",
    "This service is called with a simple GET with the following url parameters:"
   ]
  },
  {
   "cell_type": "code",
   "execution_count": 57,
   "metadata": {},
   "outputs": [
    {
     "name": "stdout",
     "output_type": "stream",
     "text": [
      "https://www-qa.netdocs.com.pt/TradeHttp/MessageServiceRest/ListQueuedMessageIds?Receiver={receiver}\n"
     ]
    }
   ],
   "source": [
    "print('https://' + server_base_adress + '/ListQueuedMessageIds?Receiver={receiver}')"
   ]
  },
  {
   "cell_type": "markdown",
   "metadata": {},
   "source": [
    "Where **{receiver}** is your **UserId** in Saphety network.   \n",
    "This will list all messages that are available to download.   \n",
    "This service also support additional fields capabilities such as the “**Sender**”. Consult the Swagger documentation to more details.   \n",
    "Sample request:"
   ]
  },
  {
   "cell_type": "code",
   "execution_count": 86,
   "metadata": {},
   "outputs": [
    {
     "name": "stdout",
     "output_type": "stream",
     "text": [
      "{\n",
      "    \"Errors\": [],\n",
      "    \"IsValid\": true,\n",
      "    \"ResultCode\": 200,\n",
      "    \"ResultData\": {\n",
      "        \"MessageIds\": [\n",
      "            {\n",
      "                \"MessageId\": \"20200414164216.db3c28f1-31a7-4a02-9c68-459fe4d56faa@L-QA-FES02\",\n",
      "                \"Receiver\": \"PT500111111\",\n",
      "                \"Sender\": \"5600000002186\"\n",
      "            },\n",
      "            {\n",
      "                \"MessageId\": \"20200414164315.842d707d-5764-4f0c-8003-6592f1ecc4cd@L-QA-FES02\",\n",
      "                \"Receiver\": \"PT500111111\",\n",
      "                \"Sender\": \"5600000002186\"\n",
      "            }\n",
      "        ]\n",
      "    }\n",
      "}\n"
     ]
    }
   ],
   "source": [
    "receiver = 'PT500111111' \n",
    "# Build the url\n",
    "service_url = 'https://' + server_base_adress + '/ListQueuedMessageIds?Receiver=' + receiver;\n",
    "# Use GET to send the request\n",
    "response = requests.request(\"GET\", service_url, headers=headers)\n",
    "# Serializethe response\n",
    "json_response = json.loads(response.text)\n",
    "# The result is cutted for better readability\n",
    "json_response[\"ResultData\"][\"MessageIds\"] = json_response[\"ResultData\"][\"MessageIds\"][:2];\n",
    "print(json.dumps(json_response, indent=4))"
   ]
  },
  {
   "cell_type": "markdown",
   "metadata": {},
   "source": [
    "The previous response indicate you have 2 messages available to download with the Message Id:"
   ]
  },
  {
   "cell_type": "code",
   "execution_count": 87,
   "metadata": {},
   "outputs": [
    {
     "name": "stdout",
     "output_type": "stream",
     "text": [
      "\"20200414164216.db3c28f1-31a7-4a02-9c68-459fe4d56faa@L-QA-FES02\"\n",
      "\"20200414164315.842d707d-5764-4f0c-8003-6592f1ecc4cd@L-QA-FES02\"\n"
     ]
    }
   ],
   "source": [
    "for message in json_response[\"ResultData\"][\"MessageIds\"]:\n",
    "    print(json.dumps(message[\"MessageId\"], indent=4))"
   ]
  },
  {
   "cell_type": "markdown",
   "metadata": {},
   "source": [
    "### Calling the service GetMessageData\n",
    "To retrieve the message content, you need to call the **GetMessageData** as following:"
   ]
  },
  {
   "cell_type": "code",
   "execution_count": 88,
   "metadata": {},
   "outputs": [
    {
     "name": "stdout",
     "output_type": "stream",
     "text": [
      "https://www-qa.netdocs.com.pt/TradeHttp/MessageServiceRest/GetMessageData?Receiver={receiver}&MessageId={messageId}&Sender={sender}\n"
     ]
    }
   ],
   "source": [
    "print('https://' + server_base_adress + '/GetMessageData?Receiver={receiver}&MessageId={messageId}&Sender={sender}')"
   ]
  },
  {
   "cell_type": "code",
   "execution_count": 89,
   "metadata": {},
   "outputs": [
    {
     "name": "stdout",
     "output_type": "stream",
     "text": [
      "{\n",
      "    \"Errors\": [],\n",
      "    \"IsValid\": true,\n",
      "    \"ResultCode\": 200,\n",
      "    \"ResultData\": {\n",
      "        \"Base64Data\": \"PD94bWwgdmVyc2lvbj0iMS4wIiBlbmNvZGluZz0idXRmLTgiPz4NCjxkb2N1bWVudFN0YXR1cyB4bWxuczp4c2k9Imh0dHA6Ly93d3cudzMub3JnLzIwMDEvWE1MU2NoZW1hLWluc3RhbmNlIiB4bWxuczp4c2Q9Imh0dHA6Ly93d3cudzMub3JnLzIwMDEvWE1MU2NoZW1hIiBkb2NJbnN0YW5jZUlkPSI1YTdlZGI5NC01MzBkLTNhNWYtYjk3OS1kODg0OWMzZWM1MjEiIGRvY3VtZW50Q29ycmVsYXRpb25JZD0iNGQ4NjllOTAtMTc2Ni00MDU4LTk0NTMtOTg5YzcyYmM2ODlmIj4NCiAgPG9yaWdpbmF0b3JFbnRpdHlDb2RlPjU2MDAwMDAwMDIxODY8L29yaWdpbmF0b3JFbnRpdHlDb2RlPg0KICA8ZG9jdW1lbnROdW1iZXI+VFNUXzIwMjEwNjA4MDE8L2RvY3VtZW50TnVtYmVyPg0KICA8cmVmZXJlZERvY3VtZW50Q29ycmVsYXRpb25JZD4yMDIxMDYwODE0MjAwNS41YjA1MTVkOS1hYmJkLTRmN2YtYjAxYS02ZTM4NDgyOTIwZjM8L3JlZmVyZWREb2N1bWVudENvcnJlbGF0aW9uSWQ+DQogIDxyZWZlcmVkRG9jdW1lbnRJZGVudGlmaWNhdGlvbj4NCiAgICA8RG9jdW1lbnROdW1iZXI+VFNUXzIwMjEwNjA4MDE8L0RvY3VtZW50TnVtYmVyPg0KICAgIDxEb2N1bWVudFR5cGU+SU5WT0lDRTwvRG9jdW1lbnRUeXBlPg0KICAgIDxEb2N1bWVudERhdGU+MjAxOS0wMS0xNjwvRG9jdW1lbnREYXRlPg0KICAgIDxPcmlnaW4+DQogICAgICA8SWQ+NTAwMTExMTExPC9JZD4NCiAgICAgIDxDb3VudHJ5PlBUPC9Db3VudHJ5Pg0KICAgIDwvT3JpZ2luPg0KICAgIDxEZXN0aW5hdGlvbj4NCiAgICAgIDxJZD41MTIwOTY0ODE8L0lkPg0KICAgICAgPENvdW50cnk+UFQ8L0NvdW50cnk+DQogICAgPC9EZXN0aW5hdGlvbj4NCiAgPC9yZWZlcmVkRG9jdW1lbnRJZGVudGlmaWNhdGlvbj4NCiAgPHN0YXR1cz5ET0NTVFNfU0VOVDwvc3RhdHVzPg0KICA8c3RhdHVzRGF0ZT4yMDIxLTA2LTA4IDE0OjIwOjI4PC9zdGF0dXNEYXRlPg0KICA8ZG9Ob3RTdG9yZU9yaWdpbmFsRm9ybWF0PmZhbHNlPC9kb05vdFN0b3JlT3JpZ2luYWxGb3JtYXQ+DQogIDxkcnlSdW5Db25maWd1cmF0aW9uPg0KICAgIDxJc0RyeVJ1bj5mYWxzZTwvSXNEcnlSdW4+DQogIDwvZHJ5UnVuQ29uZmlndXJhdGlvbj4NCiAgPHN0YXR1c1NvdXJjZT5JbnRlZ3JhdGlvbjwvc3RhdHVzU291cmNlPg0KPC9kb2N1bWVudFN0YXR1cz4=\",\n",
      "        \"ContentType\": \"application/xml\",\n",
      "        \"Filename\": \"STATUS-MESSAGE-DOCSTS_SENT-202106081420-d756e5c8-5737-4d87-bab4-6787d04eb06c.xml\",\n",
      "        \"MessageId\": \"20210608142029.91a7f766-c2eb-4dd3-9274-520c2b28a806@L-QA-FES02\",\n",
      "        \"Receiver\": \"PT500111111\",\n",
      "        \"Sender\": \"5600000002186\"\n",
      "    }\n",
      "}\n"
     ]
    }
   ],
   "source": [
    "receiver = 'PT500111111'\n",
    "messageId = '20210608142029.91a7f766-c2eb-4dd3-9274-520c2b28a806@L-QA-FES02'\n",
    "sender = '5600000002186'\n",
    "# Build the url\n",
    "service_url = 'https://' + server_base_adress + '/GetMessageData?Receiver=' + receiver + '&MessageId=' + messageId + '&Sender=' + sender;\n",
    "# Use GET to send the request\n",
    "response = requests.request(\"GET\", service_url, headers=headers)\n",
    "# Serializethe response\n",
    "json_response = json.loads(response.text)\n",
    "print(json.dumps(json_response, indent=4))"
   ]
  },
  {
   "cell_type": "markdown",
   "metadata": {},
   "source": [
    "The **ContentType** indicate the file type being download (ex: XML, Text, CSV, etc) and the content itself is encoded in Base64 in the **Base64Data**."
   ]
  },
  {
   "cell_type": "markdown",
   "metadata": {},
   "source": [
    "### Calling the service ChangeQueuedToProcessed\n",
    "After retrieving the documents from your queue, it is required to mark then as **processed**. This operation removes the document from the queue."
   ]
  },
  {
   "cell_type": "code",
   "execution_count": 90,
   "metadata": {},
   "outputs": [
    {
     "name": "stdout",
     "output_type": "stream",
     "text": [
      "{\n",
      "    \"Errors\": [],\n",
      "    \"IsValid\": true,\n",
      "    \"ResultCode\": 200,\n",
      "    \"ResultData\": null\n",
      "}\n"
     ]
    }
   ],
   "source": [
    "service_url = \"https://\" + server_base_adress + \"/ChangeQueuedToProcessed\"\n",
    "payload = {\n",
    "    'Sender': sender,\n",
    "    'Receiver': receiver,\n",
    "    'MessageId': messageId\n",
    "}\n",
    "# Payload goes in json, serialize the payloal object to json\n",
    "request_data=json.dumps(payload)\n",
    "# Indicate in header that payload is json\n",
    "headers = {\n",
    "    'Authorization': 'Basic ' + token,\n",
    "    'Content-type': 'application/json'\n",
    "}\n",
    "# POST request to get a token\n",
    "response = requests.request(\"POST\", service_url, data=request_data, headers=headers)\n",
    "# Serializethe response\n",
    "json_response = json.loads(response.text)\n",
    "print(json.dumps(json_response, indent=4))"
   ]
  }
 ],
 "metadata": {
  "kernelspec": {
   "display_name": "Python 3",
   "language": "python",
   "name": "python3"
  },
  "language_info": {
   "codemirror_mode": {
    "name": "ipython",
    "version": 3
   },
   "file_extension": ".py",
   "mimetype": "text/x-python",
   "name": "python",
   "nbconvert_exporter": "python",
   "pygments_lexer": "ipython3",
   "version": "3.8.5"
  }
 },
 "nbformat": 4,
 "nbformat_minor": 4
}
