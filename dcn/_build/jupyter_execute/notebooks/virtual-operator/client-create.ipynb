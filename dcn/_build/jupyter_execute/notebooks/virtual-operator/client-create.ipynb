{
 "cells": [
  {
   "cell_type": "markdown",
   "metadata": {},
   "source": [
    "# Create client\n",
    "Use this service to **add/register** a client into your virtual operator account. \n",
    "\n",
    "### Service steps\n",
    "1. Get a token from your credentials by calling the service **_Account/getToken_**\n",
    "2. Create your client calling the **_asynchronous_** service **_VirtualOperator/client_**;"
   ]
  },
  {
   "cell_type": "markdown",
   "metadata": {},
   "source": [
    "#### Asynchrounous\n",
    "The service **_VirtualOperator/client_** is an asynchrounous service.<br>\n",
    "Since this is an integration API, thousands of requests can be sent at the same time.<br>"
   ]
  },
  {
   "cell_type": "markdown",
   "metadata": {},
   "source": [
    "#### Response structure from server\n",
    "When a request is well formed and the authentication data is correct the system responds with a message envelope as follows: \n",
    "\n",
    "```Javascript\n",
    "{\n",
    "\t\"CorrelationId\": \"<GUID>\", /* for correlation purposes */\n",
    "\t\"IsValid\": true,           /* false in case of erros */\n",
    "\t\"Errors\": [],              /* if empty is a good signal */\n",
    "\t\"Data\": \"<Service Response Data>\"   /* the data retuned ex: token, invoice status .. dependent on the service called */\n",
    "}\n",
    "```\n"
   ]
  },
  {
   "cell_type": "markdown",
   "metadata": {},
   "source": [
    "## 1. Get a token (Account/getToken)\n",
    "* For **Test purposes**, the **_user_** and **_password_** defined at **Saphety Invoice Network - Quality environment**<br>\n",
    "or\n",
    "* For **Production**, the **_user_** and **_password_** defined at **Saphety Invoice Network - Production environment**\n",
    "\n",
    "Use those credentials to get a token at:\n",
    "```\n",
    "https://<ServerBaseAddress>/api/Account/getToken\n",
    "```"
   ]
  },
  {
   "cell_type": "code",
   "execution_count": 1,
   "metadata": {},
   "outputs": [],
   "source": [
    "# Saphety Invoice Network - Integration Environment\n",
    "server_base_adress = \"dcn-solution-qa.saphety.com/Dcn.Business.WebApi\""
   ]
  },
  {
   "cell_type": "code",
   "execution_count": 2,
   "metadata": {},
   "outputs": [],
   "source": [
    "import requests\n",
    "import json\n",
    "\n",
    "# SIN account service url\n",
    "service_url = \"https://\" + server_base_adress + \"/api/Account/getToken\"\n",
    "\n",
    "# Example of username and password\n",
    "username = 'sin_api_vo_documentation_user@saphety.com'\n",
    "password = 'DocUser2022@'\n",
    "\n",
    "# Auhtentication data goes in payload as json\n",
    "payload = {\n",
    "      'Username': username,\n",
    "      'Password': password\n",
    "}\n",
    "# Payload goes in json, serialize the payloal object to json\n",
    "request_data=json.dumps(payload)\n",
    "# Indicate in header that payload is json\n",
    "headers = {\n",
    "    'content-type': 'application/json'\n",
    "    }\n",
    "# POST request to get a token\n",
    "response = requests.request(\"POST\", service_url, data=request_data, headers=headers)"
   ]
  },
  {
   "cell_type": "markdown",
   "metadata": {},
   "source": [
    "<font color=red>\\* **Note:** the credentials (user and password) in this documentation were created by Saphety and can only be used in the Saphety Invoice Network - Quality environment. For tests we recommend that you use your own credentials.</font>"
   ]
  },
  {
   "cell_type": "code",
   "execution_count": 3,
   "metadata": {},
   "outputs": [
    {
     "name": "stdout",
     "output_type": "stream",
     "text": [
      "{\n",
      "    \"CorrelationId\": \"483dda08-6243-4af5-a66c-b3e684dd27fd\",\n",
      "    \"IsValid\": true,\n",
      "    \"Errors\": [],\n",
      "    \"Data\": \"eyJhbGciOiJIUzI1NiIsInR5cCI6IkpXVCJ9.eyJuYW1laWQiOiJlNzYyZDEzOS1lOGY5LTRkYjAtODIxNy0yZTliNzUxYjUyOTUiLCJ1bmlxdWVfbmFtZSI6InNpbl9hcGlfdm9fZG9jdW1lbnRhdGlvbl91c2VyQHNhcGhldHkuY29tIiwic3lzdGVtX2FkbWluIjoiRmFsc2UiLCJzZXNzaW9uX2lkIjoiNjA4YTVmMGEtMTUzNi00NTc4LWFiMmUtYWNmZmI1N2U0MDhkIiwiaXZvIjoiVklSVFVBTE9QRVJBVE9SIiwidm8iOiJTYXBoZXR5IiwicmwiOiJWaXJ0dWFsT3BlcmF0b3IiLCJjcCI6IlBUOTUwMzk0MDMzIiwibmJmIjoxNjY2MTk3MjIzLCJleHAiOjE2NzIyMDA3NjMsImlhdCI6MTY2NjE5NzE2MywiaXNzIjoiaHR0cHM6Ly93d3cuc2FwaGV0eS5jb20vIiwiYXVkIjoiaHR0cHM6Ly93d3cuc2FwaGV0eS5jb20vRGNuU2VydmVyIn0.5zapw-aL0U_vinEjxwhIafUT3pGjDkX3u3RC_TufATo\"\n",
      "}\n"
     ]
    }
   ],
   "source": [
    "# Formating the response to json for visualization purposes only\n",
    "json_response = json.loads(response.text)\n",
    "print(json.dumps(json_response, indent=4))"
   ]
  },
  {
   "cell_type": "code",
   "execution_count": 4,
   "metadata": {},
   "outputs": [
    {
     "name": "stdout",
     "output_type": "stream",
     "text": [
      "eyJhbGciOiJIUzI1NiIsInR5cCI6IkpXVCJ9.eyJuYW1laWQiOiJlNzYyZDEzOS1lOGY5LTRkYjAtODIxNy0yZTliNzUxYjUyOTUiLCJ1bmlxdWVfbmFtZSI6InNpbl9hcGlfdm9fZG9jdW1lbnRhdGlvbl91c2VyQHNhcGhldHkuY29tIiwic3lzdGVtX2FkbWluIjoiRmFsc2UiLCJzZXNzaW9uX2lkIjoiNjA4YTVmMGEtMTUzNi00NTc4LWFiMmUtYWNmZmI1N2U0MDhkIiwiaXZvIjoiVklSVFVBTE9QRVJBVE9SIiwidm8iOiJTYXBoZXR5IiwicmwiOiJWaXJ0dWFsT3BlcmF0b3IiLCJjcCI6IlBUOTUwMzk0MDMzIiwibmJmIjoxNjY2MTk3MjIzLCJleHAiOjE2NzIyMDA3NjMsImlhdCI6MTY2NjE5NzE2MywiaXNzIjoiaHR0cHM6Ly93d3cuc2FwaGV0eS5jb20vIiwiYXVkIjoiaHR0cHM6Ly93d3cuc2FwaGV0eS5jb20vRGNuU2VydmVyIn0.5zapw-aL0U_vinEjxwhIafUT3pGjDkX3u3RC_TufATo\n"
     ]
    }
   ],
   "source": [
    "# Your token is at:\n",
    "token = json_response[\"Data\"];\n",
    "print (token)"
   ]
  },
  {
   "cell_type": "markdown",
   "metadata": {},
   "source": [
    "## 2. Create client\n",
    "Now that you have a token you can **add/register** a client. In the service payload you need to supply these parameters: \n",
    "* **IntlVatCode**<br>\n",
    "  Set the client Vat Number. Format is countryCode + Vat Number (ex: PT507957547)<br>\n",
    "* **CompanyName**<br>\n",
    "  Set the client’s name (ex: CLIENT LDA.)<br>\n",
    "* **AdressLine**<br>\n",
    "  Set the client address (ex: Rua do Cliente nº1 3ºPiso)<br>\n",
    "* **City**<br>\n",
    "  Set the client city (ex: Lisboa)<br>\n",
    "* **ZipCode**<br>\n",
    "  Set the client adress zipCode (ex: 1050-233)<br>\n",
    "* **ZipArea**<br>\n",
    "  Set the client adress area (ex: Lisboa)<br>\n",
    "* **CountryCode**<br>\n",
    "  Set the client countryCode. Format ISO 3166 Alpha-2 code (ex: PT)<br>\n",
    "* **CommercialRecordWebCode**<br>\n",
    "  Set the client commercial record web code (Registo commercial, ex:507957547)<br>\n",
    "* **LanguageCode**<br>\n",
    "  Set the client language. Format is ISO 639-1 (ex:PT)<br>\n",
    "* **CapitalValue**<br>\n",
    "  Set the client company capital value. (ex: 50000)<br>\n",
    "* **UserEmail**<br>\n",
    "  Set the client email. (ex: some_email@provider.pt)<br>"
   ]
  },
  {
   "cell_type": "markdown",
   "metadata": {},
   "source": [
    "### Build the service endpoint url and payload"
   ]
  },
  {
   "cell_type": "code",
   "execution_count": 5,
   "metadata": {},
   "outputs": [
    {
     "name": "stdout",
     "output_type": "stream",
     "text": [
      "Service url: https://dcn-solution-qa.saphety.com/Dcn.Business.WebApi/api/VirtualOperator/client\n"
     ]
    }
   ],
   "source": [
    "service_url = \"\"\"{ServerBaseUrl}/api/VirtualOperator/client\"\"\".format(\n",
    "    ServerBaseUrl=server_base_adress\n",
    ")\n",
    "service_url = \"https://\" + service_url\n",
    "print ('Service url: ' + service_url)\n",
    "\n",
    "#headers\n",
    "headers = {\n",
    "    'Content-Type': 'application/json',\n",
    "    'Authorization': 'bearer ' + token\n",
    "    }\n",
    "# payload as json\n",
    "payload = {\n",
    "      'IntlVatCode': 'PT979420199',\n",
    "      'CompanyName': 'Virtual Operator Client',\n",
    "      'AddressLine': 'R. Viriato 13',\n",
    "      'City': 'Lisboa',\n",
    "      'ZipCode': '1050-233',\n",
    "      'ZipArea': 'Lisboa',\n",
    "      'CountryCode': 'PT',\n",
    "      'CommercialRecordWebCode': '123456789',\n",
    "      'LanguageCode': 'PT',\n",
    "      'CapitalValue': '50000',\n",
    "      'UserEmail': 'some_email@provider.pt'\n",
    "}\n",
    "request_data=json.dumps(payload)"
   ]
  },
  {
   "cell_type": "markdown",
   "metadata": {},
   "source": [
    "<font color=red>\\* **Note:** the payload example showed here is a sample created by Saphety.</font>"
   ]
  },
  {
   "cell_type": "markdown",
   "metadata": {},
   "source": [
    "### Call service and get back the response"
   ]
  },
  {
   "cell_type": "code",
   "execution_count": 6,
   "metadata": {},
   "outputs": [
    {
     "name": "stdout",
     "output_type": "stream",
     "text": [
      "{\n",
      "    \"CorrelationId\": \"e087167c-221f-4689-bc1c-95889074fb15\",\n",
      "    \"IsValid\": true,\n",
      "    \"Errors\": [],\n",
      "    \"Data\": {}\n",
      "}\n"
     ]
    }
   ],
   "source": [
    "# Send the request (POST). The service return a request id\n",
    "response = requests.request(\"POST\", service_url, data=request_data, headers=headers)\n",
    "\n",
    "# formating the response to json for visualization purposes only\n",
    "json_response = json.loads(response.text)\n",
    "print(json.dumps(json_response, indent=4))"
   ]
  },
  {
   "cell_type": "code",
   "execution_count": 7,
   "metadata": {},
   "outputs": [
    {
     "name": "stdout",
     "output_type": "stream",
     "text": [
      "Created with success!\n"
     ]
    }
   ],
   "source": [
    "response = json_response[\"Data\"];\n",
    "errors = json_response[\"Errors\"];\n",
    "\n",
    "if response == {}:\n",
    "    print (\"Created with success!\")\n",
    "if response != {}:\n",
    "    print(json.dumps(errors, indent=4))"
   ]
  }
 ],
 "metadata": {
  "kernelspec": {
   "display_name": "Python 3",
   "language": "python",
   "name": "python3"
  },
  "language_info": {
   "codemirror_mode": {
    "name": "ipython",
    "version": 3
   },
   "file_extension": ".py",
   "mimetype": "text/x-python",
   "name": "python",
   "nbconvert_exporter": "python",
   "pygments_lexer": "ipython3",
   "version": "3.7.13"
  }
 },
 "nbformat": 4,
 "nbformat_minor": 4
}