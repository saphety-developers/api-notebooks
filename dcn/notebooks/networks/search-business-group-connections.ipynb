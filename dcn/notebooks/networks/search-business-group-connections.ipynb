{
 "cells": [
  {
   "cell_type": "markdown",
   "id": "11184a2e-d096-4c6c-a82b-bc82a88caacb",
   "metadata": {},
   "source": [
    "# Search business groups connections\n",
    "Use this service to **search** business groups connections."
   ]
  },
  {
   "cell_type": "markdown",
   "id": "a50a9e0a-434c-4238-9d3d-f918005fd0b9",
   "metadata": {},
   "source": [
    "### Service steps\n",
    "1. Get a token from your credentials by calling the service **_Account/getToken_** from [DCN Business API](https://dcn-solution-qa.saphety.com/Dcn.Business.WebApi/api/).\n",
    "2. Search the connections on the service **_IntegrationAccessControl/search_** on the [IN2 Integration Access API](https://dcn-solution-qa.saphety.com/IN2.IntegrationAccess.WebApi/swagger);"
   ]
  },
  {
   "cell_type": "markdown",
   "id": "144edf82-9086-403c-b33a-3ef450611636",
   "metadata": {},
   "source": [
    "#### Response structure from server\n",
    "When a request is well formed and the authentication data is correct the system responds with a message envelope as follows: \n",
    "\n",
    "```Javascript\n",
    "{\n",
    "\t\"CorrelationId\": \"<GUID>\", /* for correlation purposes */\n",
    "\t\"IsValid\": true,           /* false in case of erros */\n",
    "\t\"Errors\": [],              /* if empty is a good signal */\n",
    "\t\"Data\": \"<Service Response Data>\"   /* the data retuned ex: token, invoice status .. dependent on the service called */\n",
    "}\n",
    "```\n"
   ]
  },
  {
   "cell_type": "markdown",
   "id": "67c0a034-fac2-4c17-98ec-4e40c001847b",
   "metadata": {},
   "source": [
    "The type of Data is as Array of [BusinessGroupConnectionModel](../models/networks/business-group-connection-model.ipynb)"
   ]
  },
  {
   "cell_type": "markdown",
   "id": "a21de40f-69a8-441f-a74e-6e1f9c9f74df",
   "metadata": {
    "tags": []
   },
   "source": [
    "## 1. Get a token (Account/getToken)\n",
    "* For **Test purposes**, the **_user_** and **_password_** defined at **Saphety Invoice Network - Quality environment**<br>\n",
    "or\n",
    "* For **Production**, the **_user_** and **_password_** defined at **Saphety Invoice Network - Production environment**\n",
    "\n",
    "Use those credentials to get a token at:\n",
    "```\n",
    "https://<ServerBaseAddress>/api/Account/getToken\n",
    "```"
   ]
  },
  {
   "cell_type": "code",
   "execution_count": 1,
   "id": "499d9159-271e-46a1-80a7-0acd38838e8b",
   "metadata": {},
   "outputs": [],
   "source": [
    "# Saphety Invoice Network - Integration Environment\n",
    "server_base_adress = \"dcn-solution-qa.saphety.com/Dcn.Business.WebApi\""
   ]
  },
  {
   "cell_type": "code",
   "execution_count": 2,
   "id": "26ecef09-d3e3-473e-aa83-50eb323ed237",
   "metadata": {},
   "outputs": [],
   "source": [
    "import requests\n",
    "import json\n",
    "\n",
    "# SIN account service url\n",
    "service_url = \"https://\" + server_base_adress + \"/api/Account/getToken\"\n",
    "\n",
    "# Example of username and password\n",
    "username = 'sin_api_vo_documentation_user@saphety.com'\n",
    "password = 'DocUser2022@'\n",
    "\n",
    "# Auhtentication data goes in payload as json\n",
    "payload = {\n",
    "      'Username': username,\n",
    "      'Password': password\n",
    "}\n",
    "# Payload goes in json, serialize the payloal object to json\n",
    "request_data=json.dumps(payload)\n",
    "# Indicate in header that payload is json\n",
    "headers = {\n",
    "    'content-type': 'application/json'\n",
    "    }\n",
    "# POST request to get a token\n",
    "response = requests.request(\"POST\", service_url, data=request_data, headers=headers)"
   ]
  },
  {
   "cell_type": "markdown",
   "id": "947385fb-2e5b-4761-aa45-b954fe91afe3",
   "metadata": {},
   "source": [
    "<font color=red>\\* **Note:** the credentials (user and password) in this documentation were created by Saphety and can only be used in the Saphety Invoice Network - Quality environment. For tests we recommend that you use your own credentials.</font>"
   ]
  },
  {
   "cell_type": "code",
   "execution_count": 3,
   "id": "8ef9c4a4-4699-4230-9484-1c872ce0ffaf",
   "metadata": {},
   "outputs": [
    {
     "name": "stdout",
     "output_type": "stream",
     "text": [
      "{\n",
      "    \"CorrelationId\": \"a6664677-64d3-4552-bb0a-24736d4020b9\",\n",
      "    \"IsValid\": true,\n",
      "    \"Errors\": [],\n",
      "    \"Data\": \"eyJhbGciOiJIUzI1NiIsInR5cCI6IkpXVCJ9.eyJuYW1laWQiOiJlNzYyZDEzOS1lOGY5LTRkYjAtODIxNy0yZTliNzUxYjUyOTUiLCJ1bmlxdWVfbmFtZSI6InNpbl9hcGlfdm9fZG9jdW1lbnRhdGlvbl91c2VyQHNhcGhldHkuY29tIiwic3lzdGVtX2FkbWluIjoiRmFsc2UiLCJzZXNzaW9uX2lkIjoiOGEzMWJlMjUtOTUzOS00NWM1LWE3YjUtZDAyMzYzN2I4YjQ4IiwiaXZvIjoiVklSVFVBTE9QRVJBVE9SIiwidm8iOiJTYXBoZXR5IiwicmwiOiJWaXJ0dWFsT3BlcmF0b3IiLCJjcCI6IlBUOTUwMzk0MDMzIiwibmJmIjoxNjY1NjI1MzQ2LCJleHAiOjE2NzE2Mjg4ODYsImlhdCI6MTY2NTYyNTI4NiwiaXNzIjoiaHR0cHM6Ly93d3cuc2FwaGV0eS5jb20vIiwiYXVkIjoiaHR0cHM6Ly93d3cuc2FwaGV0eS5jb20vRGNuU2VydmVyIn0.odVFdxGp-WrbWt58oqoyinV07lqP9KaKGNlbNvHC8qQ\"\n",
      "}\n"
     ]
    }
   ],
   "source": [
    "# Formating the response to json for visualization purposes only\n",
    "json_response = json.loads(response.text)\n",
    "print(json.dumps(json_response, indent=4))"
   ]
  },
  {
   "cell_type": "code",
   "execution_count": 4,
   "id": "49a253ba-719e-4976-92ce-2344d0216544",
   "metadata": {},
   "outputs": [
    {
     "name": "stdout",
     "output_type": "stream",
     "text": [
      "eyJhbGciOiJIUzI1NiIsInR5cCI6IkpXVCJ9.eyJuYW1laWQiOiJlNzYyZDEzOS1lOGY5LTRkYjAtODIxNy0yZTliNzUxYjUyOTUiLCJ1bmlxdWVfbmFtZSI6InNpbl9hcGlfdm9fZG9jdW1lbnRhdGlvbl91c2VyQHNhcGhldHkuY29tIiwic3lzdGVtX2FkbWluIjoiRmFsc2UiLCJzZXNzaW9uX2lkIjoiOGEzMWJlMjUtOTUzOS00NWM1LWE3YjUtZDAyMzYzN2I4YjQ4IiwiaXZvIjoiVklSVFVBTE9QRVJBVE9SIiwidm8iOiJTYXBoZXR5IiwicmwiOiJWaXJ0dWFsT3BlcmF0b3IiLCJjcCI6IlBUOTUwMzk0MDMzIiwibmJmIjoxNjY1NjI1MzQ2LCJleHAiOjE2NzE2Mjg4ODYsImlhdCI6MTY2NTYyNTI4NiwiaXNzIjoiaHR0cHM6Ly93d3cuc2FwaGV0eS5jb20vIiwiYXVkIjoiaHR0cHM6Ly93d3cuc2FwaGV0eS5jb20vRGNuU2VydmVyIn0.odVFdxGp-WrbWt58oqoyinV07lqP9KaKGNlbNvHC8qQ\n"
     ]
    }
   ],
   "source": [
    "# Your token is at:\n",
    "token = json_response[\"Data\"];\n",
    "print (token)"
   ]
  },
  {
   "cell_type": "markdown",
   "id": "f86db46f-b4e9-44b9-b428-9540b6e541c6",
   "metadata": {},
   "source": [
    "## 2. Search the business groups connetions\n",
    "Now that you have a token you can **search** business groups connections. In the service payload you need to supply these parameters: \n",
    "* QUERY PARAMS\n",
    "  * **OrderBy**<br>\n",
    "     The field that the result is going to be orded by (ex: RequestDate)\n",
    "   * **OrderDescending**<br>\n",
    "     Boolean that indicates if the order by is going to be descending\n",
    "   * **PageNumber** - REQUIRED<br>\n",
    "     The page number. Starts with 0\n",
    "   * **RowsPerPage** - REQUIRED<br>\n",
    "     The amount of data per page\n",
    "* BODY DATA\n",
    "   * **ClientIds**<br>\n",
    "     List of clients Vat Number. Format is countryCode + Vat Number (ex: PT507957547)\n",
    "   * **BusinessGroupCodes**<br>\n",
    "     List of network codes (ex: Yet)\n",
    "   * **VirtualOperatorClientId**<br>\n",
    "     Virtual operator Vat Number. Format is countryCode + Vat Number (ex: PT507957547)\n",
    "   * **AccessStatuses**<br>\n",
    "     List of connection status (ex: Connected)\n",
    "   * **RequestDateStart**<br>\n",
    "     The start value of a date range\n",
    "   * **RequestDateEnd**<br>\n",
    "     The final value of a date range"
   ]
  },
  {
   "cell_type": "markdown",
   "id": "d6f81ee7-1d87-4a4a-b9f3-c60225c4f8c1",
   "metadata": {},
   "source": [
    "### Build the service endpoint url and payload"
   ]
  },
  {
   "cell_type": "code",
   "execution_count": 5,
   "id": "d5afb1e8-0ea4-4e43-bc20-7c24423c8dc3",
   "metadata": {},
   "outputs": [],
   "source": [
    "# Saphety Invoice Network - Integration Environment\n",
    "server_base_adress = \"dcn-solution-qa.saphety.com/IN2.IntegrationAccess.WebApi\""
   ]
  },
  {
   "cell_type": "code",
   "execution_count": 6,
   "id": "96dc0a50-ebb1-40aa-8a62-e16cfcfc8383",
   "metadata": {},
   "outputs": [
    {
     "name": "stdout",
     "output_type": "stream",
     "text": [
      "Service url: https://dcn-solution-qa.saphety.com/IN2.IntegrationAccess.WebApi/api/IntegrationAccessControl/search?PageNumber=0&RowsPerPage=20\n"
     ]
    }
   ],
   "source": [
    "pageNumber = 0\n",
    "rowsPerPage = 20\n",
    "virtualOperatorClientId = 'PT950394033'\n",
    "\n",
    "service_url = \"\"\"https://{serverBaseUrl}/api/IntegrationAccessControl/search?PageNumber={pageNumber}&RowsPerPage={rowsPerPage}\"\"\".format(\n",
    "    serverBaseUrl=server_base_adress,\n",
    "    pageNumber=pageNumber,\n",
    "    rowsPerPage = rowsPerPage\n",
    ")\n",
    "print ('Service url: ' + service_url)\n",
    "\n",
    "#headers\n",
    "headers = {\n",
    "    'Content-Type': 'application/json',\n",
    "    'Authorization': 'bearer ' + token\n",
    "}\n",
    "\n",
    "# payload as json\n",
    "payload = {\n",
    "  'ClientIds': [],\n",
    "  'BusinessGroupCodes': [],\n",
    "  'VirtualOperatorClientId': virtualOperatorClientId,\n",
    "  'AccessStatuses': [],\n",
    "  'RequestDateStart': '2022-10-11',\n",
    "  'RequestDateEnd': '2022-10-12'\n",
    "}\n",
    "request_data=json.dumps(payload)"
   ]
  },
  {
   "cell_type": "markdown",
   "id": "57b89482-de88-4b6d-81bb-32175ed294da",
   "metadata": {},
   "source": [
    "<font color=red>\\* **Note:** the payload example showed here is a sample created by Saphety.</font>"
   ]
  },
  {
   "cell_type": "markdown",
   "id": "0c4f151f-3a4b-4db7-96ee-580de722ceed",
   "metadata": {},
   "source": [
    "### Call service and get back the response"
   ]
  },
  {
   "cell_type": "code",
   "execution_count": 7,
   "id": "3ba7525a-02f0-4410-8c21-914b561ed21a",
   "metadata": {},
   "outputs": [
    {
     "name": "stdout",
     "output_type": "stream",
     "text": [
      "{\n",
      "    \"CorrelationId\": \"40f51c5c-7369-476b-8adb-463af5345750\",\n",
      "    \"IsValid\": true,\n",
      "    \"Errors\": null,\n",
      "    \"Warnings\": [],\n",
      "    \"Data\": [\n",
      "        {\n",
      "            \"BusinessGroupCode\": \"Espap\",\n",
      "            \"ClientId\": \"PT282878491\",\n",
      "            \"ApplicationCode\": \"DcnSolution\",\n",
      "            \"AccessStatus\": \"Connected\",\n",
      "            \"RequestDate\": \"12/10/2022 00:00:00\"\n",
      "        },\n",
      "        {\n",
      "            \"BusinessGroupCode\": \"Yet\",\n",
      "            \"ClientId\": \"PT282878491\",\n",
      "            \"ApplicationCode\": \"DcnSolution\",\n",
      "            \"AccessStatus\": \"AwaitingFeature\",\n",
      "            \"RequestDate\": \"12/10/2022 00:00:00\"\n",
      "        }\n",
      "    ]\n",
      "}\n"
     ]
    }
   ],
   "source": [
    "# Send the request (POST). The service return a request id\n",
    "response = requests.request(\"POST\", service_url, data=request_data, headers=headers)\n",
    "\n",
    "# formating the response to json for visualization purposes only\n",
    "json_response = json.loads(response.text)\n",
    "print(json.dumps(json_response, indent=4))"
   ]
  },
  {
   "cell_type": "code",
   "execution_count": 8,
   "id": "5db235e2-835d-4a62-a62b-6e52f59d7a60",
   "metadata": {},
   "outputs": [
    {
     "name": "stdout",
     "output_type": "stream",
     "text": [
      "[\n",
      "    {\n",
      "        \"BusinessGroupCode\": \"Espap\",\n",
      "        \"ClientId\": \"PT282878491\",\n",
      "        \"ApplicationCode\": \"DcnSolution\",\n",
      "        \"AccessStatus\": \"Connected\",\n",
      "        \"RequestDate\": \"12/10/2022 00:00:00\"\n",
      "    },\n",
      "    {\n",
      "        \"BusinessGroupCode\": \"Yet\",\n",
      "        \"ClientId\": \"PT282878491\",\n",
      "        \"ApplicationCode\": \"DcnSolution\",\n",
      "        \"AccessStatus\": \"AwaitingFeature\",\n",
      "        \"RequestDate\": \"12/10/2022 00:00:00\"\n",
      "    }\n",
      "]\n"
     ]
    }
   ],
   "source": [
    "response = json_response[\"Data\"];\n",
    "print(json.dumps(response, indent=4))"
   ]
  },
  {
   "cell_type": "code",
   "execution_count": null,
   "id": "ddb57d96-3a6d-4dd2-aaf4-bd60bad489ea",
   "metadata": {},
   "outputs": [],
   "source": []
  }
 ],
 "metadata": {
  "kernelspec": {
   "display_name": "Python 3 (ipykernel)",
   "language": "python",
   "name": "python3"
  },
  "language_info": {
   "codemirror_mode": {
    "name": "ipython",
    "version": 3
   },
   "file_extension": ".py",
   "mimetype": "text/x-python",
   "name": "python",
   "nbconvert_exporter": "python",
   "pygments_lexer": "ipython3",
   "version": "3.7.15"
  }
 },
 "nbformat": 4,
 "nbformat_minor": 5
}
