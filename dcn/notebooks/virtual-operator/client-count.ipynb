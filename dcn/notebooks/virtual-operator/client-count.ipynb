{
 "cells": [
  {
   "cell_type": "markdown",
   "metadata": {},
   "source": [
    "# Count clients\n",
    "Use this service to **count** the registered clients from your virtual operator account. \n",
    "\n",
    "### Service steps\n",
    "1. Get a token from your credentials by calling the service **_Account/getToken_**\n",
    "2. Count your registered clients calling the **_asynchronous_** service **_VirtualOperator/client/count_**;"
   ]
  },
  {
   "cell_type": "markdown",
   "metadata": {},
   "source": [
    "#### Asynchrounous\n",
    "The service **_VirtualOperator/client/count_** is an asynchrounous service.<br>\n",
    "Since this is an integration API, thousands of requests can be sent at the same time.<br>"
   ]
  },
  {
   "cell_type": "markdown",
   "metadata": {},
   "source": [
    "#### Response structure from server\n",
    "When a request is well formed and the authentication data is correct the system responds with a message envelope as follows: \n",
    "\n",
    "```Javascript\n",
    "{\n",
    "\t\"CorrelationId\": \"<GUID>\", /* for correlation purposes */\n",
    "\t\"IsValid\": true,           /* false in case of erros */\n",
    "\t\"Errors\": [],              /* if empty is a good signal */\n",
    "\t\"Data\": \"<Service Response Data>\"   /* the data retuned ex: token, invoice status .. dependent on the service called */\n",
    "}\n",
    "```\n"
   ]
  },
  {
   "cell_type": "markdown",
   "metadata": {},
   "source": [
    "## 1. Get a token (Account/getToken)\n",
    "* For **Test purposes**, the **_user_** and **_password_** defined at **Saphety Invoice Network - Quality environment**<br>\n",
    "or\n",
    "* For **Production**, the **_user_** and **_password_** defined at **Saphety Invoice Network - Production environment**\n",
    "\n",
    "Use those credentials to get a token at:\n",
    "```\n",
    "https://<ServerBaseAddress>/api/Account/getToken\n",
    "```"
   ]
  },
  {
   "cell_type": "code",
   "execution_count": 1,
   "metadata": {},
   "outputs": [],
   "source": [
    "# Saphety Invoice Network - Integration Environment\n",
    "server_base_adress = \"dcn-solution-qa.saphety.com/Dcn.Business.WebApi\""
   ]
  },
  {
   "cell_type": "code",
   "execution_count": 2,
   "metadata": {},
   "outputs": [],
   "source": [
    "import requests\n",
    "import json\n",
    "\n",
    "# SIN account service url\n",
    "service_url = \"https://\" + server_base_adress + \"/api/Account/getToken\"\n",
    "\n",
    "# Example of username and password\n",
    "username = 'sin_api_vo_documentation_user@saphety.com'\n",
    "password = 'DocUser2022@'\n",
    "\n",
    "# Auhtentication data goes in payload as json\n",
    "payload = {\n",
    "      'Username': username,\n",
    "      'Password': password\n",
    "}\n",
    "# Payload goes in json, serialize the payloal object to json\n",
    "request_data=json.dumps(payload)\n",
    "# Indicate in header that payload is json\n",
    "headers = {\n",
    "    'content-type': 'application/json'\n",
    "    }\n",
    "# POST request to get a token\n",
    "response = requests.request(\"POST\", service_url, data=request_data, headers=headers)"
   ]
  },
  {
   "cell_type": "markdown",
   "metadata": {},
   "source": [
    "<font color=red>\\* **Note:** the credentials (user and password) in this documentation were created by Saphety and can only be used in the Saphety Invoice Network - Quality environment. For tests we recommend that you use your own credentials.</font>"
   ]
  },
  {
   "cell_type": "code",
   "execution_count": 3,
   "metadata": {},
   "outputs": [
    {
     "name": "stdout",
     "output_type": "stream",
     "text": [
      "{\n",
      "    \"CorrelationId\": \"2a8ef048-6381-4528-8258-b704b68a3110\",\n",
      "    \"IsValid\": true,\n",
      "    \"Errors\": [],\n",
      "    \"Data\": \"eyJhbGciOiJIUzI1NiIsInR5cCI6IkpXVCJ9.eyJuYW1laWQiOiJlNzYyZDEzOS1lOGY5LTRkYjAtODIxNy0yZTliNzUxYjUyOTUiLCJ1bmlxdWVfbmFtZSI6InNpbl9hcGlfdm9fZG9jdW1lbnRhdGlvbl91c2VyQHNhcGhldHkuY29tIiwic3lzdGVtX2FkbWluIjoiRmFsc2UiLCJzZXNzaW9uX2lkIjoiY2VhMGY3YWMtMjc4My00ZGFmLTkwYTktNzIzMjNlNTVhOTRiIiwiaXZvIjoiVklSVFVBTE9QRVJBVE9SIiwidm8iOiJTYXBoZXR5IiwicmwiOiJWaXJ0dWFsT3BlcmF0b3IiLCJjcCI6IlBUOTUwMzk0MDMzIiwibmJmIjoxNjY1Njk3MTEwLCJleHAiOjE2NzE3MDA2NTAsImlhdCI6MTY2NTY5NzA1MCwiaXNzIjoiaHR0cHM6Ly93d3cuc2FwaGV0eS5jb20vIiwiYXVkIjoiaHR0cHM6Ly93d3cuc2FwaGV0eS5jb20vRGNuU2VydmVyIn0.ruSaU1Ua50DUyZtTBu5jITjpPtM5RZPMb1xkT9478_U\"\n",
      "}\n"
     ]
    }
   ],
   "source": [
    "# Formating the response to json for visualization purposes only\n",
    "json_response = json.loads(response.text)\n",
    "print(json.dumps(json_response, indent=4))"
   ]
  },
  {
   "cell_type": "code",
   "execution_count": 4,
   "metadata": {},
   "outputs": [
    {
     "name": "stdout",
     "output_type": "stream",
     "text": [
      "eyJhbGciOiJIUzI1NiIsInR5cCI6IkpXVCJ9.eyJuYW1laWQiOiJlNzYyZDEzOS1lOGY5LTRkYjAtODIxNy0yZTliNzUxYjUyOTUiLCJ1bmlxdWVfbmFtZSI6InNpbl9hcGlfdm9fZG9jdW1lbnRhdGlvbl91c2VyQHNhcGhldHkuY29tIiwic3lzdGVtX2FkbWluIjoiRmFsc2UiLCJzZXNzaW9uX2lkIjoiY2VhMGY3YWMtMjc4My00ZGFmLTkwYTktNzIzMjNlNTVhOTRiIiwiaXZvIjoiVklSVFVBTE9QRVJBVE9SIiwidm8iOiJTYXBoZXR5IiwicmwiOiJWaXJ0dWFsT3BlcmF0b3IiLCJjcCI6IlBUOTUwMzk0MDMzIiwibmJmIjoxNjY1Njk3MTEwLCJleHAiOjE2NzE3MDA2NTAsImlhdCI6MTY2NTY5NzA1MCwiaXNzIjoiaHR0cHM6Ly93d3cuc2FwaGV0eS5jb20vIiwiYXVkIjoiaHR0cHM6Ly93d3cuc2FwaGV0eS5jb20vRGNuU2VydmVyIn0.ruSaU1Ua50DUyZtTBu5jITjpPtM5RZPMb1xkT9478_U\n"
     ]
    }
   ],
   "source": [
    "# Your token is at:\n",
    "token = json_response[\"Data\"];\n",
    "print (token)"
   ]
  },
  {
   "cell_type": "markdown",
   "metadata": {},
   "source": [
    "## 2. Count clients\n",
    "Now that you have a token you can **count** your registered clients. In the service payload you need to supply these parameters:\n",
    "* **CompanyName**<br>\n",
    "  Set the client’s name (ex: CLIENT LDA.)<br>\n",
    "* **IntlVatCode**<br>\n",
    "  Set the client Vat Number. Format is countryCode + Vat Number (ex: PT507957547)<br>\n",
    "* **CreationDateFrom**<br>\n",
    "  Set a start date to narrow your search. Format is dd/mm/yyyy (ex: 01/01/2021)<br>\n",
    "* **CreationDateTo**<br>\n",
    "  Set an end date to narrow your search. Format is dd/mm/yyyy (ex: 01/01/2031)<br>"
   ]
  },
  {
   "cell_type": "markdown",
   "metadata": {},
   "source": [
    "### Build the service endpoint url and payload"
   ]
  },
  {
   "cell_type": "code",
   "execution_count": 5,
   "metadata": {},
   "outputs": [
    {
     "name": "stdout",
     "output_type": "stream",
     "text": [
      "Service url: https://dcn-solution-qa.saphety.com/Dcn.Business.WebApi/api/VirtualOperator/client/count\n"
     ]
    }
   ],
   "source": [
    "service_url = \"\"\"{ServerBaseUrl}/api/VirtualOperator/client/count\"\"\".format(\n",
    "    ServerBaseUrl=server_base_adress\n",
    ")\n",
    "service_url = \"https://\" + service_url\n",
    "print ('Service url: ' + service_url)\n",
    "\n",
    "#headers\n",
    "headers = {\n",
    "    'Content-Type': 'application/json',\n",
    "    'Authorization': 'bearer ' + token\n",
    "    }\n",
    "# payload as json\n",
    "payload = {\n",
    "    'CompanyName': 'Virtual Operator Client',\n",
    "    'IntlVatCode': 'PT979420199',\n",
    "    'CreationDateFrom': '01/01/2021',\n",
    "    'CreationDateTo': '01/01/2031',\n",
    "}\n",
    "request_data=json.dumps(payload)"
   ]
  },
  {
   "cell_type": "markdown",
   "metadata": {},
   "source": [
    "<font color=red>\\* **Note:** the payload example showed here is a sample created by Saphety.</font>"
   ]
  },
  {
   "cell_type": "markdown",
   "metadata": {},
   "source": [
    "### Call service and get back the response"
   ]
  },
  {
   "cell_type": "code",
   "execution_count": 6,
   "metadata": {},
   "outputs": [
    {
     "name": "stdout",
     "output_type": "stream",
     "text": [
      "{\n",
      "    \"CorrelationId\": \"bf61d099-e06d-4967-96b4-695881a9c511\",\n",
      "    \"IsValid\": true,\n",
      "    \"Errors\": [],\n",
      "    \"Data\": 1\n",
      "}\n"
     ]
    }
   ],
   "source": [
    "# Send the request (POST). The service return a request id\n",
    "response = requests.request(\"POST\", service_url, data=request_data, headers=headers)\n",
    "\n",
    "# formating the response to json for visualization purposes only\n",
    "json_response = json.loads(response.text)\n",
    "print(json.dumps(json_response, indent=4))"
   ]
  },
  {
   "cell_type": "code",
   "execution_count": 7,
   "metadata": {},
   "outputs": [
    {
     "name": "stdout",
     "output_type": "stream",
     "text": [
      "1\n"
     ]
    }
   ],
   "source": [
    "response = json_response[\"Data\"];\n",
    "print(json.dumps(response, indent=4))"
   ]
  },
  {
   "cell_type": "code",
   "execution_count": null,
   "metadata": {},
   "outputs": [],
   "source": []
  }
 ],
 "metadata": {
  "kernelspec": {
   "display_name": "Python 3",
   "language": "python",
   "name": "python3"
  },
  "language_info": {
   "codemirror_mode": {
    "name": "ipython",
    "version": 3
   },
   "file_extension": ".py",
   "mimetype": "text/x-python",
   "name": "python",
   "nbconvert_exporter": "python",
   "pygments_lexer": "ipython3",
   "version": "3.7.13"
  }
 },
 "nbformat": 4,
 "nbformat_minor": 4
}
