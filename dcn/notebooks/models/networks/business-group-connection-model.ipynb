{
 "cells": [
  {
   "cell_type": "markdown",
   "id": "11184a2e-d096-4c6c-a82b-bc82a88caacb",
   "metadata": {},
   "source": [
    "# Business group connection model"
   ]
  },
  {
   "cell_type": "markdown",
   "id": "a50a9e0a-434c-4238-9d3d-f918005fd0b9",
   "metadata": {},
   "source": [
    "### Properties\n",
    "\n",
    "* **ClientId**: *string*;<br/>\n",
    "    Ex: \"PT282878491\"\n",
    "* **ApplicationCode**: *string*;<br/>\n",
    "    Ex: \"DcnSolution\"\n",
    "* **BusinessGroupCode**: *string*;<br/>\n",
    "    Ex: \"Yet\"\n",
    "* **AccessStatus**: *[IntegrationAccessStatusEnum](./integration-access-status-enum.ipynb)*;<br/>\n",
    "    Ex: \"Connected\"\n",
    "* **RequestDate**: *string*;<br/>\n",
    "    Ex: \"2022-10-12T00:00:00\""
   ]
  },
  {
   "cell_type": "code",
   "execution_count": null,
   "id": "54d158e7-5ac4-4f34-82f2-5badec782cec",
   "metadata": {},
   "outputs": [],
   "source": []
  }
 ],
 "metadata": {
  "kernelspec": {
   "display_name": "Python 3",
   "language": "python",
   "name": "python3"
  },
  "language_info": {
   "codemirror_mode": {
    "name": "ipython",
    "version": 3
   },
   "file_extension": ".py",
   "mimetype": "text/x-python",
   "name": "python",
   "nbconvert_exporter": "python",
   "pygments_lexer": "ipython3",
   "version": "3.7.13"
  }
 },
 "nbformat": 4,
 "nbformat_minor": 5
}
