{
 "cells": [
  {
   "cell_type": "markdown",
   "id": "11184a2e-d096-4c6c-a82b-bc82a88caacb",
   "metadata": {},
   "source": [
    "# Company model"
   ]
  },
  {
   "cell_type": "markdown",
   "id": "a50a9e0a-434c-4238-9d3d-f918005fd0b9",
   "metadata": {},
   "source": [
    "### Properties\n",
    "\n",
    "* **IntlVatCode**: *string*;<br/>\n",
    "    Ex: \"PT979420199\"\n",
    "* **CompanyName**: *string*;<br/>\n",
    "    Ex: \"Example Company\"\n",
    "* **AddressLine**: *string*;<br/>\n",
    "    Ex: \"R. Viriato 13\"\n",
    "* **City**: *string*;<br/>\n",
    "    Ex: \"Lisboa\"\n",
    "* **ZipCode**: *string*;<br/>\n",
    "    Ex: \"1050-233\"\n",
    "* **ZipArea**: *string*;<br/>\n",
    "    Ex: \"Lisboa\"\n",
    "* **CommercialRecordWebCode**: *string*;<br/>\n",
    "    Ex: \"0000-0000-0000\"\n",
    "* **TenantCode**: *string*;<br/>\n",
    "    Ex: \"SAPHETY\"\n",
    "* **LanguageCode**: *string*;<br/>\n",
    "    Ex: \"PT\"\n",
    "* **Status**: *[CompanyStatus](./company-status-enum.ipynb)*;<br/>\n",
    "    Ex: \"Active\"\n",
    "* **IsPartner**: *boolean*;<br/>\n",
    "    Ex: \"Lisboa\"\n",
    "* **CreationDate**: *string*;<br/>\n",
    "    Ex: \"2021-03-25 16:24:13\"\n",
    "* **CompanyProperties**: *[CompanyProperties](./company-properties-model.ipynb)*;<br/>"
   ]
  },
  {
   "cell_type": "code",
   "execution_count": null,
   "id": "54d158e7-5ac4-4f34-82f2-5badec782cec",
   "metadata": {},
   "outputs": [],
   "source": []
  }
 ],
 "metadata": {
  "kernelspec": {
   "display_name": "Python 3",
   "language": "python",
   "name": "python3"
  },
  "language_info": {
   "codemirror_mode": {
    "name": "ipython",
    "version": 3
   },
   "file_extension": ".py",
   "mimetype": "text/x-python",
   "name": "python",
   "nbconvert_exporter": "python",
   "pygments_lexer": "ipython3",
   "version": "3.7.13"
  }
 },
 "nbformat": 4,
 "nbformat_minor": 5
}
