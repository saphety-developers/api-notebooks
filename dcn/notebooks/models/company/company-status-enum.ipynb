{
 "cells": [
  {
   "cell_type": "markdown",
   "id": "11184a2e-d096-4c6c-a82b-bc82a88caacb",
   "metadata": {},
   "source": [
    "# Company status enum"
   ]
  },
  {
   "cell_type": "markdown",
   "id": "a50a9e0a-434c-4238-9d3d-f918005fd0b9",
   "metadata": {},
   "source": [
    "### Values\n",
    "\n",
    "* **Active**: Active\n",
    "* **Approved**: Approved\n",
    "* **Inactive**: Inactive\n",
    "* **RegistrationIncomplete**: RegistrationIncomplete\n",
    "* **RegistrationPending**: RegistrationPending"
   ]
  },
  {
   "cell_type": "code",
   "execution_count": null,
   "id": "fdf711aa-9cb7-4d0f-bd64-66828c2abf15",
   "metadata": {},
   "outputs": [],
   "source": []
  }
 ],
 "metadata": {
  "kernelspec": {
   "display_name": "Python 3",
   "language": "python",
   "name": "python3"
  },
  "language_info": {
   "codemirror_mode": {
    "name": "ipython",
    "version": 3
   },
   "file_extension": ".py",
   "mimetype": "text/x-python",
   "name": "python",
   "nbconvert_exporter": "python",
   "pygments_lexer": "ipython3",
   "version": "3.7.13"
  }
 },
 "nbformat": 4,
 "nbformat_minor": 5
}
