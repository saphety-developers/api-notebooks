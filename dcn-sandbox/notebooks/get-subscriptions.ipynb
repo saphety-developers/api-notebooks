{
 "cells": [
  {
   "cell_type": "markdown",
   "metadata": {
    "tags": []
   },
   "source": [
    "# Get Company Subscriptions\n",
    "Use this endpoint to **get all** your **company subscriptions**.\n",
    "\n",
    "### Endpoint steps\n",
    "1. Get a token from your credentials by calling the endpoint **_Account/getToken_**;\n",
    "2. Get all your subscriptions calling the endpoint **_Subscriptions/clientId/{companyVatNumber}_** from WebStore API URL;\n",
    "\n",
    "#### Response structure from server\n",
    "When a request is well formed and the authentication data is correct the system responds with a message envelope as follows: \n",
    "\n",
    "```Javascript\n",
    "{\n",
    "\t\"CorrelationId\": \"<GUID>\", /* for correlation purposes */\n",
    "\t\"IsValid\": true,           /* false in case of erros */\n",
    "\t\"Errors\": [],              /* if empty is a good signal */\n",
    "\t\"Data\": \"<Service Response Data>\"   /* the data retuned ex: token, invoice status, dependent on the endpoint called */\n",
    "}\n",
    "```"
   ]
  },
  {
   "cell_type": "markdown",
   "metadata": {
    "tags": []
   },
   "source": [
    "#### Endpoint Server Base URL"
   ]
  },
  {
   "cell_type": "code",
   "execution_count": 8,
   "metadata": {},
   "outputs": [],
   "source": [
    "# SANDBOX - Test Environment\n",
    "webstore_server_base_adress = \"dcn-solution.saphety.com/Dcn.Sandbox.WebApi\"\n",
    "\n",
    "# Saphety Invoice Network - Production Environment\n",
    "#webstore_server_base_adress = \"dcn-solution.saphety.com/IN2.WebStore.WebApi\""
   ]
  },
  {
   "cell_type": "markdown",
   "metadata": {},
   "source": [
    "## 1. Get a token (Account/getToken)\n",
    "Get a token from your account credentials using endpoint api/Account/getToken  \n",
    "Check [here](./get-token) how to obtain an authentication token. "
   ]
  },
  {
   "cell_type": "markdown",
   "metadata": {},
   "source": [
    "## 2. Get Subscriptions (Subscriptions/clientId/{companyVatNumber})"
   ]
  },
  {
   "cell_type": "markdown",
   "metadata": {},
   "source": [
    "### 2.1 Request structure\n",
    "In the endpoint url you need to supply your Company VAT Number.\n",
    "\n",
    "#### companyVatNumber\n",
    "- **Description**: Tax identification of the entity (aka as vatNumber).\n",
    "- **Required**: Yes\n",
    "- **Type**: string\n",
    "- **Example**: \"PT518576302\"\n",
    "- **_Notes_**: Only accepts valid vatNumbers and filled with the countryCode prefix.\n",
    "\n",
    "### 2.2 Request example"
   ]
  },
  {
   "cell_type": "code",
   "execution_count": 9,
   "metadata": {},
   "outputs": [
    {
     "name": "stdout",
     "output_type": "stream",
     "text": [
      "https://dcn-solution.saphety.com/Dcn.Sandbox.WebApi/api/Subscriptions/clientId/PT240606590\n"
     ]
    }
   ],
   "source": [
    "# WebStore endpoint url for retrieving information\n",
    "service_url = \"https://\" + webstore_server_base_adress + \"/api/Subscriptions/clientId/\" + \"PT240606590\"\n",
    "print (service_url)"
   ]
  },
  {
   "cell_type": "markdown",
   "metadata": {},
   "source": [
    "### 2.3 Call the endpoint to get your company subscriptions"
   ]
  },
  {
   "cell_type": "code",
   "execution_count": 4,
   "metadata": {},
   "outputs": [
    {
     "name": "stdout",
     "output_type": "stream",
     "text": [
      "[\n",
      "    {\n",
      "        \"Id\": \"ad152107-78f6-4d07-9e87-b130bbee296c\",\n",
      "        \"PlanId\": null,\n",
      "        \"CustomPlanId\": \"1b60cf5d-921b-47b3-94c7-f98008ca5528\",\n",
      "        \"ClientId\": \"PT240606590\",\n",
      "        \"ApplicationCode\": \"DcnSolution\",\n",
      "        \"ValidFrom\": \"2023-01-05T00:00:00\",\n",
      "        \"ValidTo\": \"2023-03-05T00:00:00\",\n",
      "        \"LastRenewalDate\": \"2023-01-05T00:00:00\",\n",
      "        \"Status\": \"NotRenewable\",\n",
      "        \"CreationDate\": \"2023-01-05T17:44:07.3133333\"\n",
      "    }\n",
      "]\n"
     ]
    }
   ],
   "source": [
    "# build the request\n",
    "headers = {\n",
    "    'Authorization': 'bearer ' + token\n",
    "}\n",
    "# POST request to send the invoice\n",
    "response = requests.request(\"GET\", service_url, headers=headers)\n",
    "\n",
    "# formating the response to json for visualization purposes only\n",
    "json_response = json.loads(response.text)\n",
    "print(json.dumps(json_response[\"Data\"], indent=4))"
   ]
  },
  {
   "cell_type": "markdown",
   "metadata": {},
   "source": [
    "The properties \"PlanId\" and \"CustomPlanId\" defines when the subscription is a normal subcription or a custom subscription.  \n",
    "Only one field will be filled in.\n",
    "\n",
    "See [here](./get-plan) how to get the **plan** information.  \n",
    "See [here](./get-custom-plan) how to get the **custom plan** information.  \n",
    "See [here](./get-subscription-features) how to get the **subscription features** (plan consume).\n",
    "\n",
    "Subscriptions can be in the next status:\n",
    "\n",
    "* **Active**: When the subscription is active\n",
    "* **Inactive**: When the subscription is inactive\n",
    "* **DoNotRenew**: When the subscription do not renew\n",
    "* **NotRenewable**: When the subscription is not renewable\n",
    "* **Standby**: When the custom plan is on standby"
   ]
  },
  {
   "cell_type": "code",
   "execution_count": null,
   "metadata": {},
   "outputs": [],
   "source": []
  }
 ],
 "metadata": {
  "kernelspec": {
   "display_name": "Python 3 (ipykernel)",
   "language": "python",
   "name": "python3"
  },
  "language_info": {
   "codemirror_mode": {
    "name": "ipython",
    "version": 3
   },
   "file_extension": ".py",
   "mimetype": "text/x-python",
   "name": "python",
   "nbconvert_exporter": "python",
   "pygments_lexer": "ipython3",
   "version": "3.10.10"
  }
 },
 "nbformat": 4,
 "nbformat_minor": 4
}
