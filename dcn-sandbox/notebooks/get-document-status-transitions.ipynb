{
 "cells": [
  {
   "cell_type": "markdown",
   "metadata": {
    "tags": []
   },
   "source": [
    "# Get invoice **status transitions**\n",
    "This endpoint is used to **get** the invoice status transitions occured in archive.\n",
    "\n",
    "### Endpoint steps\n",
    "1. Get a token from your credentials by calling the endpoint **_Account/getToken_**;\n",
    "2. Get an invoice status transitions in archive calling the endpoint **_OutboundFinancialDocument/statusTransitions/{documentId}_**;\n",
    "\n",
    "#### Response structure from server\n",
    "When a request is well formed and the authentication data is correct the system responds with a message envelope as follows: \n",
    "\n",
    "```Javascript\n",
    "{\n",
    "\t\"CorrelationId\": \"<GUID>\", /* for correlation purposes */\n",
    "\t\"IsValid\": true,           /* false in case of erros */\n",
    "\t\"Errors\": [],              /* if empty is a good signal */\n",
    "\t\"Data\": \"<Service Response Data>\"   /* the data retuned ex: token, invoice status, dependent on the endpoint called */\n",
    "}\n",
    "```"
   ]
  },
  {
   "cell_type": "markdown",
   "metadata": {
    "tags": []
   },
   "source": [
    "#### Endpoint Server Base URL"
   ]
  },
  {
   "cell_type": "code",
   "execution_count": 1,
   "metadata": {},
   "outputs": [],
   "source": [
    "# SANDBOX - Test Environment\n",
    "server_base_adress = \"dcn-solution.saphety.com/Dcn.Sandbox.WebApi\"\n",
    "\n",
    "# Saphety Invoice Network - Production Environment\n",
    "#server_base_adress = \"dcn-solution.saphety.com/Dcn.Business.WebApi\""
   ]
  },
  {
   "cell_type": "markdown",
   "metadata": {},
   "source": [
    "## 1. Get a token (Account/getToken)\n",
    "Get a token from your account credentials using endpoint api/Account/getToken  \n",
    "Check [here](./get-token) how to obtain an authentication token. "
   ]
  },
  {
   "cell_type": "markdown",
   "metadata": {},
   "source": [
    "## 2. Get a Document status transitions by DocumentId (OutboundFinancialDocument/statusTransitions/{documentId})"
   ]
  },
  {
   "cell_type": "markdown",
   "metadata": {},
   "source": [
    "### 2.1 Request structure\n",
    "In the endpoint url you need to supply the **documentId** received\n",
    "\n",
    "#### documentId\n",
    "- **Description**: You need to supply the id of the invoice.\n",
    "- **Required**: Yes\n",
    "- **Type**: string\n",
    "- **Example**: \"3fa85f64-5717-4562-b3fc-2c963f66afa6\""
   ]
  },
  {
   "cell_type": "markdown",
   "metadata": {},
   "source": [
    "### 2.2 Request example"
   ]
  },
  {
   "cell_type": "code",
   "execution_count": 20,
   "metadata": {},
   "outputs": [
    {
     "name": "stdout",
     "output_type": "stream",
     "text": [
      "https://dcn-solution.saphety.com/Dcn.Sandbox.WebApi/api/OutboundFinancialDocument/statusTransitions/fc5e547d-8537-4e05-97d5-1159c62efd6f\n"
     ]
    }
   ],
   "source": [
    "outboundFinancialDocumentId = \"fc5e547d-8537-4e05-97d5-1159c62efd6f\"\n",
    "\n",
    "# SIN endpoint url for retrieving inforfation on invoice previously sent\n",
    "service_url = \"https://\" + server_base_adress + \"/api/OutboundFinancialDocument/statusTransitions/\" + outboundFinancialDocumentId\n",
    "print (service_url)"
   ]
  },
  {
   "cell_type": "markdown",
   "metadata": {},
   "source": [
    "### 2.3 Call the service to get the document's status transitions\n",
    "**Get** the invoice status transitions by the **Document id** (response “OutboundFinancialDocumentId“) using endpoint _**/api/OutboundFinancialDocument/statusTransitions/:documentId**_"
   ]
  },
  {
   "cell_type": "code",
   "execution_count": 21,
   "metadata": {},
   "outputs": [
    {
     "name": "stdout",
     "output_type": "stream",
     "text": [
      "[\n",
      "    {\n",
      "        \"Id\": \"a6a82dfc-652b-4ac7-aaeb-0cb21058f0b9\",\n",
      "        \"OutboundFinancialDocumentId\": \"fc5e547d-8537-4e05-97d5-1159c62efd6f\",\n",
      "        \"IntegrationStatus\": \"Received\",\n",
      "        \"PreviousStatus\": \"Sent\",\n",
      "        \"StatusDate\": \"2021-11-04 11:54:51\",\n",
      "        \"Reason\": null\n",
      "    },\n",
      "    {\n",
      "        \"Id\": \"5710c37d-6594-4116-9b68-67e5e60da7cb\",\n",
      "        \"OutboundFinancialDocumentId\": \"fc5e547d-8537-4e05-97d5-1159c62efd6f\",\n",
      "        \"IntegrationStatus\": \"Sent\",\n",
      "        \"PreviousStatus\": \"Not_Sent\",\n",
      "        \"StatusDate\": \"2021-11-04 11:54:09\",\n",
      "        \"Reason\": null\n",
      "    }\n",
      "]\n"
     ]
    }
   ],
   "source": [
    "headers = {\n",
    "    'Authorization': 'bearer ' + token\n",
    "}\n",
    "response = requests.request(\"GET\", service_url, headers=headers)\n",
    "\n",
    "# formating the response to json for visualization purposes only\n",
    "json_response = json.loads(response.text)\n",
    "print(json.dumps(json_response[\"Data\"], indent=4))"
   ]
  },
  {
   "cell_type": "markdown",
   "metadata": {},
   "source": [
    "The status transitions of an invoice in archive is returned at response \"Data.IntegrationStatus\" and \"Data.PreviousStatus\", see the possible values returned:\n",
    "* **NotIntegrated:** invoice processed, not sent to the receiver for integration.\n",
    "* **Not_Sent:** invoice not processed, it's a draft not sent yet to the receiver entity.\n",
    "* **Error:** invoice processed, sent to the receiver, receiver has returned errors.\n",
    "* **Sent:** invoice processed, sent to the receiver for integration.\n",
    "* **Received:** invoice processed, sent to receiver, receiver confirmed integration.\n",
    "* **Rejected:** invoice processed, sent to receiver, receiver rejects integration.\n",
    "* **NotIntegrated:** When the document is not integrated\n",
    "* **Paid:** invoice processed, sent to receiver, receiver confirms payment.\n",
    "* **Returned:** When the document is returned"
   ]
  },
  {
   "cell_type": "markdown",
   "metadata": {},
   "source": [
    "For invoices that have \"IntegrationStatus\" as \"Rejected\" or \"Error\", is also advisable to look at Status Transition Reason, at response \"Data.Reason\", to know the reason descriptions. The \"Reason\" property is a list that lives inside the Status Transition object. This property can be null or filled with an object list with the following properties:  \n",
    "    \n",
    "* **Code**: *string*;  \n",
    "* **Field**: *string*;  \n",
    "* **Values**: *List\\<string\\>*  \n",
    "\n",
    "Here is an exemple of a document that was rejected with the *Reason* property filled:"
   ]
  },
  {
   "cell_type": "markdown",
   "metadata": {},
   "source": [
    "``` string\n",
    "[\n",
    "    {\n",
    "        \"Id\": \"980e49f6-ec21-426c-b7da-374a55bff460\",\n",
    "        \"OutboundFinancialDocumentId\": \"4d1041f0-8fee-4296-8f2f-150fd9186e21\",\n",
    "        \"IntegrationStatus\": \"Sending\",\n",
    "        \"PreviousStatus\": \"Not_Sent\",\n",
    "        \"StatusDate\": \"2021-11-04 11:52:11\",\n",
    "        \"Reason\": null\n",
    "    },\n",
    "    {\n",
    "        \"Id\": \"bafba46e-86d6-4196-803a-58aee72a464e\",\n",
    "        \"OutboundFinancialDocumentId\": \"4d1041f0-8fee-4296-8f2f-150fd9186e21\",\n",
    "        \"IntegrationStatus\": \"Rejected\",\n",
    "        \"PreviousStatus\": \"Sending\",\n",
    "        \"StatusDate\": \"2021-11-04 11:55:24\",\n",
    "        \"Reason\": [\n",
    "            {\n",
    "                \"Code\": \"REJECT\",\n",
    "                \"Field\": null,\n",
    "                \"Values\": [\n",
    "                    \"Encomenda [1234] para o fornecedor [98765] não encontrada\"\n",
    "                ]\n",
    "            }\n",
    "        ]4d1041f0-8fee-4296-8f2f-150fd9186e21\n",
    "    }\n",
    "]\n",
    "```"
   ]
  },
  {
   "cell_type": "markdown",
   "metadata": {},
   "source": [
    "An exemple of a document that had errors while processing"
   ]
  },
  {
   "cell_type": "markdown",
   "metadata": {},
   "source": [
    "``` string\n",
    "[\n",
    "    {\n",
    "        \"Id\": \"976beaa7-caaf-4436-b895-24aa812d134b\",\n",
    "        \"OutboundFinancialDocumentId\": \"854e3987-b7b3-439e-9401-9f803b56d652\",\n",
    "        \"IntegrationStatus\": \"Sending\",\n",
    "        \"PreviousStatus\": \"Not_Sent\",\n",
    "        \"StatusDate\": \"2021-11-04 12:02:47\",\n",
    "        \"Reason\": null\n",
    "    },\n",
    "    {\n",
    "        \"Id\": \"1203d10d-3ae7-4f7b-a45c-36dc4d7f330d\",\n",
    "        \"OutboundFinancialDocumentId\": \"854e3987-b7b3-439e-9401-9f803b56d652\",\n",
    "        \"IntegrationStatus\": \"Error\",\n",
    "        \"PreviousStatus\": \"Sending\",\n",
    "        \"StatusDate\": \"2021-11-04 12:02:50\",\n",
    "        \"Reason\": [\n",
    "            {\n",
    "                \"Code\": \"ERROR\",\n",
    "                \"Field\": null,\n",
    "                \"Values\": [\n",
    "                    \"O número de encomenda é inválido (deve conter apenas dígitos e respeitar o seguinte formato: XX/YYYYY)\"\n",
    "                ]\n",
    "            }\n",
    "        ]\n",
    "    }\n",
    "]\n",
    "```"
   ]
  },
  {
   "cell_type": "markdown",
   "metadata": {},
   "source": [
    "And an exemple of a document that was accepted"
   ]
  },
  {
   "cell_type": "markdown",
   "metadata": {},
   "source": [
    "``` string\n",
    "[\n",
    "        {\n",
    "            \"Id\": \"a59f60f1-cd97-409e-bdf4-8c09d989c80c\",\n",
    "            \"OutboundFinancialDocumentId\": \"425f2ab8-976e-449e-bad9-43dbd47e1b46\",\n",
    "            \"IntegrationStatus\": \"Received\",\n",
    "            \"PreviousStatus\": \"Sending\",\n",
    "            \"StatusDate\": \"2021-11-04 03:34:11\",\n",
    "            \"Reason\": [\n",
    "                {\n",
    "                    \"Code\": \"ACCEPTED\",\n",
    "                    \"Field\": null,\n",
    "                    \"Values\": []\n",
    "                }\n",
    "            ]\n",
    "        },\n",
    "        {\n",
    "            \"Id\": \"94662da4-0046-4ce8-86a2-ea523ff252bc\",\n",
    "            \"OutboundFinancialDocumentId\": \"425f2ab8-976e-449e-bad9-43dbd47e1b46\",\n",
    "            \"IntegrationStatus\": \"Sending\",\n",
    "            \"PreviousStatus\": \"Not_Sent\",\n",
    "            \"StatusDate\": \"2021-11-04 03:15:39\",\n",
    "            \"Reason\": null\n",
    "        },\n",
    "        {\n",
    "            \"Id\": \"de9f608b-85b8-428c-9df7-ac1bf69c4d5a\",\n",
    "            \"OutboundFinancialDocumentId\": \"425f2ab8-976e-449e-bad9-43dbd47e1b46\",\n",
    "            \"IntegrationStatus\": \"Received\",\n",
    "            \"PreviousStatus\": \"Received\",\n",
    "            \"StatusDate\": \"2021-11-04 11:35:41\",\n",
    "            \"Reason\": [\n",
    "                {\n",
    "                    \"Code\": \"ACCEPTED\",\n",
    "                    \"Field\": null,\n",
    "                    \"Values\": []\n",
    "                }\n",
    "            ]\n",
    "        }\n",
    "    ]\n",
    "```"
   ]
  },
  {
   "cell_type": "code",
   "execution_count": null,
   "metadata": {},
   "outputs": [],
   "source": []
  }
 ],
 "metadata": {
  "kernelspec": {
   "display_name": "Python 3 (ipykernel)",
   "language": "python",
   "name": "python3"
  },
  "language_info": {
   "codemirror_mode": {
    "name": "ipython",
    "version": 3
   },
   "file_extension": ".py",
   "mimetype": "text/x-python",
   "name": "python",
   "nbconvert_exporter": "python",
   "pygments_lexer": "ipython3",
   "version": "3.10.10"
  }
 },
 "nbformat": 4,
 "nbformat_minor": 4
}
