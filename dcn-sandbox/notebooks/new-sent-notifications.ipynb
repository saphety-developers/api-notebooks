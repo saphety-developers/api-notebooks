{
 "cells": [
  {
   "cell_type": "markdown",
   "metadata": {
    "tags": []
   },
   "source": [
    "# Resend invoice, **by standard** email notification\n",
    "\n",
    "This endpoint is used to resend a processed \"Electronic invoice\" or \"PDF invoice\", by email.\n",
    "\n",
    "The email notification sent to your costumers/receivers has a predefined content layout.\n",
    "\n",
    "### Endpoint steps\n",
    "1. Get a token from your credentials by calling the endpoint **_Account/getToken_**;\n",
    "2. Resend notifications calling the endpoint **_OutboundFinancialDocumentMaintenance/sendAdditionalNotifications_**;\n",
    "\n",
    "#### Response structure from server\n",
    "When a request is well formed and the authentication data is correct the system responds with a message envelope as follows: \n",
    "\n",
    "```Javascript\n",
    "{\n",
    "\t\"CorrelationId\": \"<GUID>\", /* for correlation purposes */\n",
    "\t\"IsValid\": true,           /* false in case of erros */\n",
    "\t\"Errors\": [],              /* if empty is a good signal */\n",
    "\t\"Data\": \"<Service Response Data>\"   /* the data retuned ex: token, invoice status, dependent on the endpoint called */\n",
    "}\n",
    "```"
   ]
  },
  {
    "cell_type": "markdown",
    "metadata": {
     "tags": []
    },
    "source": [
     "#### Endpoint Server Base URL"
    ]
   },
   {
    "cell_type": "code",
    "execution_count": 1,
    "metadata": {},
    "outputs": [],
    "source": [
     "# SANDBOX - Test Environment\n",
     "server_base_adress = \"dcn-solution.saphety.com/Dcn.Sandbox.WebApi\"\n",
     "\n",
     "# Saphety Invoice Network - Production Environment\n",
     "#server_base_adress = \"dcn-solution.saphety.com/Dcn.Business.WebApi\""
    ]
   },
  {
   "cell_type": "markdown",
   "metadata": {},
   "source": [
    "## 1. Get a token (Account/getToken)\n",
    "Get a token from your account credentials using endpoint api/Account/getToken  \n",
    "Check [here](./get-token) how to obtain an authentication token. "
   ]
  },
  {
   "cell_type": "markdown",
   "metadata": {},
   "source": [
    "## 2. Resend PDF invoice notifications (OutboundFinancialDocumentMaintenance/sendAdditionalNotifications)"
   ]
  },
  {
   "cell_type": "markdown",
   "metadata": {},
   "source": [
    "### 2.1 Request body structure\n",
    "\n",
    "```Javascript\n",
    "{\n",
    "  {\n",
    "  \"OutboundFinancialDocumentId\": \"guid\",\n",
    "  \"DestinationEmails\": [\n",
    "    {\n",
    "      \"Email\": \"string\",\n",
    "      \"SendAttachment\": true,\n",
    "      \"LanguageCode\": \"string\",\n",
    "      \"CC\": [\n",
    "        \"string\"\n",
    "      ],\n",
    "      \"BCC\": [\n",
    "        \"string\"\n",
    "      ]\n",
    "    }\n",
    "  ]\n",
    "}\n",
    "}\n",
    "```\n",
    "\n",
    "#### OutboundFinancialDocumentId\n",
    "- **Description**: You need to supply the id of the invoice \"OutboundFinancialDocumentId\".\n",
    "- **Required**: Yes\n",
    "- **Type**: string\n",
    "- **Example**: \"3fa85f64-5717-4562-b3fc-2c963f66afa6\"\n",
    "\n",
    "#### DestinationEmails\n",
    "Array of _DestinationEmail_\n",
    "- Email\n",
    "    - **Description**: Defines the primary receiver/customer email address for the notification.\n",
    "    - **Required**: Yes\n",
    "    - **Type**: string\n",
    "    - **Example**: \"receiver@example.com\"\n",
    "\n",
    "- SendAttachment\n",
    "    - **Description**: Indicates whether the PDF is sent or not as an attachment in the notification.\n",
    "    - **Required**: No\n",
    "    - **Type**: boolean\n",
    "    - **Example**: true\n",
    "    - **_Notes_**: If it's not declared in the payload, it will assume false.\n",
    "\n",
    "- LanguageCode\n",
    "    - **Description**: Indicates the email notification language content.\n",
    "    - **Required**: No\n",
    "    - **Type**: string\n",
    "    - **Allowed values**: \"pt\" or \"en\"\n",
    "    - **Example**: \"pt\"\n",
    "    - **_Notes_**: If it's not declared in the payload, it will assume \"en\".\n",
    "    \n",
    "- CC\n",
    "    - **Description**: Defines the CC email addresses for the notification.\n",
    "    - **Required**: No\n",
    "    - **Type**: string array\n",
    "    - **Example**: [“cc_recipient1@example.com\", \"cc_recipient2@example.com\"]\n",
    "\n",
    "- BCC\n",
    "    - **Description**: Defines the BCC email addresses for the notification.\n",
    "    - **Required**: No\n",
    "    - **Type**: string array\n",
    "    - **Example**: [“bcc_recipient1@example.com\", \"bcc_recipient2@example.com\"]"
   ]
  },
  {
   "cell_type": "markdown",
   "metadata": {},
   "source": [
    "### 2.2 Request example"
   ]
  },
  {
   "cell_type": "code",
   "execution_count": 17,
   "metadata": {},
   "outputs": [
    {
     "name": "stdout",
     "output_type": "stream",
     "text": [
      "Endpoint url: https://dcn-solution.saphety.com/Dcn.Sandbox.WebApi/api/OutboundFinancialDocumentMaintenance/sendAdditionalNotifications\n"
     ]
    }
   ],
   "source": [
    "# SIN endpoint url\n",
    "service_url = \"https://\" + server_base_adress + \"/api/OutboundFinancialDocumentMaintenance/sendAdditionalNotifications\"\n",
    "print (\"Endpoint url: \" + service_url)\n",
    "\n",
    "#headers\n",
    "headers = {\n",
    "    'Content-Type': 'application/json',\n",
    "    'Authorization': 'bearer ' + token\n",
    "    }\n",
    "# payload as json\n",
    "payload = {\n",
    "  'OutboundFinancialDocumentId': 'fc5e547d-8537-4e05-97d5-1159c62efd6f',\n",
    "  'DestinationEmails': [{\n",
    "    'Email': 'sin_api_documentation_user@saphety.com',\n",
    "    'SendAttachment': True,\n",
    "    'LanguageCode': 'PT'\n",
    "  }]\n",
    "}"
   ]
  },
  {
   "cell_type": "markdown",
   "metadata": {},
   "source": [
    "<font color=red>\\* **Note :** in the Sandbox environment, the notifications are sent only for the user registration email, even if within the  payload are displayed other email addresses.</font>"
   ]
  },
  {
   "cell_type": "markdown",
   "metadata": {},
   "source": [
    "### 2.3 Call endpoint resend notifications\n",
    "**Resend** an invoice by **Document id** (“OutboundFinancialDocumentId“) using endpoint _**/api/OutboundFinancialDocumentMaintenance/sendAdditionalNotifications**_"
   ]
  },
  {
   "cell_type": "code",
   "execution_count": 7,
   "metadata": {},
   "outputs": [
    {
     "name": "stdout",
     "output_type": "stream",
     "text": [
      "{\n",
      "    \"CorrelationId\": \"50d02294-fe13-49d4-8e5b-77fd02f953f2\",\n",
      "    \"IsValid\": true,\n",
      "    \"Errors\": [],\n",
      "    \"Data\": [\n",
      "        \"sin_api_documentation_user@saphety.com\"\n",
      "    ]\n",
      "}\n"
     ]
    }
   ],
   "source": [
    "# Send the request (POST).\n",
    "response = requests.request(\"POST\", service_url, data=request_data, headers=headers)\n",
    "\n",
    "# formating the response to json for visualization purposes only\n",
    "json_response = json.loads(response.text)\n",
    "print(json.dumps(json_response, indent=4))"
   ]
  },
  {
   "cell_type": "markdown",
   "metadata": {},
   "source": [
    "At response \"Data\" you will see the email adress where the invoice was sent to."
   ]
  }
 ],
 "metadata": {
  "kernelspec": {
   "display_name": "Python 3 (ipykernel)",
   "language": "python",
   "name": "python3"
  },
  "language_info": {
   "codemirror_mode": {
    "name": "ipython",
    "version": 3
   },
   "file_extension": ".py",
   "mimetype": "text/x-python",
   "name": "python",
   "nbconvert_exporter": "python",
   "pygments_lexer": "ipython3",
   "version": "3.10.10"
  }
 },
 "nbformat": 4,
 "nbformat_minor": 4
}
