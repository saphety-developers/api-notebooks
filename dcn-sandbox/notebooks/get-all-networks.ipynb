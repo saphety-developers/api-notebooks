{
 "cells": [
  {
   "cell_type": "markdown",
   "metadata": {
    "tags": []
   },
   "source": [
    "# Get networks\n",
    "This endpoint is used to **get** the list of networks available for interoperability.\n",
    "\n",
    "### Endpoint steps\n",
    "1. Get a token from your credentials by calling the endpoint **_Account/getToken_**;\n",
    "2. Get all the networks available calling the endpoint **_BusinessGroups/all_** from IntegrationAccess API URL;\n",
    "\n",
    "#### Response structure from server\n",
    "When a request is well formed and the authentication data is correct the system responds with a message envelope as follows: \n",
    "\n",
    "```Javascript\n",
    "{\n",
    "\t\"CorrelationId\": \"<GUID>\", /* for correlation purposes */\n",
    "\t\"IsValid\": true,           /* false in case of erros */\n",
    "\t\"Errors\": [],              /* if empty is a good signal */\n",
    "\t\"Data\": \"<Service Response Data>\"   /* the data retuned ex: token, invoice status, dependent on the endpoint called */\n",
    "}\n",
    "```"
   ]
  },
  {
   "cell_type": "markdown",
   "metadata": {
    "tags": []
   },
   "source": [
    "#### Endpoint Server Base URL"
   ]
  },
  {
   "cell_type": "code",
   "execution_count": 19,
   "metadata": {},
   "outputs": [],
   "source": [
    "# SANDBOX - Test Environment\n",
    "integration_access_server_base_adress = \"dcn-solution.saphety.com/Dcn.Sandbox.WebApi\"\n",
    "\n",
    "# Saphety Invoice Network - Production Environment\n",
    "#integration_access_server_base_adress = \"dcn-solution.saphety.com/IN2.IntegrationAccess.WebApi\""
   ]
  },
  {
   "cell_type": "markdown",
   "metadata": {
    "tags": []
   },
   "source": [
    "## 1. Get a token (Account/getToken)\n",
    "Get a token from your account credentials using endpoint api/Account/getToken  \n",
    "Check [here](./get-token) how to obtain an authentication token. "
   ]
  },
  {
   "cell_type": "markdown",
   "metadata": {},
   "source": [
    "## 2. Get networks available (BusinessGroups/all)  "
   ]
  },
  {
   "cell_type": "markdown",
   "metadata": {},
   "source": [
    "### 2.1 Request example"
   ]
  },
  {
   "cell_type": "code",
   "execution_count": 20,
   "metadata": {},
   "outputs": [
    {
     "name": "stdout",
     "output_type": "stream",
     "text": [
      "https://dcn-solution.saphety.com/Dcn.Sandbox.WebApi/api/BusinessGroups/all\n"
     ]
    }
   ],
   "source": [
    "# WebStore endpoint url for retrieving information\n",
    "service_url = \"https://\" + integration_access_server_base_adress + \"/api/BusinessGroups/all\"\n",
    "print (service_url)"
   ]
  },
  {
   "cell_type": "markdown",
   "metadata": {},
   "source": [
    "### 2.2 Call the endpoint to get the networks available\n",
    "**Get** the networks available using endpoint _**/api/BusinessGroups/all**_"
   ]
  },
  {
   "cell_type": "code",
   "execution_count": 18,
   "metadata": {},
   "outputs": [
    {
     "name": "stdout",
     "output_type": "stream",
     "text": [
      "[\n",
      "    {\n",
      "        \"Code\": \"Dcn\",\n",
      "        \"DocServerCode\": \"Dcn\",\n",
      "        \"RequiresConditionsAcceptence\": false,\n",
      "        \"RequiresActivationFeatures\": false,\n",
      "        \"Features\": []\n",
      "    },\n",
      "    {\n",
      "        \"Code\": \"Espap\",\n",
      "        \"DocServerCode\": \"ESPAP\",\n",
      "        \"RequiresConditionsAcceptence\": true,\n",
      "        \"RequiresActivationFeatures\": false,\n",
      "        \"Features\": []\n",
      "    },\n",
      "    {\n",
      "        \"Code\": \"iLink\",\n",
      "        \"DocServerCode\": \"SIN_eINV_iLink\",\n",
      "        \"RequiresConditionsAcceptence\": false,\n",
      "        \"RequiresActivationFeatures\": true,\n",
      "        \"Features\": [\n",
      "            {\n",
      "                \"FeatureCode\": \"iLinkIntegrationAccess\",\n",
      "                \"ForActivation\": true\n",
      "            },\n",
      "            {\n",
      "                \"FeatureCode\": \"Interconnect\",\n",
      "                \"ForActivation\": false\n",
      "            }\n",
      "        ]\n",
      "    }\n",
      "]\n"
     ]
    }
   ],
   "source": [
    "headers = {\n",
    "    'Authorization': 'bearer ' + token\n",
    "}\n",
    "response = requests.request(\"GET\", service_url, headers=headers)\n",
    "\n",
    "# formating the response to json for visualization purposes only\n",
    "json_response = json.loads(response.text)\n",
    "print(json.dumps(json_response[\"Data\"], indent=4))"
   ]
  },
  {
   "cell_type": "markdown",
   "metadata": {},
   "source": [
    "The available \"**Codes**\" are:  \n",
    "- Dcn\n",
    "- Espap\n",
    "- Generix\n",
    "- iLink\n",
    "- Indra\n",
    "- Seres\n",
    "- Yet"
   ]
  }
 ],
 "metadata": {
  "kernelspec": {
   "display_name": "Python 3 (ipykernel)",
   "language": "python",
   "name": "python3"
  },
  "language_info": {
   "codemirror_mode": {
    "name": "ipython",
    "version": 3
   },
   "file_extension": ".py",
   "mimetype": "text/x-python",
   "name": "python",
   "nbconvert_exporter": "python",
   "pygments_lexer": "ipython3",
   "version": "3.10.10"
  }
 },
 "nbformat": 4,
 "nbformat_minor": 4
}
