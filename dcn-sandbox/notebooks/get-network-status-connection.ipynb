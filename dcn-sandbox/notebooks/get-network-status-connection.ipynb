{
 "cells": [
  {
   "cell_type": "markdown",
   "metadata": {
    "tags": []
   },
   "source": [
    "# Get network connection status\n",
    "This endpoint is used to **get** the status of a network connection.\n",
    "\n",
    "### Endpoint steps\n",
    "1. Get a token from your credentials by calling the endpoint **_Account/getToken_**;\n",
    "2. Get the network connection status by calling the endpoint **_/IntegrationAccessControl/{clientId}/{businessGroupCode}_** from IntegrationAccess API URL;\n",
    "\n",
    "#### Response structure from server\n",
    "When a request is well formed and the authentication data is correct the system responds with a message envelope as follows: \n",
    "\n",
    "```Javascript\n",
    "{\n",
    "\t\"CorrelationId\": \"<GUID>\", /* for correlation purposes */\n",
    "\t\"IsValid\": true,           /* false in case of erros */\n",
    "\t\"Errors\": [],              /* if empty is a good signal */\n",
    "\t\"Data\": \"<Service Response Data>\"   /* the data retuned ex: token, invoice status, dependent on the endpoint called */\n",
    "}\n",
    "```"
   ]
  },
  {
   "cell_type": "markdown",
   "metadata": {
    "tags": []
   },
   "source": [
    "#### Endpoint Server Base URL"
   ]
  },
  {
   "cell_type": "code",
   "execution_count": 44,
   "metadata": {},
   "outputs": [],
   "source": [
    "# SANDBOX - Test Environment\n",
    "integration_access_server_base_adress = \"dcn-solution.saphety.com/Dcn.Sandbox.WebApi\"\n",
    "\n",
    "# Saphety Invoice Network - Production Environment\n",
    "#integration_access_server_base_adress = \"dcn-solution.saphety.com/IN2.IntegrationAccess.WebApi\""
   ]
  },
  {
   "cell_type": "markdown",
   "metadata": {
    "tags": []
   },
   "source": [
    "## 1. Get a token (Account/getToken)\n",
    "Get a token from your account credentials using endpoint api/Account/getToken  \n",
    "Check [here](./get-token) how to obtain an authentication token. "
   ]
  },
  {
   "cell_type": "markdown",
   "metadata": {},
   "source": [
    "## 2. Get network connection status (IntegrationAccessControl/{clientId}/{groupCode})  "
   ]
  },
  {
   "cell_type": "markdown",
   "metadata": {},
   "source": [
    "### 2.1 Request structure\n",
    "In the endpoint url you need to supply the **clientId** and the **groupCode**\n",
    "\n",
    "#### clientId\n",
    "- **Description**: Tax identification of the entity (aka as vatNumber).\n",
    "- **Required**: Yes\n",
    "- **Type**: string\n",
    "- **Example**: \"PT518576302\"\n",
    "- **_Notes_**: Only accepts valid vatNumbers and filled with the countryCode prefix.\n",
    "\n",
    "#### groupCode\n",
    "- **Description**: The group code identification\n",
    "- **Required**: Yes\n",
    "- **Type**: string\n",
    "- **Example**: \"iLink\"\n",
    "\n",
    "### 2.2 Request example"
   ]
  },
  {
   "cell_type": "code",
   "execution_count": 45,
   "metadata": {},
   "outputs": [
    {
     "name": "stdout",
     "output_type": "stream",
     "text": [
      "https://dcn-solution.saphety.com/Dcn.Sandbox.WebApi/api/IntegrationAccessControl/PT240606590/Dcn\n"
     ]
    }
   ],
   "source": [
    "clientId = 'PT240606590'\n",
    "groupCode = 'Dcn'\n",
    "# WebStore endpoint url for retrieving information\n",
    "service_url = 'https://' + integration_access_server_base_adress + '/api/IntegrationAccessControl/' + clientId + '/' + groupCode\n",
    "print (service_url)"
   ]
  },
  {
   "cell_type": "markdown",
   "metadata": {},
   "source": [
    "### 2.3 Call the endpoint to get the network connection status\n",
    "**Get** the network connection status using endpoint _**/api/IntegrationAccessControl/{clientId}/{groupCode}**_"
   ]
  },
  {
   "cell_type": "code",
   "execution_count": 36,
   "metadata": {},
   "outputs": [
    {
     "name": "stdout",
     "output_type": "stream",
     "text": [
      "{\n",
      "    \"BusinessGroupCode\": \"Dcn\",\n",
      "    \"ClientId\": \"PT240606590\",\n",
      "    \"ApplicationCode\": \"DcnSolution\",\n",
      "    \"AccessStatus\": \"Connected\",\n",
      "    \"RequestDate\": \"2023-11-10T00:00:00\"\n",
      "}\n"
     ]
    }
   ],
   "source": [
    "# build the request\n",
    "headers = {\n",
    "    'Authorization': 'bearer ' + token\n",
    "}\n",
    "response = requests.request(\"GET\", service_url, headers=headers)\n",
    "\n",
    "# formating the response to json for visualization purposes only\n",
    "json_response = json.loads(response.text)\n",
    "print(json.dumps(json_response[\"Data\"], indent=4))"
   ]
  },
  {
   "cell_type": "markdown",
   "metadata": {},
   "source": [
    "When the connection was never started, an error will be returned."
   ]
  },
  {
   "cell_type": "code",
   "execution_count": 46,
   "metadata": {},
   "outputs": [
    {
     "name": "stdout",
     "output_type": "stream",
     "text": [
      "https://dcn-solution.saphety.com/Dcn.Sandbox.WebApi/api/IntegrationAccessControl/PT240606590/iLink\n"
     ]
    }
   ],
   "source": [
    "clientId = 'PT240606590'\n",
    "groupCode = 'iLink'\n",
    "\n",
    "# WebStore endpoint url for retrieving information\n",
    "service_url = 'https://' + integration_access_server_base_adress + '/api/IntegrationAccessControl/' + clientId + '/' + groupCode\n",
    "print (service_url)"
   ]
  },
  {
   "cell_type": "code",
   "execution_count": 37,
   "metadata": {},
   "outputs": [
    {
     "name": "stdout",
     "output_type": "stream",
     "text": [
      "[\n",
      "    {\n",
      "        \"Code\": \"IA0020\",\n",
      "        \"Field\": \"integrationAccessControl\",\n",
      "        \"ExplanationValues\": [\n",
      "            {\n",
      "                \"Key\": \"ClientId\",\n",
      "                \"Value\": \"PT240606590\"\n",
      "            },\n",
      "            {\n",
      "                \"Key\": \"BusinessGroupCode\",\n",
      "                \"Value\": \"iLink\"\n",
      "            }\n",
      "        ]\n",
      "    }\n",
      "]\n"
     ]
    }
   ],
   "source": [
    "headers = {\n",
    "    'Authorization': 'bearer ' + token\n",
    "}\n",
    "response = requests.request(\"GET\", service_url, headers=headers)\n",
    "\n",
    "# formating the response to json for visualization purposes only\n",
    "json_response = json.loads(response.text)\n",
    "print(json.dumps(json_response[\"Errors\"], indent=4))"
   ]
  }
 ],
 "metadata": {
  "kernelspec": {
   "display_name": "Python 3 (ipykernel)",
   "language": "python",
   "name": "python3"
  },
  "language_info": {
   "codemirror_mode": {
    "name": "ipython",
    "version": 3
   },
   "file_extension": ".py",
   "mimetype": "text/x-python",
   "name": "python",
   "nbconvert_exporter": "python",
   "pygments_lexer": "ipython3",
   "version": "3.10.10"
  }
 },
 "nbformat": 4,
 "nbformat_minor": 4
}
