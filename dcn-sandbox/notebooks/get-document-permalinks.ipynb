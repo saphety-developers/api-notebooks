{
 "cells": [
  {
   "cell_type": "markdown",
   "metadata": {},
   "source": [
    "# Get invoice permanent links\n",
    "This endpoint is used to retrieve a permanent link to acess an invoice stored in archive.\n",
    "\n",
    "### Endpoint steps\n",
    "1. Get a token from your credentials by calling the endpoint **_Account/getToken_**;\n",
    "2. Get document permalinks calling the endpoint **_OutboundFinancialDocument/getDocumentPermalinks/{documentId}_**;\n",
    "\n",
    "#### Response structure from server\n",
    "When a request is well formed and the authentication data is correct the system responds with a message envelope as follows: \n",
    "\n",
    "```Javascript\n",
    "{\n",
    "\t\"CorrelationId\": \"<GUID>\", /* for correlation purposes */\n",
    "\t\"IsValid\": true,           /* false in case of erros */\n",
    "\t\"Errors\": [],              /* if empty is a good signal */\n",
    "\t\"Data\": \"<Service Response Data>\"   /* the data retuned ex: token, invoice status, dependent on the endpoint called */\n",
    "}\n",
    "```"
   ]
  },
  {
    "cell_type": "markdown",
    "metadata": {
     "tags": []
    },
    "source": [
     "#### Endpoint Server Base URL"
    ]
   },
   {
    "cell_type": "code",
    "execution_count": 1,
    "metadata": {},
    "outputs": [],
    "source": [
     "# SANDBOX - Test Environment\n",
     "server_base_adress = \"dcn-solution.saphety.com/Dcn.Sandbox.WebApi\"\n",
     "\n",
     "# Saphety Invoice Network - Production Environment\n",
     "#server_base_adress = \"dcn-solution.saphety.com/Dcn.Business.WebApi\""
    ]
   },
  {
   "cell_type": "markdown",
   "metadata": {},
   "source": [
    "## 1. Get a token (Account/getToken)\n",
    "Get a token from your account credentials using endpoint api/Account/getToken  \n",
    "Check [here](./get-token) how to obtain an authentication token. "
   ]
  },
  {
   "cell_type": "markdown",
   "metadata": {},
   "source": [
    "## 2. Get document permalinks calling the endpoint OutboundFinancialDocument/getDocumentPermalinks/{documentId}"
   ]
  },
  {
   "cell_type": "markdown",
   "metadata": {},
   "source": [
    "### 2.1 Request structure\n",
    "In the endpoint url you need to supply the documentId received\n",
    "\n",
    "#### documentId\n",
    "- **Description**: You need to supply the id of the invoice.\n",
    "- **Required**: Yes\n",
    "- **Type**: string\n",
    "- **Example**: \"3fa85f64-5717-4562-b3fc-2c963f66afa6\""
   ]
  },
  {
   "cell_type": "markdown",
   "metadata": {},
   "source": [
    "### 2.2 Request example"
   ]
  },
  {
   "cell_type": "code",
   "execution_count": 22,
   "metadata": {},
   "outputs": [
    {
     "name": "stdout",
     "output_type": "stream",
     "text": [
      "https://dcn-solution.saphety.com/Dcn.Sandbox.WebApi/api/OutboundFinancialDocument/getDocumentPermalinks/e90e4213-7354-495c-bb60-cc08aff724f2\n"
     ]
    }
   ],
   "source": [
    "documentId = \"e90e4213-7354-495c-bb60-cc08aff724f2\"\n",
    "\n",
    "# SIN endpoint url for retrieving inforfation on invoice previously sent\n",
    "service_url = \"https://\" + server_base_adress + \"/api/OutboundFinancialDocument/getDocumentPermalinks/\" + documentId\n",
    "print (service_url)"
   ]
  },
  {
   "cell_type": "markdown",
   "metadata": {},
   "source": [
    "### 2.3 Call the endpoint to get the document permalinks\n",
    "**Get** the invoice permanent link stored in archive by the **Document id** (“OutboundFinancialDocumentId“) using endpoint _**/api/OutboundFinancialDocument/getDocumentPermalinks/:documentId**_"
   ]
  },
  {
   "cell_type": "code",
   "execution_count": 5,
   "metadata": {},
   "outputs": [
    {
     "name": "stdout",
     "output_type": "stream",
     "text": [
      "{\n",
      "    \"OutboundFinancialDocumentId\": \"e90e4213-7354-495c-bb60-cc08aff724f2\",\n",
      "    \"DocumentLink\": \"https://dcn-solution-qa.saphety.com/IN2.ContentStorage.WebApi/api/Content/false?token=48I6KL%2BWRL0kO07ENkKpPS%2FXL3d7ImN0SWQiOiJjMGNkNTFiZC00MjU3LTQwMjItOTc4ZC03OGY1MTBkZmE4MjEiLCJpRHQiOiIyMDIyLTExLTI5IiwiZUR0IjpudWxsLCJpQnkiOiJTYXBoZXR5IEFQSSBEZW1vIiwiaVRvIjoiU2FwaGV0eSBBUEkgRGVtbyIsInMiOiJ3ZWIiLCJhYWgiOmZhbHNlfQ%3D%3D\",\n",
      "    \"Formats\": [\n",
      "        {\n",
      "            \"OutboundFinancialDocumentId\": \"e90e4213-7354-495c-bb60-cc08aff724f2\",\n",
      "            \"ContentType\": \"application/xml\",\n",
      "            \"DocumentLink\": \"https://dcn-solution-qa.saphety.com/IN2.ContentStorage.WebApi/api/Content/false?token=tKMUGJ6EcQP2wHJZmh9f1FX3YxV7ImN0SWQiOiJjNzAzN2ZkZC0zMzQ3LTQ2NTktOTI4Zi00NDdmYWE1NGU1ZGMiLCJpRHQiOiIyMDIyLTExLTI5IiwiZUR0IjpudWxsLCJpQnkiOiJTYXBoZXR5IEFQSSBEZW1vIiwiaVRvIjoiU2FwaGV0eSBBUEkgRGVtbyIsInMiOiJ3ZWIiLCJhYWgiOmZhbHNlfQ%3D%3D\"\n",
      "        },\n",
      "        {\n",
      "            \"OutboundFinancialDocumentId\": \"e90e4213-7354-495c-bb60-cc08aff724f2\",\n",
      "            \"ContentType\": \"application/json\",\n",
      "            \"DocumentLink\": \"https://dcn-solution-qa.saphety.com/IN2.ContentStorage.WebApi/api/Content/false?token=OzmfHtRIl47kohIjFZNI1drsrz17ImN0SWQiOiJhNjBjMTdkZS1hN2UwLTQ1MWItOTkzMC03ZDE4ZmQzZGE3ZWIiLCJpRHQiOiIyMDIyLTExLTI5IiwiZUR0IjpudWxsLCJpQnkiOiJTYXBoZXR5IEFQSSBEZW1vIiwiaVRvIjoiU2FwaGV0eSBBUEkgRGVtbyIsInMiOiJ3ZWIiLCJhYWgiOmZhbHNlfQ%3D%3D\"\n",
      "        },\n",
      "        {\n",
      "            \"OutboundFinancialDocumentId\": \"e90e4213-7354-495c-bb60-cc08aff724f2\",\n",
      "            \"ContentType\": \"application/xml\",\n",
      "            \"DocumentLink\": \"https://dcn-solution-qa.saphety.com/IN2.ContentStorage.WebApi/api/Content/false?token=PquoARk8tJFtp4Ss6JCspwj%2Bgh17ImN0SWQiOiJmYWY3ODdkZS0xMzdmLTQ3ODQtODJjMC04MTFmNWZlOTcxZmQiLCJpRHQiOiIyMDIyLTExLTI5IiwiZUR0IjpudWxsLCJpQnkiOiJTYXBoZXR5IEFQSSBEZW1vIiwiaVRvIjoiU2FwaGV0eSBBUEkgRGVtbyIsInMiOiJ3ZWIiLCJhYWgiOmZhbHNlfQ%3D%3D\"\n",
      "        },\n",
      "        {\n",
      "            \"OutboundFinancialDocumentId\": \"e90e4213-7354-495c-bb60-cc08aff724f2\",\n",
      "            \"ContentType\": \"application/pdf\",\n",
      "            \"DocumentLink\": \"https://dcn-solution-qa.saphety.com/IN2.ContentStorage.WebApi/api/Content/false?token=SKHRdpBjAl0OnAc0lXYEtuBSpZZ7ImN0SWQiOiI1NjZiMjljNS03MTQwLTQ5ZGEtOTJhMC1kODBiMDkwOWQ1YTYiLCJpRHQiOiIyMDIyLTExLTI5IiwiZUR0IjpudWxsLCJpQnkiOiJTYXBoZXR5IEFQSSBEZW1vIiwiaVRvIjoiU2FwaGV0eSBBUEkgRGVtbyIsInMiOiJ3ZWIiLCJhYWgiOmZhbHNlfQ%3D%3D\"\n",
      "        }\n",
      "    ]\n",
      "}\n"
     ]
    }
   ],
   "source": [
    "# build the request\n",
    "headers = {\n",
    "    'Authorization': 'bearer ' + token\n",
    "    }\n",
    "# POST request to send the invoice\n",
    "response = requests.request(\"GET\", service_url, headers=headers)\n",
    "\n",
    "# formating the response to json for visualization purposes only\n",
    "json_response = json.loads(response.text)\n",
    "print(json.dumps(json_response[\"Data\"], indent=4))"
   ]
  },
  {
   "cell_type": "markdown",
   "metadata": {},
   "source": [
    "The invoice permanent link are returned at response \"Data.DocumentLink\", see the possible values returned."
   ]
  }
 ],
 "metadata": {
  "kernelspec": {
   "display_name": "Python 3 (ipykernel)",
   "language": "python",
   "name": "python3"
  },
  "language_info": {
   "codemirror_mode": {
    "name": "ipython",
    "version": 3
   },
   "file_extension": ".py",
   "mimetype": "text/x-python",
   "name": "python",
   "nbconvert_exporter": "python",
   "pygments_lexer": "ipython3",
   "version": "3.10.10"
  }
 },
 "nbformat": 4,
 "nbformat_minor": 4
}
