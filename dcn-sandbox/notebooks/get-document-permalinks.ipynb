{
 "cells": [
  {
   "cell_type": "markdown",
   "metadata": {},
   "source": [
    "# Get Document Permalinks\n",
    "Use this service to **get** permalinks to download a document.\n",
    "\n",
    "### Service steps\n",
    "1. Get a token from your credentials by calling the service **_Account/getToken_**;\n",
    "2. Get document permalinks calling the service **_OutboundFinancialDocument/getDocumentPermalinks/{documentId}_**;\n",
    "\n",
    "#### Response structure from server\n",
    "When a request is well formed and the authentication data is correct the system responds with a message envelope as follows: \n",
    "\n",
    "```Javascript\n",
    "{\n",
    "\t\"CorrelationId\": \"<GUID>\", /* for correlation purposes */\n",
    "\t\"IsValid\": true,           /* false in case of erros */\n",
    "\t\"Errors\": [],              /* if empty is a good signal */\n",
    "\t\"Data\": \"<Service Response Data>\"   /* the data retuned ex: token, invoice status, dependent on the service called */\n",
    "}\n",
    "```"
   ]
  },
  {
   "cell_type": "markdown",
   "metadata": {},
   "source": [
    "## 1. Get a token (Account/getToken)\n",
    "* For **Test purposes**, the **_user_** and **_password_** defined at **Saphety Invoice Network - Quality environment**<br>\n",
    "or\n",
    "* For **Production**, the **_user_** and **_password_** defined at **Saphety Invoice Network - Production environment**\n",
    "\n",
    "Use those credentials to get a token at:\n",
    "```\n",
    "https://<ServerBaseAddress>/api/Account/getToken\n",
    "```"
   ]
  },
  {
   "cell_type": "code",
   "execution_count": 1,
   "metadata": {},
   "outputs": [],
   "source": [
    "# Saphety Invoice Network - Integration Environment\n",
    "server_base_adress = \"dcn-solution-qa.saphety.com/Dcn.Business.WebApi\""
   ]
  },
  {
   "cell_type": "code",
   "execution_count": 2,
   "metadata": {},
   "outputs": [
    {
     "name": "stdout",
     "output_type": "stream",
     "text": [
      "{\n",
      "    \"CorrelationId\": \"a2ab4c6b-14a0-48b2-8775-278d4e44f0f2\",\n",
      "    \"IsValid\": true,\n",
      "    \"Errors\": [],\n",
      "    \"Data\": \"eyJhbGciOiJIUzI1NiIsInR5cCI6IkpXVCJ9.eyJuYW1laWQiOiJhYjc4OWRkNy0wMzEzLTQyMjEtOWJmOS1jMmI3NzE3ODFjMjAiLCJ1bmlxdWVfbmFtZSI6InNpbl9hcGlfZG9jdW1lbnRhdGlvbl91c2VyQHNhcGhldHkuY29tIiwic3lzdGVtX2FkbWluIjoiRmFsc2UiLCJzZXNzaW9uX2lkIjoiZWY0NzExNzYtNjNlZC00NDNmLTljNDMtZDEyMTc5YWFiMzkwIiwidm8iOiJTYXBoZXR5IiwicmwiOlsiQ29tcGFueUFkbWluaXN0cmF0b3IiLCJDb21wYW55VXNlciJdLCJjcCI6IlBUNTA3OTU3NTQ3IiwibmJmIjoxNjY5NzI1ODk0LCJleHAiOjE2NzU3MjU4MzQsImlhdCI6MTY2OTcyNTgzNCwiaXNzIjoiaHR0cHM6Ly93d3cuc2FwaGV0eS5jb20vIiwiYXVkIjoiaHR0cHM6Ly93d3cuc2FwaGV0eS5jb20vRGNuU2VydmVyIn0._8Sm7GnoFWXUgHfLKXlTRMMA1igsSIZmDAeovkPIoTY\"\n",
      "}\n"
     ]
    }
   ],
   "source": [
    "import requests\n",
    "import json\n",
    "\n",
    "# SIN account service url\n",
    "service_url = \"https://\" + server_base_adress + \"/api/Account/getToken\"\n",
    "\n",
    "# the username and password you registerd in SIN\n",
    "username = 'sin_api_documentation_user@saphety.com'\n",
    "password = 'DocUser2022@'\n",
    "\n",
    "# auhtentication data goes in payload as json\n",
    "payload = {\n",
    "      'Username': username,\n",
    "      'Password': password\n",
    "}\n",
    "# payload goes in json, serialize the payloal object to json\n",
    "request_data=json.dumps(payload)\n",
    "# indicate in header that payload is json\n",
    "headers = {\n",
    "    'content-type': 'application/json'\n",
    "    }\n",
    "# POST request to get a token\n",
    "response = requests.request(\"POST\", service_url, data=request_data, headers=headers)\n",
    "# formating the response to json for visualization purposes only\n",
    "json_response = json.loads(response.text)\n",
    "print(json.dumps(json_response, indent=4))"
   ]
  },
  {
   "cell_type": "code",
   "execution_count": 3,
   "metadata": {},
   "outputs": [
    {
     "name": "stdout",
     "output_type": "stream",
     "text": [
      "eyJhbGciOiJIUzI1NiIsInR5cCI6IkpXVCJ9.eyJuYW1laWQiOiJhYjc4OWRkNy0wMzEzLTQyMjEtOWJmOS1jMmI3NzE3ODFjMjAiLCJ1bmlxdWVfbmFtZSI6InNpbl9hcGlfZG9jdW1lbnRhdGlvbl91c2VyQHNhcGhldHkuY29tIiwic3lzdGVtX2FkbWluIjoiRmFsc2UiLCJzZXNzaW9uX2lkIjoiZWY0NzExNzYtNjNlZC00NDNmLTljNDMtZDEyMTc5YWFiMzkwIiwidm8iOiJTYXBoZXR5IiwicmwiOlsiQ29tcGFueUFkbWluaXN0cmF0b3IiLCJDb21wYW55VXNlciJdLCJjcCI6IlBUNTA3OTU3NTQ3IiwibmJmIjoxNjY5NzI1ODk0LCJleHAiOjE2NzU3MjU4MzQsImlhdCI6MTY2OTcyNTgzNCwiaXNzIjoiaHR0cHM6Ly93d3cuc2FwaGV0eS5jb20vIiwiYXVkIjoiaHR0cHM6Ly93d3cuc2FwaGV0eS5jb20vRGNuU2VydmVyIn0._8Sm7GnoFWXUgHfLKXlTRMMA1igsSIZmDAeovkPIoTY\n"
     ]
    }
   ],
   "source": [
    "# your token is at:\n",
    "token = json_response[\"Data\"];\n",
    "print (token)"
   ]
  },
  {
   "cell_type": "markdown",
   "metadata": {},
   "source": [
    "## 2. Get document permalinks calling the service OutboundFinancialDocument/getDocumentPermalinks/{documentId}"
   ]
  },
  {
   "cell_type": "markdown",
   "metadata": {},
   "source": [
    "### Build the service endpoint url\n",
    "In the service url you need to supply the documentId to search\n",
    "\n",
    "```\n",
    "https://<ServerBaseUrl>/OutboundFinancialDocument/getDocumentPermalinks/<documentId>\n",
    "```"
   ]
  },
  {
   "cell_type": "code",
   "execution_count": 4,
   "metadata": {},
   "outputs": [
    {
     "name": "stdout",
     "output_type": "stream",
     "text": [
      "https://dcn-solution-qa.saphety.com/Dcn.Business.WebApi/api/OutboundFinancialDocument/getDocumentPermalinks/e90e4213-7354-495c-bb60-cc08aff724f2\n"
     ]
    }
   ],
   "source": [
    "# SIN service url for retrieving inforfation on invoice previously sent\n",
    "service_url = \"\"\"{ServerBaseUrl}/api/OutboundFinancialDocument/getDocumentPermalinks/{documentId}\"\"\".format(\n",
    "    ServerBaseUrl=server_base_adress,\n",
    "    documentId=\"e90e4213-7354-495c-bb60-cc08aff724f2\"\n",
    ")\n",
    "service_url = \"https://\" + service_url\n",
    "print (service_url)"
   ]
  },
  {
   "cell_type": "markdown",
   "metadata": {},
   "source": [
    "### Call the service to get the document permalinks\n",
    "You will call the service endpoint url"
   ]
  },
  {
   "cell_type": "code",
   "execution_count": 5,
   "metadata": {},
   "outputs": [
    {
     "name": "stdout",
     "output_type": "stream",
     "text": [
      "{\n",
      "    \"OutboundFinancialDocumentId\": \"e90e4213-7354-495c-bb60-cc08aff724f2\",\n",
      "    \"DocumentLink\": \"https://dcn-solution-qa.saphety.com/IN2.ContentStorage.WebApi/api/Content/false?token=48I6KL%2BWRL0kO07ENkKpPS%2FXL3d7ImN0SWQiOiJjMGNkNTFiZC00MjU3LTQwMjItOTc4ZC03OGY1MTBkZmE4MjEiLCJpRHQiOiIyMDIyLTExLTI5IiwiZUR0IjpudWxsLCJpQnkiOiJTYXBoZXR5IEFQSSBEZW1vIiwiaVRvIjoiU2FwaGV0eSBBUEkgRGVtbyIsInMiOiJ3ZWIiLCJhYWgiOmZhbHNlfQ%3D%3D\",\n",
      "    \"Formats\": [\n",
      "        {\n",
      "            \"OutboundFinancialDocumentId\": \"e90e4213-7354-495c-bb60-cc08aff724f2\",\n",
      "            \"ContentType\": \"application/xml\",\n",
      "            \"DocumentLink\": \"https://dcn-solution-qa.saphety.com/IN2.ContentStorage.WebApi/api/Content/false?token=tKMUGJ6EcQP2wHJZmh9f1FX3YxV7ImN0SWQiOiJjNzAzN2ZkZC0zMzQ3LTQ2NTktOTI4Zi00NDdmYWE1NGU1ZGMiLCJpRHQiOiIyMDIyLTExLTI5IiwiZUR0IjpudWxsLCJpQnkiOiJTYXBoZXR5IEFQSSBEZW1vIiwiaVRvIjoiU2FwaGV0eSBBUEkgRGVtbyIsInMiOiJ3ZWIiLCJhYWgiOmZhbHNlfQ%3D%3D\"\n",
      "        },\n",
      "        {\n",
      "            \"OutboundFinancialDocumentId\": \"e90e4213-7354-495c-bb60-cc08aff724f2\",\n",
      "            \"ContentType\": \"application/json\",\n",
      "            \"DocumentLink\": \"https://dcn-solution-qa.saphety.com/IN2.ContentStorage.WebApi/api/Content/false?token=OzmfHtRIl47kohIjFZNI1drsrz17ImN0SWQiOiJhNjBjMTdkZS1hN2UwLTQ1MWItOTkzMC03ZDE4ZmQzZGE3ZWIiLCJpRHQiOiIyMDIyLTExLTI5IiwiZUR0IjpudWxsLCJpQnkiOiJTYXBoZXR5IEFQSSBEZW1vIiwiaVRvIjoiU2FwaGV0eSBBUEkgRGVtbyIsInMiOiJ3ZWIiLCJhYWgiOmZhbHNlfQ%3D%3D\"\n",
      "        },\n",
      "        {\n",
      "            \"OutboundFinancialDocumentId\": \"e90e4213-7354-495c-bb60-cc08aff724f2\",\n",
      "            \"ContentType\": \"application/xml\",\n",
      "            \"DocumentLink\": \"https://dcn-solution-qa.saphety.com/IN2.ContentStorage.WebApi/api/Content/false?token=PquoARk8tJFtp4Ss6JCspwj%2Bgh17ImN0SWQiOiJmYWY3ODdkZS0xMzdmLTQ3ODQtODJjMC04MTFmNWZlOTcxZmQiLCJpRHQiOiIyMDIyLTExLTI5IiwiZUR0IjpudWxsLCJpQnkiOiJTYXBoZXR5IEFQSSBEZW1vIiwiaVRvIjoiU2FwaGV0eSBBUEkgRGVtbyIsInMiOiJ3ZWIiLCJhYWgiOmZhbHNlfQ%3D%3D\"\n",
      "        },\n",
      "        {\n",
      "            \"OutboundFinancialDocumentId\": \"e90e4213-7354-495c-bb60-cc08aff724f2\",\n",
      "            \"ContentType\": \"application/pdf\",\n",
      "            \"DocumentLink\": \"https://dcn-solution-qa.saphety.com/IN2.ContentStorage.WebApi/api/Content/false?token=SKHRdpBjAl0OnAc0lXYEtuBSpZZ7ImN0SWQiOiI1NjZiMjljNS03MTQwLTQ5ZGEtOTJhMC1kODBiMDkwOWQ1YTYiLCJpRHQiOiIyMDIyLTExLTI5IiwiZUR0IjpudWxsLCJpQnkiOiJTYXBoZXR5IEFQSSBEZW1vIiwiaVRvIjoiU2FwaGV0eSBBUEkgRGVtbyIsInMiOiJ3ZWIiLCJhYWgiOmZhbHNlfQ%3D%3D\"\n",
      "        }\n",
      "    ]\n",
      "}\n"
     ]
    }
   ],
   "source": [
    "# build the request\n",
    "headers = {\n",
    "    'Authorization': 'bearer ' + token\n",
    "    }\n",
    "# POST request to send the invoice\n",
    "response = requests.request(\"GET\", service_url, headers=headers)\n",
    "\n",
    "# formating the response to json for visualization purposes only\n",
    "json_response = json.loads(response.text)\n",
    "print(json.dumps(json_response[\"Data\"], indent=4))"
   ]
  }
 ],
 "metadata": {
  "kernelspec": {
   "display_name": "Python 3 (ipykernel)",
   "language": "python",
   "name": "python3"
  },
  "language_info": {
   "codemirror_mode": {
    "name": "ipython",
    "version": 3
   },
   "file_extension": ".py",
   "mimetype": "text/x-python",
   "name": "python",
   "nbconvert_exporter": "python",
   "pygments_lexer": "ipython3",
   "version": "3.10.10"
  }
 },
 "nbformat": 4,
 "nbformat_minor": 4
}
