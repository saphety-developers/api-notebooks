{
 "cells": [
  {
   "cell_type": "markdown",
   "metadata": {
    "tags": []
   },
   "source": [
    "# Get company plan information\n",
    "This endpoint is used to **get** informations from a subscribed plan.\n",
    "\n",
    "### Endpoint steps\n",
    "1. Get a token from your credentials by calling the endpoint **_Account/getToken_**;\n",
    "2. Get all your subscriptions calling the endpoint **_Subscriptions/clientId/{companyVatNumber}_** from WebStore API URL;\n",
    "3. Get plan information calling the endpoint **_Plans/{planId}_** from WebStore API URL.\n",
    "\n",
    "#### Response structure from server\n",
    "When a request is well formed and the authentication data is correct the system responds with a message envelope as follows: \n",
    "\n",
    "```Javascript\n",
    "{\n",
    "\t\"CorrelationId\": \"<GUID>\", /* for correlation purposes */\n",
    "\t\"IsValid\": true,           /* false in case of erros */\n",
    "\t\"Errors\": [],              /* if empty is a good signal */\n",
    "\t\"Data\": \"<Service Response Data>\"   /* the data retuned ex: token, invoice status, dependent on the endpoint called */\n",
    "}\n",
    "```"
   ]
  },
  {
   "cell_type": "markdown",
   "metadata": {
    "tags": []
   },
   "source": [
    "#### Endpoint Server Base URL"
   ]
  },
  {
   "cell_type": "code",
   "execution_count": 20,
   "metadata": {},
   "outputs": [],
   "source": [
    "# SANDBOX - Test Environment\n",
    "webstore_server_base_adress = \"dcn-solution.saphety.com/Dcn.Sandbox.WebApi\"\n",
    "\n",
    "# Saphety Invoice Network - Production Environment\n",
    "#webstore_server_base_adress = \"dcn-solution.saphety.com/IN2.WebStore.WebApi\""
   ]
  },
  {
   "cell_type": "markdown",
   "metadata": {},
   "source": [
    "## 1. Get a token (Account/getToken)\n",
    "Get a token from your account credentials using endpoint api/Account/getToken  \n",
    "Check [here](./get-token) how to obtain an authentication token. "
   ]
  },
  {
   "cell_type": "markdown",
   "metadata": {},
   "source": [
    "## 2. Get Plan (Plans/{planId})  "
   ]
  },
  {
   "cell_type": "markdown",
   "metadata": {},
   "source": [
    "### 2.1 Request structure\n",
    "In the endpoint url you need to supply the plan id\n",
    "\n",
    "#### planId\n",
    "- **Description**: The plan unique identification (GUID)\n",
    "- **Required**: Yes\n",
    "- **Type**: string\n",
    "- **Example**: \"1b60cf5d-921b-47b3-94c7-f98008ca5528\"\n",
    "\n",
    "### 2.2 Request example"
   ]
  },
  {
   "cell_type": "code",
   "execution_count": 21,
   "metadata": {},
   "outputs": [
    {
     "name": "stdout",
     "output_type": "stream",
     "text": [
      "https://dcn-solution.saphety.com/Dcn.Sandbox.WebApi/api/Plans/1b60cf5d-921b-47b3-94c7-f98008ca5528\n"
     ]
    }
   ],
   "source": [
    "# WebStore endpoint url for retrieving information\n",
    "service_url = \"https://\" + webstore_server_base_adress + \"/api/Plans/\" + \"1b60cf5d-921b-47b3-94c7-f98008ca5528\"\n",
    "print (service_url)"
   ]
  },
  {
   "cell_type": "markdown",
   "metadata": {},
   "source": [
    "### 2.3 Call the endpoint to get the plan information"
   ]
  },
  {
   "cell_type": "code",
   "execution_count": 19,
   "metadata": {},
   "outputs": [
    {
     "name": "stdout",
     "output_type": "stream",
     "text": [
      "{\n",
      "    \"Id\": \"1b60cf5d-921b-47b3-94c7-f98008ca5528\",\n",
      "    \"CodeName\": \"PlanPdf2\",\n",
      "    \"ServiceType\": \"EmailPdf\",\n",
      "    \"GrossValue\": 0.49,\n",
      "    \"MonthsInCycle\": 12,\n",
      "    \"TrialPeriodDays\": 0,\n",
      "    \"Status\": \"Available\",\n",
      "    \"CreationDate\": \"2023-01-05T17:44:07.3133333\"\n",
      "}\n"
     ]
    }
   ],
   "source": [
    "headers = {\n",
    "    'Authorization': 'bearer ' + token\n",
    "}\n",
    "response = requests.request(\"GET\", service_url, headers=headers)\n",
    "\n",
    "# formating the response to json for visualization purposes only\n",
    "json_response = json.loads(response.text)\n",
    "print(json.dumps(json_response[\"Data\"], indent=4))"
   ]
  },
  {
   "cell_type": "markdown",
   "metadata": {},
   "source": [
    "The CodeName's available for **eletronic invoices** are:\n",
    "- **Plan0**: Light plan (monthly).\n",
    "- **Plan1**: Basic plan (monthly).\n",
    "- **Plan4**: Plus plan (monthly).\n",
    "- **Plan2**: Advanced plan (monthly).\n",
    "- **Plan3**: Pro plan (monthly).\n",
    "- **SP50**: Plan with 50 eletronic invoices (annually).\n",
    "- **SP600**: Plan with 600 eletronic invoices (annually).\n",
    "- **SP2000**: Plan with 2000 eletronic invoices (annually).\n",
    "\n",
    "The CodeName's available for **pdf invoices** are:\n",
    "- **PlanPdf1**: Basic plan (annually).\n",
    "- **PlanPdf2**: Plus plan (annually).\n",
    "- **PlanPdf3**: Advanced plan (annually).\n",
    "- **PlanPdf4**: Pro plan (annually).\n"
   ]
  },
  {
   "cell_type": "code",
   "execution_count": null,
   "metadata": {},
   "outputs": [],
   "source": []
  }
 ],
 "metadata": {
  "kernelspec": {
   "display_name": "Python 3 (ipykernel)",
   "language": "python",
   "name": "python3"
  },
  "language_info": {
   "codemirror_mode": {
    "name": "ipython",
    "version": 3
   },
   "file_extension": ".py",
   "mimetype": "text/x-python",
   "name": "python",
   "nbconvert_exporter": "python",
   "pygments_lexer": "ipython3",
   "version": "3.10.10"
  }
 },
 "nbformat": 4,
 "nbformat_minor": 4
}
