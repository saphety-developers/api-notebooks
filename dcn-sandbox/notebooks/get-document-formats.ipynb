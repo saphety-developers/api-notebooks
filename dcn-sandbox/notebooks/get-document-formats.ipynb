{
 "cells": [
  {
   "cell_type": "code",
   "execution_count": 1,
   "metadata": {},
   "outputs": [
    {
     "ename": "SyntaxError",
     "evalue": "invalid syntax (<ipython-input-1-0ae601c2158b>, line 2)",
     "output_type": "error",
     "traceback": [
      "\u001b[1;36m  File \u001b[1;32m\"<ipython-input-1-0ae601c2158b>\"\u001b[1;36m, line \u001b[1;32m2\u001b[0m\n\u001b[1;33m    Use this service in the following case:\u001b[0m\n\u001b[1;37m           ^\u001b[0m\n\u001b[1;31mSyntaxError\u001b[0m\u001b[1;31m:\u001b[0m invalid syntax\n"
     ]
    }
   ],
   "source": [
    "# Acces the sent documents\n",
    "Use this service in the following case:\n",
    "\n",
    "* Whenever you want to get the PDF or UBL file or a previsous sent financial document\n",
    "\n",
    "### Service steps\n",
    "1. Get a token from your SIN credentials by calling the service **_Account/getToken_**\n",
    "2. Send your invoice calling the **asynchronous** service **_PdfAsyncRequest/processDocument_**; the legal invoice format (CIUS-PT) is sent in the payload\n",
    "3. Check to success of your request using the received *request id* at **_PdfAsyncRequest/{RequestId}_**"
   ]
  },
  {
   "cell_type": "code",
   "execution_count": null,
   "metadata": {},
   "outputs": [],
   "source": []
  }
 ],
 "metadata": {
  "kernelspec": {
   "display_name": "Python 3",
   "language": "python",
   "name": "python3"
  },
  "language_info": {
   "codemirror_mode": {
    "name": "ipython",
    "version": 3
   },
   "file_extension": ".py",
   "mimetype": "text/x-python",
   "name": "python",
   "nbconvert_exporter": "python",
   "pygments_lexer": "ipython3",
   "version": "3.7.6"
  }
 },
 "nbformat": 4,
 "nbformat_minor": 4
}
