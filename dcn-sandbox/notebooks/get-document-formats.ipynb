{
 "cells": [
  {
   "cell_type": "markdown",
   "metadata": {},
   "source": [
    "# Get invoice formats\n",
    "This endpoint is used to retrieve the invoice formats stored in archive.\n",
    "\n",
    "### Endpoint steps\n",
    "1. Get a token from your credentials by calling the endpoint **_Account/getToken_**;\n",
    "2. Get all invoice formats calling the endpoint **_OutboundFinancialDocument/documentFormats/{documentId}_**;\n",
    "\n",
    "#### Response structure from server\n",
    "When a request is well formed and the authentication data is correct the system responds with a message envelope as follows: \n",
    "\n",
    "```Javascript\n",
    "{\n",
    "\t\"CorrelationId\": \"<GUID>\", /* for correlation purposes */\n",
    "\t\"IsValid\": true,           /* false in case of erros */\n",
    "\t\"Errors\": [],              /* if empty is a good signal */\n",
    "\t\"Data\": \"<Service Response Data>\"   /* the data retuned ex: token, invoice status, dependent on the endpoint called */\n",
    "}\n",
    "```"
   ]
  },
  {
   "cell_type": "markdown",
   "metadata": {},
   "source": [
    "## 1. Get a token (Account/getToken)\n",
    "Get a token from your account credentials using endpoint api/Account/getToken  \n",
    "Check [here](./get-token) how to obtain an authentication token. "
   ]
  },
  {
   "cell_type": "markdown",
   "metadata": {},
   "source": [
    "## 2. Get a List of Document Formats storage by DocumentId (OutboundFinancialDocument/documentFormats/{documentId})\n",
    "<font color=orange>\\* **Note:** The number of formats returned and their type depends on several factors. In the case of this documentation, the formats are fixed, as you can see in the following example.</font>"
   ]
  },
  {
   "cell_type": "markdown",
   "metadata": {},
   "source": [
    "### 2.1 Request structure\n",
    "In the service url you need to supply the outboundfinancialdocumentId received\n",
    "\n",
    "#### OutboundFinancialDocumentId\n",
    "- **Description**: You need to supply the id of the invoice.\n",
    "- **Required**: Yes\n",
    "- **Type**: string\n",
    "- **Example**: \"3fa85f64-5717-4562-b3fc-2c963f66afa6\""
   ]
  },
  {
   "cell_type": "markdown",
   "metadata": {},
   "source": [
    "### 2.2 Request example"
   ]
  },
  {
   "cell_type": "code",
   "execution_count": 21,
   "metadata": {},
   "outputs": [
    {
     "name": "stdout",
     "output_type": "stream",
     "text": [
      "https://dcn-solution.saphety.com/Dcn.Sandbox.WebApi/api/OutboundFinancialDocument/documentFormats/fc5e547d-8537-4e05-97d5-1159c62efd6f\n"
     ]
    }
   ],
   "source": [
    "outboundFinancialDocumentId = \"fc5e547d-8537-4e05-97d5-1159c62efd6f\"\n",
    "\n",
    "# SIN service url for retrieving inforfation on invoice previously sent\n",
    "service_url = \"https://\" + server_base_adress + \"/api/OutboundFinancialDocument/documentFormats/\" + outboundFinancialDocumentId\n",
    "print (service_url)"
   ]
  },
  {
   "cell_type": "markdown",
   "metadata": {},
   "source": [
    "### 2.3 Call the service to get the formats\n",
    "**Get** the invoice formats stored in archive by the **Document id** (“OutboundFinancialDocumentId“) using endpoint _**/api/OutboundFinancialDocument/documentFormats/:documentId**_"
   ]
  },
  {
   "cell_type": "code",
   "execution_count": 6,
   "metadata": {},
   "outputs": [
    {
     "name": "stdout",
     "output_type": "stream",
     "text": [
      "[\n",
      "    {\n",
      "        \"OutboundFinancialDocumentId\": \"fc5e547d-8537-4e05-97d5-1159c62efd6f\",\n",
      "        \"FormatType\": \"pdf\",\n",
      "        \"ContentType\": \"application/pdf\",\n",
      "        \"SignatureProvider\": \"application/pdf\",\n",
      "        \"DocumentLink\": \"https://invoicenetwork.saphety.com/Dcn.Sandbox.WebApi/api/Content/stream?token=DkIleLbjFKXGOqJwJQ8Alolood97ImN0SWQiOiJlNzRiN2VkNS0zMzU4LTRiNGYtYjQzZi1lMTY0YmRjMDAwMDEiLCJpRHQiOiIyMDIyLTExLTMwIiwiZUR0IjoiMjAyMi0xMi0wMyIsImlCeSI6IlNJTiBBUEkgRE9DVU1FTlRBVElPTiIsImlUbyI6IlNJTiBBUEkgRE9DVU1FTlRBVElPTiIsInMiOiJ3ZWIiLCJhYWgiOmZhbHNlfQ%3D%3D\"\n",
      "    },\n",
      "    {\n",
      "        \"OutboundFinancialDocumentId\": \"fc5e547d-8537-4e05-97d5-1159c62efd6f\",\n",
      "        \"FormatType\": \"ubl21\",\n",
      "        \"ContentType\": \"XadesBes\",\n",
      "        \"SignatureProvider\": \"application/xml\",\n",
      "        \"DocumentLink\": \"https://invoicenetwork.saphety.com/Dcn.Sandbox.WebApi/api/Content/stream?token=%2BdA%2FJ17tGd8sW6fJH0brwTqv21V7ImN0SWQiOiJlNzRiN2VkNS0zMzU4LTRiNGYtYjQzZi1lMTY0YmRjMDAwMDMiLCJpRHQiOiIyMDIyLTExLTMwIiwiZUR0IjoiMjAyMi0xMi0wMyIsImlCeSI6IlNJTiBBUEkgRE9DVU1FTlRBVElPTiIsImlUbyI6IlNJTiBBUEkgRE9DVU1FTlRBVElPTiIsInMiOiJ3ZWIiLCJhYWgiOmZhbHNlfQ%3D%3D\"\n",
      "    }\n",
      "]\n"
     ]
    }
   ],
   "source": [
    "# build the request\n",
    "headers = {\n",
    "    'Authorization': 'bearer ' + token\n",
    "    }\n",
    "# POST request to send the invoice\n",
    "response = requests.request(\"GET\", service_url, headers=headers)\n",
    "\n",
    "# formating the response to json for visualization purposes only\n",
    "json_response = json.loads(response.text)\n",
    "print(json.dumps(json_response[\"Data\"], indent=4))"
   ]
  },
  {
   "cell_type": "markdown",
   "metadata": {},
   "source": [
    "The invoice formats are returned at response \"Data.DocumentLink\", see the possible values returned"
   ]
  },
  {
   "cell_type": "code",
   "execution_count": 7,
   "metadata": {},
   "outputs": [
    {
     "name": "stdout",
     "output_type": "stream",
     "text": [
      "PDF: https://invoicenetwork.saphety.com/Dcn.Sandbox.WebApi/api/Content/stream?token=DkIleLbjFKXGOqJwJQ8Alolood97ImN0SWQiOiJlNzRiN2VkNS0zMzU4LTRiNGYtYjQzZi1lMTY0YmRjMDAwMDEiLCJpRHQiOiIyMDIyLTExLTMwIiwiZUR0IjoiMjAyMi0xMi0wMyIsImlCeSI6IlNJTiBBUEkgRE9DVU1FTlRBVElPTiIsImlUbyI6IlNJTiBBUEkgRE9DVU1FTlRBVElPTiIsInMiOiJ3ZWIiLCJhYWgiOmZhbHNlfQ%3D%3D\n",
      "\n",
      "UBL: https://invoicenetwork.saphety.com/Dcn.Sandbox.WebApi/api/Content/stream?token=%2BdA%2FJ17tGd8sW6fJH0brwTqv21V7ImN0SWQiOiJlNzRiN2VkNS0zMzU4LTRiNGYtYjQzZi1lMTY0YmRjMDAwMDMiLCJpRHQiOiIyMDIyLTExLTMwIiwiZUR0IjoiMjAyMi0xMi0wMyIsImlCeSI6IlNJTiBBUEkgRE9DVU1FTlRBVElPTiIsImlUbyI6IlNJTiBBUEkgRE9DVU1FTlRBVElPTiIsInMiOiJ3ZWIiLCJhYWgiOmZhbHNlfQ%3D%3D\n",
      "\n"
     ]
    }
   ],
   "source": [
    "# for loop to see all Data\n",
    "formats = json_response[\"Data\"];\n",
    "for format in formats:\n",
    "    if format[\"FormatType\"] == \"pdf\":\n",
    "        print (\"PDF: \" + format[\"DocumentLink\"] + \"\\n\");\n",
    "    if format[\"FormatType\"] == \"final\":\n",
    "        print (\"Final: \" + format[\"DocumentLink\"] + \"\\n\");\n",
    "    if format[\"FormatType\"] == \"ubl21\":\n",
    "        print (\"UBL: \" + format[\"DocumentLink\"] + \"\\n\");\n",
    "    if format[\"FormatType\"] == \"signed\":\n",
    "        print (\"Signed: \" + format[\"DocumentLink\"] + \"\\n\");"
   ]
  }
 ],
 "metadata": {
  "kernelspec": {
   "display_name": "Python 3 (ipykernel)",
   "language": "python",
   "name": "python3"
  },
  "language_info": {
   "codemirror_mode": {
    "name": "ipython",
    "version": 3
   },
   "file_extension": ".py",
   "mimetype": "text/x-python",
   "name": "python",
   "nbconvert_exporter": "python",
   "pygments_lexer": "ipython3",
   "version": "3.10.10"
  }
 },
 "nbformat": 4,
 "nbformat_minor": 4
}
