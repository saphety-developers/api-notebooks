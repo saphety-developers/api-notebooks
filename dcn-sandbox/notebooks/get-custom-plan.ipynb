{
 "cells": [
  {
   "cell_type": "markdown",
   "metadata": {
    "tags": []
   },
   "source": [
    "# Get Company Custom Plan Information\n",
    "Use this endpoint to **get company custom plan information**.\n",
    "\n",
    "### Endpoint steps\n",
    "1. Get a token from your credentials by calling the endpoint **_Account/getToken_**;\n",
    "2. Get all your subscriptions calling the endpoint **_Subscriptions/clientId/{companyVatNumber}_** from WebStore API URL;\n",
    "3. Get custom plan information calling the endpoint **_CustomPlans/{customPlanId}_** from WebStore API URL.\n",
    "\n",
    "#### Response structure from server\n",
    "When a request is well formed and the authentication data is correct the system responds with a message envelope as follows: \n",
    "\n",
    "```Javascript\n",
    "{\n",
    "\t\"CorrelationId\": \"<GUID>\", /* for correlation purposes */\n",
    "\t\"IsValid\": true,           /* false in case of erros */\n",
    "\t\"Errors\": [],              /* if empty is a good signal */\n",
    "\t\"Data\": \"<Service Response Data>\"   /* the data retuned ex: token, invoice status, dependent on the endpoint called */\n",
    "}\n",
    "```"
   ]
  },
  {
   "cell_type": "markdown",
   "metadata": {
    "tags": []
   },
   "source": [
    "#### Endpoint Server Base URL"
   ]
  },
  {
   "cell_type": "code",
   "execution_count": 25,
   "metadata": {
    "tags": []
   },
   "outputs": [],
   "source": [
    "# SANDBOX - Test Environment\n",
    "webstore_server_base_adress = \"dcn-solution.saphety.com/Dcn.Sandbox.WebApi\"\n",
    "\n",
    "# Saphety Invoice Network - Production Environment\n",
    "#webstore_server_base_adress = \"dcn-solution.saphety.com/IN2.WebStore.WebApi\""
   ]
  },
  {
   "cell_type": "markdown",
   "metadata": {
    "tags": []
   },
   "source": [
    "## 1. Get a token (Account/getToken)\n",
    "Get a token from your account credentials using endpoint api/Account/getToken  \n",
    "Check [here](./get-token) how to obtain an authentication token. "
   ]
  },
  {
   "cell_type": "markdown",
   "metadata": {},
   "source": [
    "## 2. Get Custom Plan (CustomPlans/{customPlanId})  "
   ]
  },
  {
   "cell_type": "markdown",
   "metadata": {},
   "source": [
    "### 2.1 Request structure\n",
    "In the endpoint url you need to supply the custom plan id\n",
    "\n",
    "#### customPlanId\n",
    "- **Description**: The custom plan unique identification (GUID)\n",
    "- **Required**: Yes\n",
    "- **Type**: string\n",
    "- **Example**: \"1b60cf5d-921b-47b3-94c7-f98008ca5528\"\n",
    "\n",
    "### 2.2 Request example"
   ]
  },
  {
   "cell_type": "code",
   "execution_count": 26,
   "metadata": {},
   "outputs": [
    {
     "name": "stdout",
     "output_type": "stream",
     "text": [
      "https://dcn-solution.saphety.com/Dcn.Sandbox.WebApi/api/CustomPlans/1b60cf5d-921b-47b3-94c7-f98008ca5528\n"
     ]
    }
   ],
   "source": [
    "# WebStore endpoint url for retrieving information\n",
    "service_url = \"https://\" + webstore_server_base_adress + \"/api/CustomPlans/\" + \"1b60cf5d-921b-47b3-94c7-f98008ca5528\"\n",
    "print (service_url)"
   ]
  },
  {
   "cell_type": "markdown",
   "metadata": {},
   "source": [
    "### 2.3 Call the endpoint to get the custom plan information"
   ]
  },
  {
   "cell_type": "code",
   "execution_count": 24,
   "metadata": {},
   "outputs": [
    {
     "name": "stdout",
     "output_type": "stream",
     "text": [
      "{\n",
      "    \"Id\": \"1b60cf5d-921b-47b3-94c7-f98008ca5528\",\n",
      "    \"ClientId\": \"PT503230731\",\n",
      "    \"CodeName\": \"PLANPDF\",\n",
      "    \"ServiceType\": null,\n",
      "    \"MonthsInCycle\": 2,\n",
      "    \"Status\": \"Available\",\n",
      "    \"CreationDate\": \"2023-01-05T17:44:07.3133333\"\n",
      "}\n"
     ]
    }
   ],
   "source": [
    "# build the request\n",
    "headers = {\n",
    "    'Authorization': 'bearer ' + token\n",
    "}\n",
    "# GET request to send the invoice\n",
    "response = requests.request(\"GET\", service_url, headers=headers)\n",
    "\n",
    "# formating the response to json for visualization purposes only\n",
    "json_response = json.loads(response.text)\n",
    "print(json.dumps(json_response[\"Data\"], indent=4))"
   ]
  },
  {
   "cell_type": "markdown",
   "metadata": {},
   "source": [
    "The CodeName here is custom, created by the product team for each customer's customized plan\n",
    "\n",
    "This plan can be in the next status:\n",
    "\n",
    "* **Available**: When the custom plan is available\n",
    "* **Unavailable**: When the custom plan is unavailable\n",
    "* **Legacy**: When the custom plan is old"
   ]
  },
  {
   "cell_type": "code",
   "execution_count": null,
   "metadata": {},
   "outputs": [],
   "source": []
  }
 ],
 "metadata": {
  "kernelspec": {
   "display_name": "Python 3 (ipykernel)",
   "language": "python",
   "name": "python3"
  },
  "language_info": {
   "codemirror_mode": {
    "name": "ipython",
    "version": 3
   },
   "file_extension": ".py",
   "mimetype": "text/x-python",
   "name": "python",
   "nbconvert_exporter": "python",
   "pygments_lexer": "ipython3",
   "version": "3.10.10"
  }
 },
 "nbformat": 4,
 "nbformat_minor": 4
}
