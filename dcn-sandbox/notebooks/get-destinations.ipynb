{
 "cells": [
  {
   "cell_type": "markdown",
   "metadata": {},
   "source": [
    "# Get receivers\n",
    "This endpoint is used to **get** all or filtered integrated receiver entities.\n",
    "\n",
    "### Endpoint steps\n",
    "1. Get a token from your credentials by calling the endpoint **_Account/getToken_**;\n",
    "2. Get all integrated destinations calling the endpoint **_CompanyConnections/destinations_** or filtred integrated destinations by **_CompanyConnections/destinations/{searchValue}_**;\n",
    "\n",
    "#### Response structure from server\n",
    "When a request is well formed and the authentication data is correct the system responds with a message envelope as follows: \n",
    "\n",
    "```Javascript\n",
    "{\n",
    "\t\"CorrelationId\": \"<GUID>\", /* for correlation purposes */\n",
    "\t\"IsValid\": true,           /* false in case of erros */\n",
    "\t\"Errors\": [],              /* if empty is a good signal */\n",
    "\t\"Data\": \"<Service Response Data>\"   /* the data retuned ex: token, invoice status, dependent on the endpoint called */\n",
    "}\n",
    "```"
   ]
  },
  {
   "cell_type": "markdown",
   "metadata": {
    "tags": []
   },
   "source": [
    "#### Endpoint Server Base URL"
   ]
  },
  {
   "cell_type": "code",
   "execution_count": 1,
   "metadata": {},
   "outputs": [],
   "source": [
    "# SANDBOX - Test Environment\n",
    "server_base_adress = \"dcn-solution.saphety.com/Dcn.Sandbox.WebApi\"\n",
    "\n",
    "# Saphety Invoice Network - Production Environment\n",
    "#server_base_adress = \"dcn-solution.saphety.com/Dcn.Business.WebApi\""
   ]
  },
  {
   "cell_type": "markdown",
   "metadata": {},
   "source": [
    "## 1. Get a token (Account/getToken)\n",
    "Get a token from your account credentials using endpoint api/Account/getToken  \n",
    "Check [here](./get-token) how to obtain an authentication token. "
   ]
  },
  {
   "cell_type": "markdown",
   "metadata": {},
   "source": [
    "## 2. Get receivers (CompanyConnections/destinations OR CompanyConnections/destinations/{searchValue})\n",
    "<font color=orange>\\* \n",
    "**Note:** Here we will use the endpoint **_CompanyConnections/destinations/{searchValue}_** to get just one integrated company, searching for the company name. But you can use the endpoint **_CompanyConnections/destinations_** to get all integrated companies!</font>"
   ]
  },
  {
   "cell_type": "markdown",
   "metadata": {},
   "source": [
    "### 2.1 Request structure\n",
    "In the endpoint url you have the option to supply the searchValue\n",
    "\n",
    "#### searchValue\n",
    "- **Description**: The vat number or the name of the company\n",
    "- **Required**: No\n",
    "- **Type**: string\n",
    "- **Example**: \"Company name\""
   ]
  },
  {
   "cell_type": "markdown",
   "metadata": {},
   "source": [
    "### 2.2 Request example"
   ]
  },
  {
   "cell_type": "code",
   "execution_count": 5,
   "metadata": {},
   "outputs": [
    {
     "name": "stdout",
     "output_type": "stream",
     "text": [
      "https://dcn-solution.saphety.com/Dcn.Sandbox.WebApi/api/CompanyConnections/destinations/TRUSTED\n"
     ]
    }
   ],
   "source": [
    "searchValue = \"TRUSTED\"\n",
    "\n",
    "# SIN endpoint url for retrieving inforfation on invoice previously sent\n",
    "service_url = \"https://\" + server_base_adress + \"/api/CompanyConnections/destinations/\" + searchValue\n",
    "print (service_url)"
   ]
  },
  {
   "cell_type": "markdown",
   "metadata": {},
   "source": [
    "### 2.3 Call the endpoint to get the integrated destination\n",
    "**Get** the integrated destination companies, filtering with a **search value** using the endpoint _**/api/CompanyConnections/destinations/{searchValue}**_"
   ]
  },
  {
   "cell_type": "code",
   "execution_count": 6,
   "metadata": {},
   "outputs": [
    {
     "name": "stdout",
     "output_type": "stream",
     "text": [
      "[\n",
      "    {\n",
      "        \"IntlVatCode\": \"PT507957547\",\n",
      "        \"CompanyName\": \"SAPHETY LEVEL - TRUSTED SERVICES, S.A.\",\n",
      "        \"AddressLine\": \"Rua do Viriato, N\\u00ba13 - 3\\u00baPISO\",\n",
      "        \"City\": \"LISBOA\",\n",
      "        \"ZipCode\": \"1050-233\",\n",
      "        \"ZipArea\": \"LISBOA\",\n",
      "        \"CountryCode\": \"PT\",\n",
      "        \"CommercialRecordWebCode\": \"\",\n",
      "        \"TenantCode\": null,\n",
      "        \"LanguageCode\": \"pt\",\n",
      "        \"Status\": \"Active\",\n",
      "        \"IsPartner\": false,\n",
      "        \"CreationDate\": \"2010-09-29 15:25\"\n",
      "    }\n",
      "]\n"
     ]
    }
   ],
   "source": [
    "headers = {\n",
    "    'Authorization': 'bearer ' + token\n",
    "}\n",
    "response = requests.request(\"GET\", service_url, headers=headers)\n",
    "\n",
    "# formating the response to json for visualization purposes only\n",
    "json_response = json.loads(response.text)\n",
    "print(json.dumps(json_response[\"Data\"], indent=4))"
   ]
  }
 ],
 "metadata": {
  "kernelspec": {
   "display_name": "Python 3 (ipykernel)",
   "language": "python",
   "name": "python3"
  },
  "language_info": {
   "codemirror_mode": {
    "name": "ipython",
    "version": 3
   },
   "file_extension": ".py",
   "mimetype": "text/x-python",
   "name": "python",
   "nbconvert_exporter": "python",
   "pygments_lexer": "ipython3",
   "version": "3.10.10"
  }
 },
 "nbformat": 4,
 "nbformat_minor": 4
}
