{
 "cells": [
  {
   "cell_type": "markdown",
   "metadata": {
    "tags": []
   },
   "source": [
    "# Get network receivers\n",
    "This endpoint is used to **get** the list of receiver entities available within a specific network.\n",
    "\n",
    "### Endpoint steps\n",
    "1. Get a token from your credentials by calling the endpoint **_Account/getToken_**;\n",
    "2. Get the network receivers calling the endpoint **_BusinessGroups/all_** from IntegrationAccess API URL;\n",
    "\n",
    "#### Response structure from server\n",
    "When a request is well formed and the authentication data is correct the system responds with a message envelope as follows: \n",
    "\n",
    "```Javascript\n",
    "{\n",
    "\t\"CorrelationId\": \"<GUID>\", /* for correlation purposes */\n",
    "\t\"IsValid\": true,           /* false in case of erros */\n",
    "\t\"Errors\": [],              /* if empty is a good signal */\n",
    "\t\"Data\": \"<Service Response Data>\"   /* the data retuned ex: token, invoice status, dependent on the endpoint called */\n",
    "}\n",
    "```"
   ]
  },
  {
   "cell_type": "markdown",
   "metadata": {
    "tags": []
   },
   "source": [
    "#### Endpoint Server Base URL"
   ]
  },
  {
   "cell_type": "code",
   "execution_count": 42,
   "metadata": {},
   "outputs": [],
   "source": [
    "# SANDBOX - Test Environment\n",
    "integration_access_server_base_adress = \"dcn-solution.saphety.com/Dcn.Sandbox.WebApi\"\n",
    "\n",
    "# Saphety Invoice Network - Production Environment\n",
    "#integration_access_server_base_adress = \"dcn-solution.saphety.com/IN2.IntegrationAccess.WebApi\""
   ]
  },
  {
   "cell_type": "markdown",
   "metadata": {
    "tags": []
   },
   "source": [
    "## 1. Get a token (Account/getToken)\n",
    "Get a token from your account credentials using endpoint api/Account/getToken  \n",
    "Check [here](./get-token) how to obtain an authentication token. "
   ]
  },
  {
   "cell_type": "markdown",
   "metadata": {},
   "source": [
    "## 2. Get network available (BusinessGroups/{groupCode}/destinations)  "
   ]
  },
  {
   "cell_type": "markdown",
   "metadata": {},
   "source": [
    "### 2.1 Request structure\n",
    "In the endpoint url you need to supply the **groupCode**\n",
    "\n",
    "#### groupCode\n",
    "- **Description**: The group code identification\n",
    "- **Required**: Yes\n",
    "- **Type**: string\n",
    "- **Example**: \"iLink\"\n",
    "\n",
    "### 2.2 Request example"
   ]
  },
  {
   "cell_type": "code",
   "execution_count": 43,
   "metadata": {},
   "outputs": [
    {
     "name": "stdout",
     "output_type": "stream",
     "text": [
      "https://dcn-solution.saphety.com/Dcn.Sandbox.WebApi/api/BusinessGroups/iLink/destinations\n"
     ]
    }
   ],
   "source": [
    "groupCode = 'iLink'\n",
    "# WebStore endpoint url for retrieving information\n",
    "service_url = \"https://\" + integration_access_server_base_adress + \"/api/BusinessGroups/\" + groupCode + \"/destinations\"\n",
    "print (service_url)"
   ]
  },
  {
   "cell_type": "markdown",
   "metadata": {},
   "source": [
    "### 2.3 Call the endpoint to get the network receivers\n",
    "**Get** the network receivers using endpoint _**/api/BusinessGroups/{groupCode}/destinations**_"
   ]
  },
  {
   "cell_type": "code",
   "execution_count": 41,
   "metadata": {},
   "outputs": [
    {
     "name": "stdout",
     "output_type": "stream",
     "text": [
      "[\n",
      "    {\n",
      "        \"IntlVatCode\": \"PT502173297\",\n",
      "        \"CompanyName\": \"MUNICÍPIO DE PAÇOS DE FERREIRA\",\n",
      "        \"AddressLine\": \"PRAÇA DA REPÚBLICA, 46\",\n",
      "        \"City\": null,\n",
      "        \"ZipCode\": \"4590-527\",\n",
      "        \"ZipArea\": \"PAÇOS DE FERREIRA\",\n",
      "        \"CountryCode\": \"PT\",\n",
      "        \"LanguageCode\": null\n",
      "    },\n",
      "    {\n",
      "        \"IntlVatCode\": \"PT600044742\",\n",
      "        \"CompanyName\": \"SAS - INSTITUTO POLITÉCNICO DE VISEU\",\n",
      "        \"AddressLine\": \"Av. Coronel José Maria Vale de Andrade - Campus Politécnico\",\n",
      "        \"City\": null,\n",
      "        \"ZipCode\": \"3504-510\",\n",
      "        \"ZipArea\": \"Viseu\",\n",
      "        \"CountryCode\": \"PT\",\n",
      "        \"LanguageCode\": null\n",
      "    }\n",
      "]\n"
     ]
    }
   ],
   "source": [
    "headers = {\n",
    "    'Authorization': 'bearer ' + token\n",
    "}\n",
    "response = requests.request(\"GET\", service_url, headers=headers)\n",
    "\n",
    "# formating the response to json for visualization purposes only\n",
    "json_response = json.loads(response.text)\n",
    "print(json.dumps(json_response[\"Data\"], indent=4, ensure_ascii=False))"
   ]
  }
 ],
 "metadata": {
  "kernelspec": {
   "display_name": "Python 3 (ipykernel)",
   "language": "python",
   "name": "python3"
  },
  "language_info": {
   "codemirror_mode": {
    "name": "ipython",
    "version": 3
   },
   "file_extension": ".py",
   "mimetype": "text/x-python",
   "name": "python",
   "nbconvert_exporter": "python",
   "pygments_lexer": "ipython3",
   "version": "3.10.10"
  }
 },
 "nbformat": 4,
 "nbformat_minor": 4
}
