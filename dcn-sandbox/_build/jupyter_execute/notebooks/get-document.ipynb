{
 "cells": [
  {
   "cell_type": "markdown",
   "metadata": {},
   "source": [
    "# Get invoice **status**\n",
    "This endpoint is used to retrieve invoice integration or notification status in archive.\n",
    "\n",
    "### Endpoint steps\n",
    "1. Get a token from your credentials by calling the endpoint **_Account/getToken_**;\n",
    "2. Get an invoice status in archive calling the endpoint **_OutboundFinancialDocument/{documentId}_**;\n",
    "\n",
    "#### Response structure from server\n",
    "When a request is well formed and the authentication data is correct the system responds with a message envelope as follows: \n",
    "\n",
    "```Javascript\n",
    "{\n",
    "\t\"CorrelationId\": \"<GUID>\", /* for correlation purposes */\n",
    "\t\"IsValid\": true,           /* false in case of erros */\n",
    "\t\"Errors\": [],              /* if empty is a good signal */\n",
    "\t\"Data\": \"<Service Response Data>\"   /* the data retuned ex: token, invoice status, dependent on the endpoint called */\n",
    "}\n",
    "```"
   ]
  },
  {
   "cell_type": "markdown",
   "metadata": {},
   "source": [
    "## 1. Get a token (Account/getToken)\n",
    "Get a token from your account credentials using endpoint api/Account/getToken  \n",
    "Check [here](./get-token) how to obtain an authentication token. "
   ]
  },
  {
   "cell_type": "markdown",
   "metadata": {},
   "source": [
    "## 2. Get a Document status by DocumentId (OutboundFinancialDocument/{documentId})"
   ]
  },
  {
   "cell_type": "markdown",
   "metadata": {},
   "source": [
    "### 2.1 Request structure\n",
    "In the endpoint url you need to supply the outboundfinancialdocumentId received\n",
    "\n",
    "#### OutboundFinancialDocumentId\n",
    "- **Description**: You need to supply the id of the invoice.\n",
    "- **Required**: Yes\n",
    "- **Type**: string\n",
    "- **Example**: \"3fa85f64-5717-4562-b3fc-2c963f66afa6\""
   ]
  },
  {
   "cell_type": "markdown",
   "metadata": {},
   "source": [
    "### 2.2 Request example"
   ]
  },
  {
   "cell_type": "code",
   "execution_count": 18,
   "metadata": {},
   "outputs": [
    {
     "name": "stdout",
     "output_type": "stream",
     "text": [
      "https://dcn-solution.saphety.com/Dcn.Sandbox.WebApi/api/OutboundFinancialDocument/fc5e547d-8537-4e05-97d5-1159c62efd6f\n"
     ]
    }
   ],
   "source": [
    "# SIN endpoint url for retrieving inforfation on invoice previously sent\n",
    "outboundFinancialDocumentId = \"fc5e547d-8537-4e05-97d5-1159c62efd6f\"\n",
    "service_url = \"https://\" + server_base_adress + \"/api/OutboundFinancialDocument/\" + outboundFinancialDocumentId\n",
    "print (service_url)"
   ]
  },
  {
   "cell_type": "markdown",
   "metadata": {},
   "source": [
    "### 2.3 Call the endpoint to get the document\n",
    "**Get** the invoice status by the **Document id** (“OutboundFinancialDocumentId“) using endpoint _**OutboundFinancialDocument/:id**_"
   ]
  },
  {
   "cell_type": "code",
   "execution_count": 13,
   "metadata": {},
   "outputs": [
    {
     "name": "stdout",
     "output_type": "stream",
     "text": [
      "{\n",
      "    \"Id\": \"fc5e547d-8537-4e05-97d5-1159c62efd6f\",\n",
      "    \"VirtualOperatorCode\": null,\n",
      "    \"CompanyIntlVatCode\": \"PT507641230\",\n",
      "    \"DocumentType\": \"INVOICE\",\n",
      "    \"DocumentDate\": \"2020-12-31 00:00:00\",\n",
      "    \"DocumentNumber\": \"FTSCN 2020/00000346\",\n",
      "    \"ReceiverIntlVatCode\": \"PT507957547\",\n",
      "    \"ReceiverName\": \"SAPHETY LEVEL - TRUSTED SERVICES, S.A\",\n",
      "    \"DocumentStatus\": \"Final\",\n",
      "    \"DocumentSource\": \"Integration\",\n",
      "    \"DocumentLink\": \"\",\n",
      "    \"DocumentTotal\": 11.07,\n",
      "    \"CurrencyCode\": \"EUR\",\n",
      "    \"NotificationStatus\": \"Delivered\",\n",
      "    \"IntegrationStatus\": \"Received\",\n",
      "    \"IntegrationDate\": \"2021-01-03 00:00:00\",\n",
      "    \"LastUpdateDate\": \"2021-01-03 00:00:00\",\n",
      "    \"AuthorId\": \"442ad0fe-74e8-41c7-9d3f-fd009534b26c\",\n",
      "    \"Errors\": null,\n",
      "    \"CreationDate\": \"2021-01-01 00:00:00\"\n",
      "}\n"
     ]
    }
   ],
   "source": [
    "# build the request\n",
    "headers = {\n",
    "    'Authorization': 'bearer ' + token\n",
    "    }\n",
    "# POST request to send the invoice\n",
    "response = requests.request(\"GET\", service_url, headers=headers)\n",
    "\n",
    "# formating the response to json for visualization purposes only\n",
    "json_response = json.loads(response.text)\n",
    "print(json.dumps(json_response[\"Data\"], indent=4))"
   ]
  },
  {
   "cell_type": "markdown",
   "metadata": {},
   "source": [
    "There are 2 types of documents in the archive:\n",
    "\n",
    "* Electronic invoice\n",
    "* PDF invoice\n",
    "\n",
    "To query the status of a document in archive, it is necessary to consider 2 concepts of status:\n",
    "\n",
    "* **Integration status** - indicates the current integration status that a document has in archive\n",
    "* **Notification status** - indicates the current email notification status that a document has in archive\n",
    "\n",
    "The ***integration status*** of a document in archive is returned at ***\"IntegrationStatus\"*** parameter, see the possible values returned:\n",
    "\n",
    "* **NotIntegrated** - document not sent to receiver entity for integration\n",
    "* **Not_Sent** - document not sent for receiver entity\n",
    "* **Error** - document with errors, not sent to receiver entity for integration\n",
    "* **Sent** - document sent to receiver entity for integration\n",
    "* **Received** - document sent to receiver entity for integration, receiver entity has confirmed its reception\n",
    "* **Rejected** - document sent to receiver entity for integration, receiver entity is rejecting it\n",
    "* **Paid** - document sent to receiver entity for integration, receiver entity is confirming it as paid\n",
    "\n",
    "The ***notification status*** of a document in archive is returned at ***\"NotificationStatus\"*** parameter, see the possible values returned:\n",
    "\n",
    "* **NoEmails** - document without any email notification\n",
    "* **Sent** - document with at least one email notification sent\n",
    "* **Delivered** - document with at least one email notification delivered\n",
    "* **Read** - document with at least one email notification read\n",
    "* **Error** - document with at all email notifications in error\n",
    "\n",
    "**[Important note_1]** If an electronic invoice is sent to an entity outside Saphety network, it will not be sent to receiver entity for integration, so the **integration status** will always be ***\"NotIntegrated\"***.\n",
    "\n",
    "In this scenario the electronic invoice may have also a **notification status** *(Sent, Delivered, Read or Error)* if the CIUS-PT XML has the tag BT-49 filled in with the receiver entity's email address (ex: <cbc:EndpointID schemeID=\"EM\">eee@hh.pt</cbc:EndpointID>), otherwise the document will have **integration status** as ***\"NotIntegrated\"*** and **notification status** as ***\"NoEmails\"***.\n",
    "\n",
    "**[Important note_2]** If an electronic invoice is sent to a receiver entity of a network with interoperability, but the issuer does not have an approved connection to this network, it will not be sent to receiver entity for integration, so the **integration status** will always be ***\"NotIntegrated\"***.\n",
    "\n",
    "In this scenario the electronic invoice may have also a **notification status** *(Sent, Delivered, Read or Error)* if the CIUS-PT XML has the tag BT-49 filled in with the receiver entity's email address (ex: <cbc:EndpointID schemeID=\"EM\">eee@hh.pt</cbc:EndpointID>), otherwise the document will have **integration status** as ***\"NotIntegrated\"*** and **notification status** as ***\"NoEmails\"***.\n",
    "\n",
    "**[Important note_3]** A PDF invoice has always the **integration status** as ***\"NotIntegrated\"***.\n",
    "\n",
    "If the PDF invoice was signed, stored and sent by email to the receiver entity, the **notification status** will return the status \"***Sent***\", \"***Delivered***\", \"***Read***\" or \"***Error***\".\n",
    "\n",
    "If the PDF invoice was signed, stored and not sent by email to the receiver entity, the **notification status** will return the status ***\"NoEmails\"***."
   ]
  },
  {
   "cell_type": "code",
   "execution_count": null,
   "metadata": {},
   "outputs": [],
   "source": []
  }
 ],
 "metadata": {
  "kernelspec": {
   "display_name": "Python 3 (ipykernel)",
   "language": "python",
   "name": "python3"
  },
  "language_info": {
   "codemirror_mode": {
    "name": "ipython",
    "version": 3
   },
   "file_extension": ".py",
   "mimetype": "text/x-python",
   "name": "python",
   "nbconvert_exporter": "python",
   "pygments_lexer": "ipython3",
   "version": "3.10.10"
  }
 },
 "nbformat": 4,
 "nbformat_minor": 4
}