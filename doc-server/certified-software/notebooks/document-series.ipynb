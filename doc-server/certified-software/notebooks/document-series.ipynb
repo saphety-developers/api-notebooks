{
 "cells": [
  {
   "cell_type": "markdown",
   "metadata": {},
   "source": [
    "# Series management\n",
    "Use this service to **create** and **manage** issuing series for certified software SaphetyDoc(DOC+).  \n",
    "A valid serie configutation must exist for issuing invoices."
   ]
  },
  {
   "cell_type": "markdown",
   "metadata": {},
   "source": [
    "## Serie properties\n",
    "A serie represents a numbering sequence rule for invoices.  \n",
    "A serie is defined by the following properties:\n",
    "\n",
    "- **Id**  \n",
    "System Id (integer). This Id is used to identity the serie, ex: to to get the serie using service _**/api/EntityCertifiedInformation/serie/{id}**_  \n",
    "- **EntityCode**  \n",
    "The entity code that the series belongs to. (Typically <country code + VAT number> ex: PT507957547)  \n",
    "- **Name**  \n",
    "The serie name. This name is to be used when calling the service **processLegalInvoice** in the series identification: **/invoice/@serie** (Invoice.Serie)  \n",
    "The name also acts as a key for the serie. A serie can be retrived by its name using the service **/api/EntityCertifiedInformation/documentRangeDefinition/byName** \n",
    "- **IsActive**  \n",
    "Boolean indicator. Must be **_true_** for the serie to be used.  \n",
    "- **LastValue**  \n",
    "Last value that can be issued when a range is defined (ex: 99999)\n",
    "- **LastHash**  \n",
    "Last invoice hash generated in this series (Base64)\n",
    "- **DocumentType**  \n",
    "One of the following: _INVOICE, DEBIT_NOTE, CREDIT_NOTE, DESPATCH_ADVICE, SIMPLIFIED_INVOICE, INVOICE_RECEIPT, WAYBILL_\n",
    "- **InternalCode**  \n",
    "Fixed value: Prefix decorator for invoice number generation (ex: FT-SRV)\n",
    "- **Serie**  \n",
    "Fixed value: Decorator for the invoice number (ex: 2021)\n",
    "- **StartValue**  \n",
    "When in a range, the range first value (interger)\n",
    "- **NumberingLength**  \n",
    "Length mask for the invoice number (ex: for length of 6 the generated number will be: 000097)\n",
    "- **EndDate**  \n",
    "After this date the series will not longer be valid and no invoices will be issued\n",
    "- **EndValue**  \n",
    "When in a ```Range``` serie, the range end value (interger)\n",
    "- **DocumentRangeType**  \n",
    "One of the following: _Range, TimeLimited, Ilimited_\n",
    "- **DocumentIssuingMode**  \n",
    "One of the following: _Paper, Electronic_\n",
    "- **TechKey**  \n",
    "Returned by the Tax Authority (Autoridade tributária e aduaneira)\n",
    "- **CreationDate**  \n",
    "System creation date\n",
    "- **ActivationDate**  \n",
    "Before this date the series is not valid and no invoices can be issued.\n",
    "- **LastDocumentDate**  \n",
    "Invoice Date (document date) of last issued invoices of this series.\n",
    "- **Finality**  \n",
    "One of the Following: _~~Edition~~_, _Integration_ (Use always **Integration**, Edition is deprecated)\n",
    "- **SelfBillingSupplierCode**  \n",
    "Used for issuing self-invoices on behalf of supplier (Typically <country code + VAT number> ex: PT507957547).\n"
   ]
  },
  {
   "cell_type": "markdown",
   "metadata": {},
   "source": [
    "## Get a token\n",
    "Check more detail how to get a token in [Services overview](../../services-overview/notebooks/services-overview.ipynb)  "
   ]
  },
  {
   "cell_type": "code",
   "execution_count": 1,
   "metadata": {},
   "outputs": [],
   "source": [
    "# Set Environment\n",
    "#Integration\n",
    "server_base_adress = \"doc-server-int.saphety.com/Doc.WebApi.Services\"\n",
    "#Quality\n",
    "#server_base_adress = \"doc-server-qa.saphety.com/Doc.WebApi.Services\"\n",
    "#Production\n",
    "#server_base_adress = \"doc-server.saphety.com/Doc.WebApi.Services\""
   ]
  },
  {
   "cell_type": "code",
   "execution_count": 2,
   "metadata": {},
   "outputs": [],
   "source": [
    "#Set authorization data\n",
    "#username = 'username'\n",
    "#password = 'request_password'\n",
    "\n",
    "username = 'user_api_doc'\n",
    "password = 'Request_password123.'"
   ]
  },
  {
   "cell_type": "code",
   "execution_count": 3,
   "metadata": {},
   "outputs": [
    {
     "name": "stdout",
     "output_type": "stream",
     "text": [
      "Your authorization token:eyJhbGciOiJIUzI1NiIsInR5cCI6IkpXVCJ9.eyJuYW1laWQiOiI1NDM5NSIsInVuaXF1ZV9uYW1lIjoidXNlcl9hcGlfZG9jIiwic2Vzc2lvbl9pZCI6IjhjNWJmNmJlLTU5ZjAtNGQ1My1iZTcwLWEzMGNkNjU2YTEyOCIsInN5c3RlbV9hZG1pbiI6IkZhbHNlIiwiZ2xvYl9lZGl0IjoiRmFsc2UiLCJleHRlcm5hbF91c2VybmFtZSI6InVzZXJfYXBpX2RvYyIsImV4dGVybmFsX3N5c3RlbV9hdWRpZW5jZSI6Imh0dHBzOi8vd3d3LnNhcGhldHktaW50LmNvbS9Eb2NTZXJ2ZXIiLCJybCI6IjE0IiwiY3AiOiJQVDU2MDMzMzMzMSIsIm5iZiI6MTY0ODE0MTM0MCwiZXhwIjoxNjQ4MTkyMzQwLCJpYXQiOjE2NDgxNDEyODAsImlzcyI6Imh0dHBzOi8vd3d3LnNhcGhldHkuY29tLyIsImF1ZCI6Imh0dHBzOi8vd3d3LnNhcGhldHktaW50LmNvbS9Eb2NTZXJ2ZXIifQ.XQa7tLU1s42cocbiewTMfR7Qy5VSCfjC-W6AMC1nnd4\n"
     ]
    }
   ],
   "source": [
    "## Get a JWT token from your username and password\n",
    "import requests\n",
    "import json\n",
    "\n",
    "service_url = \"https://\" + server_base_adress + \"/api/Account/token\"\n",
    "\n",
    "# Auhtentication data goes in payload as json\n",
    "payload = {\n",
    "      'Username': username,\n",
    "      'Password': password\n",
    "}\n",
    "# Payload goes in json, serialize the payloal object to json\n",
    "request_data=json.dumps(payload)\n",
    "# Indicate in header that payload is json\n",
    "headers = {\n",
    "    'content-type': 'application/json'\n",
    "    }\n",
    "# POST request to get a token\n",
    "response = requests.request(\"POST\", service_url, data=request_data, headers=headers)\n",
    "# Serializethe response\n",
    "json_response = json.loads(response.text)\n",
    "# Your token is at:\n",
    "token = json_response[\"Data\"];\n",
    "print ('Your authorization token:' + token)"
   ]
  },
  {
   "cell_type": "markdown",
   "metadata": {},
   "source": [
    "## List available series\n",
    "Get a list of available series for a given company.  \n",
    "This service has a paginable data return.  Check more on _paginable services_ on [Services overview](../../services-overview/notebooks/services-overview.ipynb)   \n",
    "It is required to specify the company to list the series for.  \n",
    "### About the restriction criteria\n",
    "Specify the company code in the service RestrictionCriteria.Code  \n",
    "You can specify the following restriction creteria:  \n",
    "- **Code**  \n",
    "- **Name**  \n",
    "- **IsActive**  \n",
    "    \n",
    "RestrictionCriteria.Name\n",
    "RestrictionCriteria.IsActive (boolean indicating if the series is active or inactive)"
   ]
  },
  {
   "cell_type": "code",
   "execution_count": 4,
   "metadata": {},
   "outputs": [
    {
     "name": "stdout",
     "output_type": "stream",
     "text": [
      "<Response [200]>\n",
      "{'CorrelationId': '76723de2-75ab-4144-9542-3ac4c615d24c', 'IsValid': True, 'Errors': [], 'Data': [{'Id': 177542, 'EntityCode': 'PT560333331', 'Name': 'SerieName', 'IsActive': True, 'LastValue': 1, 'LastHash': 'lIPOYfwGT0f5NvsG+zzKHuFRgeW5L1v00aaEVmhEX4YoN9DE4O1ijGTQv4AdoQnIIaichy9iCP4sEneYbUbVsDeUsedaluapdEIGC8vDfXmUwlLHzNiQykD966R5hc3O9ZmBinI+6EY3UWHX4g2FV3ZHSNns0tXyyuLsXQ5mnQ8=', 'DocumentType': 'INVOICE', 'InternalCode': 'INTCode', 'Serie': '2021', 'StartValue': 1, 'NumberingLength': 6, 'EndDate': None, 'EndValue': 999999, 'DocumentRangeType': 'Range', 'DocumentIssuingMode': 'Electronic', 'TechKey': None, 'CreationDate': '2021-05-12T14:48:18.588976', 'ActivationDate': None, 'LastDocumentDate': '2021-05-07T00:00:00', 'Finality': 'Integration', 'SelfBillingSupplierCode': None}]}\n"
     ]
    }
   ],
   "source": [
    "service_url = \"https://\" + server_base_adress + \"/api/EntityCertifiedInformation/documentRangeDefinition/search\"\n",
    "\n",
    "# Search criteria data goes in payload as json\n",
    "payload = {\n",
    "  'RestrictionCriteria': {\n",
    "    'Code': \"PT560333331\", # The company code that youwant to list the series for\n",
    "    'Name': '',\n",
    "    'IsActive': True\n",
    "  },\n",
    "  'PageNumber': 0,\n",
    "  'RowsPerPage': 20\n",
    "}\n",
    "# Payload goes in json, serialize the payloal object to json\n",
    "request_data=json.dumps(payload)\n",
    "# Indicate in header the authorization token\n",
    "headers = {\n",
    "    'content-type': 'application/json',\n",
    "     'Authorization': 'bearer ' + token\n",
    "    }\n",
    "# POST request to get a token\n",
    "response = requests.request(\"POST\", service_url, data=request_data, headers=headers)\n",
    "print (response)\n",
    "# Serializethe response\n",
    "json_response = json.loads(response.text)\n",
    "print(json_response)"
   ]
  },
  {
   "cell_type": "markdown",
   "metadata": {},
   "source": [
    "## Activate and Deactivate a serie\n",
    "To activate and deactive a serie use the service: _**/api/EntityCertifiedInformation/documentRangeDefinition/activate/{id}**_  \n",
    "To deactivate and deactive a serie use the service: _**/api//EntityCertifiedInformation/documentRangeDefinition/deactivate/{id}**_  \n",
    "This service uses a **PUT** method  \n",
    "- **Id**  \n",
    "Id is the system identification for the series"
   ]
  },
  {
   "cell_type": "code",
   "execution_count": 5,
   "metadata": {},
   "outputs": [
    {
     "name": "stdout",
     "output_type": "stream",
     "text": [
      "<Response [200]>\n",
      "{'CorrelationId': 'dd79f523-d5e9-48c5-aa15-e5075ca3a35b', 'IsValid': False, 'Errors': [{'Code': 'ENTITY_DOC_RANGE_ALREADY_UPDATED', 'Field': 'IsActive', 'Values': ['True']}], 'Data': None}\n"
     ]
    }
   ],
   "source": [
    "# Get the serie Id from the previous serach service\n",
    "serieIdToActivate = 177542 \n",
    "# Build the url\n",
    "service_url = \"https://\" + server_base_adress + \"/api/EntityCertifiedInformation/documentRangeDefinition/activate\" + \"/\" + str(serieIdToActivate)\n",
    "# Indicate in header the authorization token\n",
    "headers = {\n",
    "    'content-type': 'application/json',\n",
    "     'Authorization': 'bearer ' + token\n",
    "    }\n",
    "# Use PUT to send the request\n",
    "response = requests.request(\"PUT\", service_url, data=None, headers=headers)\n",
    "print (response)\n",
    "# Serializethe response\n",
    "json_response = json.loads(response.text)\n",
    "print(json_response)"
   ]
  },
  {
   "cell_type": "markdown",
   "metadata": {},
   "source": [
    "## Create a Serie\n",
    "Use the service _**POST /api/EntityCertifiedInformation/documentRangeDefinition**_ to create a serie  \n",
    "The serie information passed is the same as defined in section **Serie properties**  \n",
    "The serie Id is generated by the system."
   ]
  },
  {
   "cell_type": "code",
   "execution_count": 6,
   "metadata": {},
   "outputs": [
    {
     "name": "stdout",
     "output_type": "stream",
     "text": [
      "<Response [200]>\n",
      "{'CorrelationId': '08b4f5d3-833c-40e6-a419-834b6674eca6', 'IsValid': False, 'Errors': [{'Code': 'ENTITY_DOC_RANGE_WITH_SAME_NAME_EXISTS', 'Field': 'inputDto', 'Values': ['SerieName']}], 'Data': None}\n"
     ]
    }
   ],
   "source": [
    "# Build the url\n",
    "service_url = \"https://\" + server_base_adress + \"/api//EntityCertifiedInformation/documentRangeDefinition\"\n",
    "# Indicate in header the authorization token\n",
    "headers = {\n",
    "    'content-type': 'application/json',\n",
    "     'Authorization': 'bearer ' + token\n",
    "    }\n",
    "serie_to_create = {    \n",
    "    'IsActive': True,\n",
    "    'EntityCode': 'PT560333331',     \n",
    "    'Name': 'SerieName',    \n",
    "    'DocumentType': 'INVOICE',    \n",
    "    'DocumentIssuingMode': 'Electronic',    \n",
    "    'Finality': 'Integration',    \n",
    "    'InternalCode': 'INTCode',    \n",
    "    'Serie': '2021',    \n",
    "    'StartValue': 1,    \n",
    "    'NumberingLength': 6,   \n",
    "    'DocumentRangeType': 'Range',    \n",
    "    'EndValue': '999999'\n",
    "}\n",
    "request_data=json.dumps(serie_to_create)\n",
    "# Use POST to send the request\n",
    "response = requests.request(\"POST\", service_url, data=request_data, headers=headers)\n",
    "print (response)\n",
    "# Serializethe response\n",
    "json_response = json.loads(response.text)\n",
    "print(json_response)"
   ]
  },
  {
   "cell_type": "markdown",
   "metadata": {},
   "source": [
    "## Get a series by name\n",
    "Check a serie existance using the service **GET** _**/api/EntityCertifiedInformation/documentRangeDefinition/byName?name=serie_name**_  \n",
    "The serie name is passed in the query string"
   ]
  },
  {
   "cell_type": "code",
   "execution_count": 7,
   "metadata": {},
   "outputs": [
    {
     "name": "stdout",
     "output_type": "stream",
     "text": [
      "<Response [200]>\n",
      "{'CorrelationId': '5a84ffb0-6e85-488e-9d7b-1191aabf4224', 'IsValid': True, 'Errors': [], 'Data': {'Id': 177542, 'EntityCode': 'PT560333331', 'Name': 'SerieName', 'IsActive': True, 'LastValue': 1, 'LastHash': 'lIPOYfwGT0f5NvsG+zzKHuFRgeW5L1v00aaEVmhEX4YoN9DE4O1ijGTQv4AdoQnIIaichy9iCP4sEneYbUbVsDeUsedaluapdEIGC8vDfXmUwlLHzNiQykD966R5hc3O9ZmBinI+6EY3UWHX4g2FV3ZHSNns0tXyyuLsXQ5mnQ8=', 'DocumentType': 'INVOICE', 'InternalCode': 'INTCode', 'Serie': '2021', 'StartValue': 1, 'NumberingLength': 6, 'EndDate': None, 'EndValue': 999999, 'DocumentRangeType': 'Range', 'DocumentIssuingMode': 'Electronic', 'TechKey': None, 'CreationDate': '2021-05-12T14:48:18.588976', 'ActivationDate': None, 'LastDocumentDate': '2021-05-07T00:00:00', 'Finality': 'Integration', 'SelfBillingSupplierCode': None}}\n"
     ]
    }
   ],
   "source": [
    "# The serie name to get\n",
    "serie_name = 'SerieName'\n",
    "# Build the url\n",
    "service_url = \"https://\" + server_base_adress + \"/api/EntityCertifiedInformation/documentRangeDefinition/byName?name=\" + serie_name;\n",
    "# Indicate in header the authorization token\n",
    "headers = {\n",
    "    'content-type': 'application/json',\n",
    "     'Authorization': 'bearer ' + token\n",
    "    }\n",
    "# GET to send the request\n",
    "response = requests.request(\"GET\", service_url, headers=headers)\n",
    "print (response)\n",
    "# Serializethe response\n",
    "json_response = json.loads(response.text)\n",
    "print(json_response)"
   ]
  }
 ],
 "metadata": {
  "kernelspec": {
   "display_name": "Python 3 (ipykernel)",
   "language": "python",
   "name": "python3"
  },
  "language_info": {
   "codemirror_mode": {
    "name": "ipython",
    "version": 3
   },
   "file_extension": ".py",
   "mimetype": "text/x-python",
   "name": "python",
   "nbconvert_exporter": "python",
   "pygments_lexer": "ipython3",
   "version": "3.9.7"
  }
 },
 "nbformat": 4,
 "nbformat_minor": 4
}
