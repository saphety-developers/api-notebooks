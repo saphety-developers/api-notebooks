{
 "cells": [
  {
   "cell_type": "markdown",
   "metadata": {},
   "source": [
    "# SAF-T reports  \n",
    "Use this service to generate SAF-T reports. This service only works for documents issued with certified software SaphetyDoc(DOC+).  \n",
    "For more information on [SAF-T (PT)](https://info.portaldasfinancas.gov.pt/pt/apoio_contribuinte/SAFT_PT/Paginas/news-saf-t-pt.aspx)  \n",
    "\n",
    "You can request a SAF-T generation using the service **/api/Reporting/createSafT**  \n",
    "This is an **asynchrounous** service: when requesting a SAF-T report you will receive an Id (GUID) that you can query for report completion.  \n",
    "SAF-T report generation is part of a group defined as _Long running tasks_. These tasks may take some time to complete, therefore their asynchrounous nature.  "
   ]
  },
  {
   "cell_type": "markdown",
   "metadata": {},
   "source": [
    "## SAF-T query report properties\n",
    "\n",
    "SAF-T reporting specifies the following parameters:  \n",
    "- **EntityCode**  \n",
    "The entity code that issued the invoice and is responsible for SAFT-T. (Typically <country code + VAT number> ex: PT507957547)  \n",
    "- **SelfInvoiceSellerEntityCode**  \n",
    "Applyed only when issuing self-invoices. Typically <country code + VAT number>. This will generate a SAF-T file for the seller.\n",
    "- **StartDate** and **EndDate**   \n",
    "The **document dates** interval that will define the document inclusion in the report\n",
    "- **DocumentTypes**  \n",
    "One of the following: _INVOICE, DEBIT_NOTE, CREDIT_NOTE, DESPATCH_ADVICE, SIMPLIFIED_INVOICE, INVOICE_RECEIPT, WAYBILL_  \n",
    "Use _**ALL**_ to include all document types in SAF-T.\n",
    "\n",
    "## Requesting a SAF-T report"
   ]
  },
  {
   "cell_type": "markdown",
   "metadata": {},
   "source": [
    "### Get a token\n",
    "Check more detail how to get a token in [Services overview](../../services-overview/notebooks/services-overview.ipynb)  "
   ]
  },
  {
   "cell_type": "code",
   "execution_count": 4,
   "metadata": {},
   "outputs": [],
   "source": [
    "# Set Environment\n",
    "#Integration\n",
    "server_base_adress = \"doc-server-int.saphety.com/Doc.WebApi.Services\"\n",
    "#Quality\n",
    "#server_base_adress = \"doc-server-qa.saphety.com/Doc.WebApi.Services\"\n",
    "#Production\n",
    "#server_base_adress = \"doc-server.saphety.com/Doc.WebApi.Services\""
   ]
  },
  {
   "cell_type": "code",
   "execution_count": 5,
   "metadata": {},
   "outputs": [],
   "source": [
    "#Set authorization data\n",
    "#username = 'username'\n",
    "#password = 'request_password'\n",
    "\n",
    "username = 'user_api_doc'\n",
    "password = 'Request_password123.'"
   ]
  },
  {
   "cell_type": "code",
   "execution_count": 6,
   "metadata": {},
   "outputs": [
    {
     "name": "stdout",
     "output_type": "stream",
     "text": [
      "Your authorization token:eyJhbGciOiJIUzI1NiIsInR5cCI6IkpXVCJ9.eyJuYW1laWQiOiI1NDM5NSIsInVuaXF1ZV9uYW1lIjoidXNlcl9hcGlfZG9jIiwic2Vzc2lvbl9pZCI6IjE3YjE1NTczLWY1OWEtNDM4MS1iNjc2LWQ4ZWE4YmMxYjM2NiIsInN5c3RlbV9hZG1pbiI6IkZhbHNlIiwiZ2xvYl9lZGl0IjoiRmFsc2UiLCJleHRlcm5hbF91c2VybmFtZSI6InVzZXJfYXBpX2RvYyIsImV4dGVybmFsX3N5c3RlbV9hdWRpZW5jZSI6Imh0dHBzOi8vd3d3LnNhcGhldHktaW50LmNvbS9Eb2NTZXJ2ZXIiLCJybCI6IjE0IiwiY3AiOiJQVDU2MDMzMzMzMSIsIm5iZiI6MTY0ODE0MTI2NSwiZXhwIjoxNjQ4MTkyMjY1LCJpYXQiOjE2NDgxNDEyMDUsImlzcyI6Imh0dHBzOi8vd3d3LnNhcGhldHkuY29tLyIsImF1ZCI6Imh0dHBzOi8vd3d3LnNhcGhldHktaW50LmNvbS9Eb2NTZXJ2ZXIifQ.Dd4PjNtgRrumsQQbMRXQ-Dwsuxds21idJA-N1ih79Uo\n"
     ]
    }
   ],
   "source": [
    "## Get a JWT token from your username and password\n",
    "import requests\n",
    "import json\n",
    "\n",
    "service_url = \"https://\" + server_base_adress + \"/api/Account/token\"\n",
    "\n",
    "# Auhtentication data goes in payload as json\n",
    "payload = {\n",
    "      'Username': username,\n",
    "      'Password': password\n",
    "}\n",
    "# Payload goes in json, serialize the payloal object to json\n",
    "request_data=json.dumps(payload)\n",
    "# Indicate in header that payload is json\n",
    "headers = {\n",
    "    'content-type': 'application/json'\n",
    "    }\n",
    "# POST request to get a token\n",
    "response = requests.request(\"POST\", service_url, data=request_data, headers=headers)\n",
    "# Serializethe response\n",
    "json_response = json.loads(response.text)\n",
    "# Your token is at:\n",
    "token = json_response[\"Data\"];\n",
    "print ('Your authorization token:' + token)"
   ]
  },
  {
   "cell_type": "markdown",
   "metadata": {},
   "source": [
    "### Define SAFT-T criteria"
   ]
  },
  {
   "cell_type": "code",
   "execution_count": 7,
   "metadata": {},
   "outputs": [],
   "source": [
    "# SAF-T criteria data goes in payload as json\n",
    "saft_criteria = {\n",
    "  'EntityCode': \"PT560333331\", # The company code that you want to list the series for\n",
    "  'SelfInvoiceSellerEntityCode': None, # Used only when issuing self-invoices\n",
    "  'StartDate': \"2021-04-01\",\n",
    "  'EndDate': \"2021-05-30\",\n",
    "  'DocumentTypes': \"ALL\"\n",
    "}\n"
   ]
  },
  {
   "cell_type": "markdown",
   "metadata": {},
   "source": [
    "### Send request and get a request Id"
   ]
  },
  {
   "cell_type": "code",
   "execution_count": 8,
   "metadata": {},
   "outputs": [
    {
     "name": "stdout",
     "output_type": "stream",
     "text": [
      "{\n",
      "    \"CorrelationId\": \"6795e564-383d-476f-aeb4-f08c3309cf5a\",\n",
      "    \"IsValid\": true,\n",
      "    \"Errors\": [],\n",
      "    \"Data\": \"d7767154-1d3d-4818-8318-473f71d013f0\"\n",
      "}\n"
     ]
    }
   ],
   "source": [
    "service_url = \"https://\" + server_base_adress + \"/api/Reporting/createSafT\"\n",
    "\n",
    "# Serialize the payloal object to json\n",
    "request_data=json.dumps(saft_criteria)\n",
    "# Indicate in header the authorization token\n",
    "headers = {\n",
    "    'content-type': 'application/json',\n",
    "     'Authorization': 'bearer ' + token\n",
    "    }\n",
    "# POST data to request SAF-Treport\n",
    "response = requests.request(\"POST\", service_url, data=request_data, headers=headers)\n",
    "\n",
    "# formating the response to json for visualization purposes only\n",
    "json_response = json.loads(response.text)\n",
    "print(json.dumps(json_response, indent=4))"
   ]
  },
  {
   "cell_type": "code",
   "execution_count": 9,
   "metadata": {},
   "outputs": [
    {
     "name": "stdout",
     "output_type": "stream",
     "text": [
      "The request id to query on service status: d7767154-1d3d-4818-8318-473f71d013f0\n"
     ]
    }
   ],
   "source": [
    "# your request id is at:\n",
    "request_id = json_response[\"Data\"];\n",
    "print ('The request id to query on service status: ' + request_id)"
   ]
  },
  {
   "cell_type": "markdown",
   "metadata": {},
   "source": [
    "## Check the status of your request\n",
    "Query the ```LongRunningTasksMonitor``` as indicate bellow.  \n",
    "The ```AsyncStatus``` of your request must be set to ```finished``` and the ```IsValid``` property  no ```Errors``` should be present in the response."
   ]
  },
  {
   "cell_type": "code",
   "execution_count": 10,
   "metadata": {},
   "outputs": [
    {
     "name": "stdout",
     "output_type": "stream",
     "text": [
      "{\n",
      "    \"CorrelationId\": \"abccc125-e4d1-4b84-8571-15f6aea97b76\",\n",
      "    \"IsValid\": true,\n",
      "    \"Errors\": [],\n",
      "    \"Data\": {\n",
      "        \"Id\": \"d7767154-1d3d-4818-8318-473f71d013f0\",\n",
      "        \"UserId\": 54395,\n",
      "        \"Queue\": \"DocGenerateSafT\",\n",
      "        \"AsyncStatus\": \"Finished\",\n",
      "        \"CreationDate\": \"2022-03-24 17:01:08\",\n",
      "        \"ExecutionStart\": \"2022-03-24 17:01:08\",\n",
      "        \"ExecutionEnd\": \"2022-03-24 17:01:10\",\n",
      "        \"SerializedInput\": \"{\\\"Id\\\":\\\"d7767154-1d3d-4818-8318-473f71d013f0\\\",\\\"Payload\\\":{\\\"EntityCode\\\":\\\"PT560333331\\\",\\\"SelfInvoiceSellerEntityCode\\\":null,\\\"StartDate\\\":\\\"2021-04-01\\\",\\\"EndDate\\\":\\\"2021-05-30\\\",\\\"DocumentTypes\\\":\\\"ALL\\\"}}\",\n",
      "        \"SerializedOutput\": \"{\\\"CorrelationId\\\":\\\"6b8e9f8d-b24b-49c6-b877-b0a56a2199d8\\\",\\\"IsValid\\\":true,\\\"Errors\\\":[],\\\"Data\\\":83747}\"\n",
      "    }\n",
      "}\n",
      "Your task is: Finished\n"
     ]
    }
   ],
   "source": [
    "# with the received request_id query the LongRunningTasksMonitor\n",
    "service_url = \"https://\" + server_base_adress + \"/api/LongRunningTasksMonitor/\" + request_id\n",
    "# build the request\n",
    "headers = {\n",
    "    'Authorization': 'bearer ' + token\n",
    "    }\n",
    "# POST request to send the invoice\n",
    "response = requests.request(\"GET\", service_url, headers=headers)\n",
    "# formating the response to json for visualization purposes only\n",
    "json_response = json.loads(response.text)\n",
    "print(json.dumps(json_response, indent=4))\n",
    "task_status=json_response[\"Data\"][\"AsyncStatus\"]\n",
    "task_errors=json_response[\"Errors\"]\n",
    "print(\"Your task is: \" + task_status)"
   ]
  },
  {
   "cell_type": "markdown",
   "metadata": {},
   "source": [
    "## Download SAF-T report\n",
    "### Report characteristics\n",
    "Once the report task has finished with success a SAF-T report is available for download.  \n",
    "The report is associated to the company that request the SAFT-T. (Property ```EntityCode``` in the SAFT-Criteria)  \n",
    "The report will have the following characteristics:  \n",
    "- Report code: **SAFT_PT_GENERATION**\n",
    "- Report name: **SafT_**```RequesterEntitycode|SelfBillingEntityCode```**_**```DocumentStartDate (yyMMdd)```**_**```DocumentEndDate (yyMMdd)```**.zip**  \n",
    "Example: **_SafT_PT506284301_210401_210530.zip_**  \n",
    "\n",
    "### Get a token to download report\n",
    "Use the service **_/api/Reporting/SearchEntityReport_** to find your SAF-T report.  \n",
    "This service returns a token that can be use to download the report.   \n",
    "This service is a _paginable services_. More info at [Services overview](../../services-overview/notebooks/services-overview.ipynb)   \n",
    "This service can return more then one SAF-T report since severall requests can be done using the same criteria. Use the ```RestrictionCriteria``` ```MaxCreationDate``` and ```MinCreationDate```  to find the target report."
   ]
  },
  {
   "cell_type": "code",
   "execution_count": 11,
   "metadata": {},
   "outputs": [
    {
     "name": "stdout",
     "output_type": "stream",
     "text": [
      "<Response [200]>\n",
      "{'CorrelationId': 'fdb2266f-8135-44d1-baea-9da6d9c1b75d', 'IsValid': True, 'Errors': [], 'Data': [{'Id': 83747, 'EntityCode': 'PT560333331', 'Code': 'SAFT_PT_GENERATION', 'Name': 'SafT_PT560333331_210401_210530.zip', 'Script': None, 'UsersId': 421, 'CreationDate': '2022-03-24 17:01:09', 'ExecutionDate': '2022-03-24 17:01:09', 'Status': 'PROCESSED', 'ExecutionCompleted': '2022-03-24 17:01:10', 'ReportContext': '{\"StartDate\":\"2021-04-01T00:00:00\",\"EndDate\":\"2021-05-30T00:00:00\"}', 'Token': '3qV7kSpzkwXrLZrmqCOlhLWxOPd7IklkIjo4Mzc0NywiRW50aXR5Q29kZSI6IlBUNTYwMzMzMzMxIiwiVXNlcklkIjo1NDM5NX0='}, {'Id': 83746, 'EntityCode': 'PT560333331', 'Code': 'SAFT_PT_GENERATION', 'Name': 'SafT_PT560333331_210401_210530.zip', 'Script': None, 'UsersId': 421, 'CreationDate': '2022-03-24 16:27:06', 'ExecutionDate': '2022-03-24 16:27:06', 'Status': 'PROCESSED', 'ExecutionCompleted': '2022-03-24 16:27:08', 'ReportContext': '{\"StartDate\":\"2021-04-01T00:00:00\",\"EndDate\":\"2021-05-30T00:00:00\"}', 'Token': 'K9iky9i5uMp6Q2eRhXCPokhCIO57IklkIjo4Mzc0NiwiRW50aXR5Q29kZSI6IlBUNTYwMzMzMzMxIiwiVXNlcklkIjo1NDM5NX0='}, {'Id': 73721, 'EntityCode': 'PT560333331', 'Code': 'SAFT_PT_GENERATION', 'Name': 'SafT_PT560333331_210401_210530.zip', 'Script': None, 'UsersId': 421, 'CreationDate': '2021-06-07 15:01:04', 'ExecutionDate': '2021-06-07 15:01:04', 'Status': 'PROCESSED', 'ExecutionCompleted': '2021-06-07 15:01:04', 'ReportContext': '{\"StartDate\":\"2021-04-01T00:00:00\",\"EndDate\":\"2021-05-30T00:00:00\"}', 'Token': '874Zu+Oi0KNohF5wWY+DIwQqgZ57IklkIjo3MzcyMSwiRW50aXR5Q29kZSI6IlBUNTYwMzMzMzMxIiwiVXNlcklkIjo1NDM5NX0='}, {'Id': 73719, 'EntityCode': 'PT560333331', 'Code': 'SAFT_PT_GENERATION', 'Name': 'SafT_PT560333331_210401_210530.zip', 'Script': None, 'UsersId': 421, 'CreationDate': '2021-06-07 14:57:18', 'ExecutionDate': '2021-06-07 14:57:18', 'Status': 'PROCESSED', 'ExecutionCompleted': '2021-06-07 14:57:19', 'ReportContext': '{\"StartDate\":\"2021-04-01T00:00:00\",\"EndDate\":\"2021-05-30T00:00:00\"}', 'Token': 'PeNzj8XLvN9e/EY3NEMMOrkSMUt7IklkIjo3MzcxOSwiRW50aXR5Q29kZSI6IlBUNTYwMzMzMzMxIiwiVXNlcklkIjo1NDM5NX0='}, {'Id': 73526, 'EntityCode': 'PT560333331', 'Code': 'SAFT_PT_GENERATION', 'Name': 'SafT_PT560333331_210401_210530.zip', 'Script': None, 'UsersId': 421, 'CreationDate': '2021-05-24 16:37:31', 'ExecutionDate': '2021-05-24 16:37:31', 'Status': 'PROCESSED', 'ExecutionCompleted': '2021-05-24 16:37:32', 'ReportContext': '{\"StartDate\":\"2021-04-01T00:00:00\",\"EndDate\":\"2021-05-30T00:00:00\"}', 'Token': 'DQBSNom43gC8M24b3TybFack7Oh7IklkIjo3MzUyNiwiRW50aXR5Q29kZSI6IlBUNTYwMzMzMzMxIiwiVXNlcklkIjo1NDM5NX0='}, {'Id': 73507, 'EntityCode': 'PT560333331', 'Code': 'SAFT_PT_GENERATION', 'Name': 'SafT_PT560333331_210401_210530.zip', 'Script': None, 'UsersId': 421, 'CreationDate': '2021-05-17 15:14:50', 'ExecutionDate': '2021-05-17 15:14:50', 'Status': 'PROCESSED', 'ExecutionCompleted': '2021-05-17 15:14:51', 'ReportContext': '{\"StartDate\":\"2021-04-01T00:00:00\",\"EndDate\":\"2021-05-30T00:00:00\"}', 'Token': '07EJGB8+0dSUQuGGIIWEqO6V5Cx7IklkIjo3MzUwNywiRW50aXR5Q29kZSI6IlBUNTYwMzMzMzMxIiwiVXNlcklkIjo1NDM5NX0='}, {'Id': 73337, 'EntityCode': 'PT560333331', 'Code': 'SAFT_PT_GENERATION', 'Name': 'SafT_PT560333331_210401_210530.zip', 'Script': None, 'UsersId': 421, 'CreationDate': '2021-05-12 15:33:53', 'ExecutionDate': '2021-05-12 15:33:53', 'Status': 'PROCESSED', 'ExecutionCompleted': '2021-05-12 15:33:54', 'ReportContext': '{\"StartDate\":\"2021-04-01T00:00:00\",\"EndDate\":\"2021-05-30T00:00:00\"}', 'Token': 'DSAj0vBevcCAqgKA1JMweTincsV7IklkIjo3MzMzNywiRW50aXR5Q29kZSI6IlBUNTYwMzMzMzMxIiwiVXNlcklkIjo1NDM5NX0='}]}\n"
     ]
    }
   ],
   "source": [
    "# Search you report by defining in thesearch criteira the report characteristics\n",
    "service_url = \"https://\" + server_base_adress + \"/api/Reporting/SearchEntityReport\"\n",
    "# Use in the restriction criteria the report characteristics\n",
    "report_name='SafT_PT560333331_210401_210530.zip'\n",
    "payload = {\n",
    "  'RestrictionCriteria': {\n",
    "    'EntityCode': \"PT560333331\", # the entity code that requested the report generation\n",
    "    'Code': \"SAFT_PT_GENERATION\", # SAF-T report\n",
    "    'Name': report_name, # report name (check rule names)\n",
    "    'MaxCreationDate': None,\n",
    "    'MinCreationDate': None\n",
    "  },\n",
    "  'OrderBy': 'CreationDate',\n",
    "  'OrderDescending': True,\n",
    "  'PageNumber': 0,\n",
    "  'RowsPerPage': 20\n",
    "}\n",
    "# Payload goes in json, serialize the payloal object to json\n",
    "request_data=json.dumps(payload)\n",
    "# Indicate in header the authorization token\n",
    "headers = {\n",
    "    'content-type': 'application/json',\n",
    "     'Authorization': 'bearer ' + token\n",
    "    }\n",
    "# POST request to get a token\n",
    "response = requests.request(\"POST\", service_url, data=request_data, headers=headers)\n",
    "print (response)\n",
    "# Serializethe response\n",
    "json_response = json.loads(response.text)\n",
    "print(json_response)"
   ]
  },
  {
   "cell_type": "code",
   "execution_count": 12,
   "metadata": {},
   "outputs": [
    {
     "name": "stdout",
     "output_type": "stream",
     "text": [
      "Token to download the report: 3qV7kSpzkwXrLZrmqCOlhLWxOPd7IklkIjo4Mzc0NywiRW50aXR5Q29kZSI6IlBUNTYwMzMzMzMxIiwiVXNlcklkIjo1NDM5NX0=\n"
     ]
    }
   ],
   "source": [
    "# token is at (note that more then one report may have been returned)\n",
    "report_access_token =json_response[\"Data\"][0][\"Token\"]\n",
    "print('Token to download the report: ' + report_access_token)"
   ]
  },
  {
   "cell_type": "markdown",
   "metadata": {},
   "source": [
    "### Download the report\n",
    "With the token use the service **_/api/Reporting/GetReportByToken_** to download the report"
   ]
  },
  {
   "cell_type": "code",
   "execution_count": 13,
   "metadata": {},
   "outputs": [
    {
     "name": "stdout",
     "output_type": "stream",
     "text": [
      "SAF-T download url: https://doc-server-int.saphety.com/Doc.WebApi.Services/api/Reporting/GetReportByToken?token=3qV7kSpzkwXrLZrmqCOlhLWxOPd7IklkIjo4Mzc0NywiRW50aXR5Q29kZSI6IlBUNTYwMzMzMzMxIiwiVXNlcklkIjo1NDM5NX0%3D\n"
     ]
    }
   ],
   "source": [
    "import urllib.parse\n",
    "\n",
    "# Build the url\n",
    "report_access_token = urllib.parse.quote(report_access_token);\n",
    "service_url = \"https://\" + server_base_adress + \"/api/Reporting/GetReportByToken?token=\" + report_access_token;\n",
    "print('SAF-T download url: ' + service_url);\n",
    "# Indicate in header the authorization token\n",
    "headers = {\n",
    "    'content-type': 'application/json',\n",
    "     'Authorization': 'bearer ' + token\n",
    "    }\n",
    "# Use GET to send the request\n",
    "#r = requests.get(service_url, Stream=True)\n",
    "\n",
    "\n",
    "response = requests.get(service_url, allow_redirects=True)\n",
    "with open(report_name,'wb') as report:\n",
    "    report.write(response.content)\n",
    "\n",
    "# response = requests.request(\"GET\", service_url, headers=headers)\n",
    "# print (response)\n",
    "# Serializethe response\n",
    "#This service streams the report to the client."
   ]
  }
 ],
 "metadata": {
  "kernelspec": {
   "display_name": "Python 3 (ipykernel)",
   "language": "python",
   "name": "python3"
  },
  "language_info": {
   "codemirror_mode": {
    "name": "ipython",
    "version": 3
   },
   "file_extension": ".py",
   "mimetype": "text/x-python",
   "name": "python",
   "nbconvert_exporter": "python",
   "pygments_lexer": "ipython3",
   "version": "3.9.7"
  }
 },
 "nbformat": 4,
 "nbformat_minor": 4
}
