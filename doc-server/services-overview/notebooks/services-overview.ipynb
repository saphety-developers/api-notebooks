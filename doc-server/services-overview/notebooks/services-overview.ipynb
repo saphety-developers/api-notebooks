{
 "cells": [
  {
   "cell_type": "markdown",
   "metadata": {},
   "source": [
    "# API Basics\n",
    "DOC-Server API is a RESTfull Http API.  \n",
    "## Environments\n",
    "There are 2 environments are available:  \n",
    "* **Quality (QA)**  \n",
    "Use this environment for testing purposes. Services [APi OAS3 here](https://doc-server-qa.saphety.com/Doc.WebApi.Services/api/index.html)  \n",
    "* **Production**  \n",
    "Production environment. Services [APi OAS3 here](https://doc-server-qa.saphety.com/Doc.WebApi.Services/api/index.html)"
   ]
  },
  {
   "cell_type": "markdown",
   "metadata": {},
   "source": [
    "## Authentication\n",
    "All services require JWT autorization token. This token is used as a bearer token on each request header.  \n",
    "Use your credentials (username, password) to get a token at:   \n",
    "```  \n",
    "https://<ServerBaseAddress>/api/Account/token  \n",
    "```   "
   ]
  },
  {
   "cell_type": "code",
   "execution_count": 24,
   "metadata": {},
   "outputs": [],
   "source": [
    "#Set Environment\n",
    "#Integration\n",
    "server_base_adress = \"doc-server-int.saphety.com/Doc.WebApi.Services\"\n",
    "#Quality\n",
    "#server_base_adress = \"doc-server-qa.saphety.com/Doc.WebApi.Services\"\n",
    "#Production\n",
    "#server_base_adress = \"doc-server.saphety.com/Doc.WebApi.Services\""
   ]
  },
  {
   "cell_type": "code",
   "execution_count": 25,
   "metadata": {},
   "outputs": [
    {
     "name": "stdout",
     "output_type": "stream",
     "text": [
      "{\n",
      "    \"CorrelationId\": \"62509d9a-8cc2-4823-a77b-3d586141d454\",\n",
      "    \"IsValid\": false,\n",
      "    \"Errors\": [\n",
      "        {\n",
      "            \"Code\": \"INVALID_AUTHENTICATION_DATA\",\n",
      "            \"Field\": \"Username\",\n",
      "            \"Values\": [\n",
      "                \"user\"\n",
      "            ]\n",
      "        }\n",
      "    ],\n",
      "    \"Data\": null\n",
      "}\n"
     ]
    }
   ],
   "source": [
    "import requests\n",
    "import json\n",
    "\n",
    "# DOC-Server account service url\n",
    "service_url = \"https://\" + server_base_adress + \"/api/Account/token\"\n",
    "\n",
    "# Example of username and password\n",
    "username = 'user'\n",
    "password = 'pass'\n",
    "\n",
    "# Auhtentication data goes in payload as json\n",
    "payload = {\n",
    "      'Username': username,\n",
    "      'Password': password\n",
    "}\n",
    "# Payload goes in json, serialize the payloal object to json\n",
    "request_data=json.dumps(payload)\n",
    "# Indicate in header that payload is json\n",
    "headers = {\n",
    "    'content-type': 'application/json'\n",
    "    }\n",
    "# POST request to get a token\n",
    "response = requests.request(\"POST\", service_url, data=request_data, headers=headers)\n",
    "\n",
    "# Formating the response to json for visualization purposes only\n",
    "json_response = json.loads(response.text)\n",
    "print(json.dumps(json_response, indent=4))"
   ]
  },
  {
   "cell_type": "code",
   "execution_count": 19,
   "metadata": {},
   "outputs": [
    {
     "name": "stdout",
     "output_type": "stream",
     "text": [
      "None\n"
     ]
    }
   ],
   "source": [
    "# Your token is at:\n",
    "token = json_response[\"Data\"];\n",
    "print (token)"
   ]
  },
  {
   "cell_type": "markdown",
   "metadata": {},
   "source": [
    "### bearer token\n",
    "The token obtained in the ```/api/Account/token``` service is to be used has a bearer token in the http header  \n",
    "```Javascript\n",
    "POST https://<Service URL> HTTP/1.1\n",
    "content-type: application/json\n",
    "authorization: bearer <token goes here>\n",
    "```"
   ]
  },
  {
   "cell_type": "markdown",
   "metadata": {},
   "source": [
    "## Services response structure\n",
    "All services return a similar data structure (**response message**).  \n",
    "When a request is well formed and the authentication data is correct the system responds with a message envelope as follows: \n",
    "```Javascript\n",
    "{\n",
    "\t\"CorrelationId\": \"<GUID>\", /* for correlation purposes (ex: contact support for troubleshooting) */\n",
    "\t\"IsValid\": true,           /* false in case of erros */\n",
    "\t\"Errors\": [],              /* if empty is a good signal */\n",
    "\t\"Data\": \"<Service Response Data>\"   /* the data retuned ex: token, invoice status .. dependent on the service called */\n",
    "}\n",
    "```\n",
    "\n",
    "### The Errors array\n",
    "Services always return ```http 200``` even if the there are errors on the result.   \n",
    "A service only performed its action succeffully if the ```Isvalid``` property in result is ```true```  \n",
    "When the  the ```Isvalid``` property in result is ```false``` then a list of errors shouls be present in the ```Errors``` array.  \n",
    "### The Error object\n",
    "The ```Errors``` array is a list o ```Error``` objects:  \n",
    "```Javascript   \n",
    "{\n",
    "    \"Code\": \"INVALID_ENUM\", /* The error code */\n",
    "    \"Field\": \"DocumentType\", /* When present, indicates the property responsible for the error */\n",
    "    \"Values\": [ \"INVOIC\" ] /* List of values that help to better error context; in this case INVOIC is not a valid  DocumentType */\n",
    "}\n",
    "```"
   ]
  },
  {
   "cell_type": "markdown",
   "metadata": {},
   "source": [
    "## Pagination services\n",
    "Some query services can return a large set of data (ex: _searching documents_)  \n",
    "These services are tipically designated as _searching services_.  \n",
    "There 3 properties in common with these services:\n",
    "* They provide a mechanism of filtering data via a proprety ```RestrictionCriteria```  \n",
    "* They provide a mechanism _pagination_ retrieving data  \n",
    "* They provide a counting mecanism as a different service that receives the same ```RestrictionCriteria```  \n",
    "### Pagination data\n",
    "\n",
    "Pagination is the the information passed to the service in order to obtain a sub-set (page) of the data.  \n",
    "The pagination info is as following:\n",
    "\n",
    "```Javascript\n",
    "{\n",
    "  \"RestrictionCriteria\": {}, /* Restriction criteria depends on each search service */\n",
    "  \"OrderBy\": null, /* Optional: indicates the property that server should order the data. By default is the Cration Date (when applicable) */\n",
    "  \"OrderDescending\": true, /* Oprional: related to OrderBy property */\n",
    "  \"PageNumber\": 0,  /* Starts at 0. Indicates the sub-set number (page) to be retrieved; Must be used in accordance with RowsPerPage */\n",
    "  \"RowsPerPage\": 20 /* Number of records to be set on each page, Client only receives one page at a time (Page Number) */\n",
    "}\n",
    "\n",
    "```\n",
    "### Restriction criteria\n",
    "The restiction criteria depends on the service that is beeing called. When searching documents we can filter by document number but when searching companies a filter by vat number is more suitable.  \n",
    "The following is a sample of a restriction criteria for searching users  \n",
    "\n",
    "```Javascript\n",
    "{\n",
    "  \"RestrictionCriteria\": {\n",
    "    \"Username\": null,\n",
    "    \"Name\": null,\n",
    "    \"Email\": \"some@email.com\"\n",
    "  }, \n",
    "  \"OrderBy\": null, \n",
    "  \"OrderDescending\": true, \n",
    "  \"PageNumber\": 0, \n",
    "  \"RowsPerPage\": 20 \n",
    "}\n",
    "```\n",
    "### Count service\n",
    "All _searching services_ have a correspondent ```count``` service.   \n",
    "The ```count``` service returns the number of total records that match the ```RestrictionCriteria```"
   ]
  },
  {
   "cell_type": "code",
   "execution_count": null,
   "metadata": {},
   "outputs": [],
   "source": []
  }
 ],
 "metadata": {
  "kernelspec": {
   "display_name": "Python 3",
   "language": "python",
   "name": "python3"
  },
  "language_info": {
   "codemirror_mode": {
    "name": "ipython",
    "version": 3
   },
   "file_extension": ".py",
   "mimetype": "text/x-python",
   "name": "python",
   "nbconvert_exporter": "python",
   "pygments_lexer": "ipython3",
   "version": "3.8.5"
  }
 },
 "nbformat": 4,
 "nbformat_minor": 4
}
