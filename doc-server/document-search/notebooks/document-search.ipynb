{
 "cells": [
  {
   "cell_type": "markdown",
   "metadata": {},
   "source": [
    "# Document search\n",
    "Use this service to **search documents** in **Saphety's Network**."
   ]
  },
  {
   "cell_type": "markdown",
   "metadata": {},
   "source": [
    "## Get a token\n",
    "Check more detail how to get a token in [Services overview](../../services-overview/notebooks/services-overview.ipynb)  "
   ]
  },
  {
   "cell_type": "code",
   "execution_count": 1,
   "metadata": {},
   "outputs": [],
   "source": [
    "# Set Environment\n",
    "#Integration\n",
    "server_base_adress = \"doc-server-int.saphety.com/Doc.WebApi.Services\"\n",
    "#Quality\n",
    "#server_base_adress = \"doc-server-qa.saphety.com/Doc.WebApi.Services\"\n",
    "#Production\n",
    "#server_base_adress = \"doc-server.saphety.com/Doc.WebApi.Services\""
   ]
  },
  {
   "cell_type": "code",
   "execution_count": 2,
   "metadata": {},
   "outputs": [],
   "source": [
    "#Set authorization data\n",
    "#username = 'username'\n",
    "#password = 'request_password'\n",
    "\n",
    "username = 'user_api_doc'\n",
    "password = 'Request_password123.'"
   ]
  },
  {
   "cell_type": "code",
   "execution_count": 3,
   "metadata": {},
   "outputs": [
    {
     "name": "stdout",
     "output_type": "stream",
     "text": [
      "Your authorization token:eyJhbGciOiJIUzI1NiIsInR5cCI6IkpXVCJ9.eyJuYW1laWQiOiI1NDM5NSIsInVuaXF1ZV9uYW1lIjoidXNlcl9hcGlfZG9jIiwic2Vzc2lvbl9pZCI6ImVhZWQ3MzZkLTliMTMtNDJkNC05YmZkLWQ2OTllMTc0NjYyOCIsInN5c3RlbV9hZG1pbiI6IkZhbHNlIiwiZ2xvYl9lZGl0IjoiRmFsc2UiLCJleHRlcm5hbF91c2VybmFtZSI6InVzZXJfYXBpX2RvYyIsImV4dGVybmFsX3N5c3RlbV9hdWRpZW5jZSI6Imh0dHBzOi8vd3d3LnNhcGhldHktaW50LmNvbS9Eb2NTZXJ2ZXIiLCJybCI6IjE0IiwiY3AiOiJQVDU2MDMzMzMzMSIsIm5iZiI6MTY0ODE0MTU0MywiZXhwIjoxNjQ4MTkyNTQzLCJpYXQiOjE2NDgxNDE0ODMsImlzcyI6Imh0dHBzOi8vd3d3LnNhcGhldHkuY29tLyIsImF1ZCI6Imh0dHBzOi8vd3d3LnNhcGhldHktaW50LmNvbS9Eb2NTZXJ2ZXIifQ.NU_HuDzd4cMnhgn9F_EhNnuTCLOjLhN-LXlJ3tuWDaA\n"
     ]
    }
   ],
   "source": [
    "## Get a JWT token from your username and password\n",
    "import requests\n",
    "import json\n",
    "\n",
    "service_url = \"https://\" + server_base_adress + \"/api/Account/token\"\n",
    "\n",
    "# Auhtentication data goes in payload as json\n",
    "payload = {\n",
    "      'Username': username,\n",
    "      'Password': password\n",
    "}\n",
    "# Payload goes in json, serialize the payloal object to json\n",
    "request_data=json.dumps(payload)\n",
    "# Indicate in header that payload is json\n",
    "headers = {\n",
    "    'content-type': 'application/json'\n",
    "    }\n",
    "# POST request to get a token\n",
    "response = requests.request(\"POST\", service_url, data=request_data, headers=headers)\n",
    "# Serializethe response\n",
    "json_response = json.loads(response.text)\n",
    "# Your token is at:\n",
    "token = json_response[\"Data\"];\n",
    "print ('Your authorization token:' + token)"
   ]
  },
  {
   "cell_type": "markdown",
   "metadata": {},
   "source": [
    "### About the restriction criteria\n",
    "You can specify the following restriction creteria:  \n",
    "- **DocNumber**  \n",
    "- **DocNumberList**  \n",
    "- **SenderEntityCode**  \n",
    "- **DestinationEntityCode**   \n",
    "- **DocumentDateStart**  \n",
    "- **DocumentDateEnd**  \n",
    "- **CreationDateStart**  \n",
    "- **CreationDateEnd**  \n",
    "- **LastChangeDateStart**  \n",
    "- **LastChangeDateEnd**  \n",
    "- **DueDateStart**  \n",
    "- **DueDateEnd**  \n",
    "- **TotalPayableStart**  \n",
    "- **TotalPayableEnd**  \n",
    "- **SenderVatNumber**  \n",
    "- **SenderVatNumberCountry**  \n",
    "- **DestinationVatNumber**  \n",
    "- **DestinationVatNumberCountry**  \n",
    "- **SenderDocumentStatusCodes**  \n",
    "- **DestinationDocumentStatusCodes**  \n",
    "- **DocumentsTypeIds**  \n",
    "- **SenderDirectory**  \n",
    "- **DestinyDirectory**  \n",
    "- **SelfBilling**  \n",
    "- **UnreadDocument**  \n",
    "- **IgnoreDraftDirectories**  \n",
    "- **EntityCodes**  \n",
    "- **DocPlatform**  \n",
    "- **MetaInfoKey**  \n",
    "- **MetaInfoValue**  \n",
    "- **ProductIssuerCode**  \n",
    "- **ProductCustomerCode**  \n",
    "- **ProductGTIN**  \n",
    "- **ProductDescription**  \n",
    "- **OriginSystemCode**  \n",
    "- **OrderNumber**  "
   ]
  },
  {
   "cell_type": "code",
   "execution_count": 4,
   "metadata": {},
   "outputs": [
    {
     "name": "stdout",
     "output_type": "stream",
     "text": [
      "<Response [200]>\n",
      "{\n",
      "    \"CorrelationId\": \"07754385-2211-45d5-b388-743a1faf0db6\",\n",
      "    \"IsValid\": true,\n",
      "    \"Errors\": [],\n",
      "    \"Data\": [\n",
      "        {\n",
      "            \"ID\": 2833651,\n",
      "            \"DocNumber\": \"INVOICE20210615-00\",\n",
      "            \"DocumentType\": \"INVOICE\",\n",
      "            \"SubType\": null,\n",
      "            \"IsCertified\": false,\n",
      "            \"IsSelfInvoice\": false,\n",
      "            \"IsDeleted\": false,\n",
      "            \"IsUnread\": false,\n",
      "            \"OrderReference\": \"ORDER20210615-000\",\n",
      "            \"InvoiceReference\": null,\n",
      "            \"DocPlatform\": \"Electronic\",\n",
      "            \"LastChangeDate\": \"2021-06-15 13:23:29\",\n",
      "            \"CreationDate\": \"2021-06-15 10:56:36\",\n",
      "            \"InTransportMessageId\": \"3d559e1d-4593-4c14-9546-c16fd8ff8bec\",\n",
      "            \"InTransportDocumentId\": \"3d559e1d-4593-4c14-9546-c16fd8ff8bec\",\n",
      "            \"OutTransportMessageId\": \"ac09853c-3cff-40af-865f-77192e9e3c81\",\n",
      "            \"OutTransportDocumentId\": null,\n",
      "            \"DueDate\": null,\n",
      "            \"ContractConsumerId\": null,\n",
      "            \"ContractId\": null,\n",
      "            \"Currency\": \"EUR\",\n",
      "            \"TotalStampDutyAmount\": null,\n",
      "            \"TotalVAT\": 23.0,\n",
      "            \"TotalPayable\": 123.0,\n",
      "            \"TotalTaxable\": 100.0,\n",
      "            \"TaxAuthorityUniqueDocumentId\": null,\n",
      "            \"ArchiveOnly\": false,\n",
      "            \"ArchiveOnlyForDestination\": false,\n",
      "            \"SendToFinishing\": false,\n",
      "            \"Reprocessed\": false,\n",
      "            \"Editor\": null,\n",
      "            \"ErrorDescription\": null,\n",
      "            \"DocumentDate\": \"2021-06-15 00:00:00\",\n",
      "            \"AuthorId\": 421,\n",
      "            \"AuthorName\": \"jorge\",\n",
      "            \"SenderEntityCode\": \"PT507957547\",\n",
      "            \"SenderEntityName\": \"SAPHETY LEVEL - TRUSTED SERVICES\",\n",
      "            \"SenderEntityVatNumber\": \"507957547\",\n",
      "            \"SenderEntityCountryCode\": \"PT\",\n",
      "            \"SenderEntitySubDivision\": \"PT560333331\",\n",
      "            \"SenderDirectory\": 2,\n",
      "            \"SenderDocumentState\": \"DOCSTS_SENT\",\n",
      "            \"DestinationEntityCode\": \"PT560333331\",\n",
      "            \"DestinationEntityName\": \"Company API DOC\",\n",
      "            \"DestinationEntityVatNumber\": \"560333331\",\n",
      "            \"DestinationEntityCountryCode\": \"PT\",\n",
      "            \"DestinationEntitySubDivision\": \"PT560333331\",\n",
      "            \"DestinyDirectory\": 1,\n",
      "            \"DestinationDocumentState\": \"DOCSTS_SENT\",\n",
      "            \"DocumentMetaInfos\": [],\n",
      "            \"DocumentReferences\": [\n",
      "                {\n",
      "                    \"Key\": \"ORDER_NOTE\",\n",
      "                    \"Value\": \"ORDER20210615-000\",\n",
      "                    \"IsHeaderLevelReference\": true\n",
      "                }\n",
      "            ],\n",
      "            \"DocumentComments\": [],\n",
      "            \"OriginSystemCode\": null,\n",
      "            \"OriginSystemId\": null,\n",
      "            \"DestinationSystemId\": null,\n",
      "            \"NotificationStatus\": null\n",
      "        }\n",
      "    ]\n",
      "}\n"
     ]
    }
   ],
   "source": [
    "service_url = \"https://\" + server_base_adress + \"/api/Document/search\"\n",
    "\n",
    "# Search criteria data goes in payload as json\n",
    "payload = {\n",
    "  'RestrictionCriteria': {\n",
    "    'DocNumber': 'INVOICE20210615-00',\n",
    "    'DestinationEntityCode': \"PT560333331\"\n",
    "  },\n",
    "  'PageNumber': 0,\n",
    "  'RowsPerPage': 20\n",
    "}\n",
    "# Payload goes in json, serialize the payloal object to json\n",
    "request_data=json.dumps(payload)\n",
    "# Indicate in header the authorization token\n",
    "headers = {\n",
    "    'content-type': 'application/json',\n",
    "     'Authorization': 'bearer ' + token\n",
    "    }\n",
    "# POST request to get a token\n",
    "response = requests.request(\"POST\", service_url, data=request_data, headers=headers)\n",
    "print (response)\n",
    "# Serializethe response\n",
    "json_response = json.loads(response.text)\n",
    "print(json.dumps(json_response, indent=4))"
   ]
  }
 ],
 "metadata": {
  "kernelspec": {
   "display_name": "Python 3 (ipykernel)",
   "language": "python",
   "name": "python3"
  },
  "language_info": {
   "codemirror_mode": {
    "name": "ipython",
    "version": 3
   },
   "file_extension": ".py",
   "mimetype": "text/x-python",
   "name": "python",
   "nbconvert_exporter": "python",
   "pygments_lexer": "ipython3",
   "version": "3.9.7"
  }
 },
 "nbformat": 4,
 "nbformat_minor": 4
}
